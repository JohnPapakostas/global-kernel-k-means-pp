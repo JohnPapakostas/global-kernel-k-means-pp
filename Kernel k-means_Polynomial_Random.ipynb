{
 "cells": [
  {
   "cell_type": "markdown",
   "id": "8157a5de",
   "metadata": {},
   "source": [
    "###  Libraries"
   ]
  },
  {
   "cell_type": "code",
   "execution_count": 1,
   "id": "1ec8df66",
   "metadata": {},
   "outputs": [
    {
     "name": "stderr",
     "output_type": "stream",
     "text": [
      "c:\\Users\\PAPASOFT INC\\AppData\\Local\\Programs\\Python\\Python311\\Lib\\site-packages\\tslearn\\bases\\bases.py:15: UserWarning: h5py not installed, hdf5 features will not be supported.\n",
      "Install h5py to use hdf5 features: http://docs.h5py.org/\n",
      "  warn(h5py_msg)\n"
     ]
    }
   ],
   "source": [
    "import numpy as np\n",
    "from sklearn.cluster import KMeans\n",
    "from sklearn.metrics.pairwise import pairwise_kernels\n",
    "from tslearn.clustering import KernelKMeans as TSKernelKMeans\n",
    "from KernelKMeans import KernelKMeans\n",
    "from GlobalKernelKMeans import GlobalKernelKMeans, GlobalKernelKMeansPP \n",
    "from Datasets.Datasets_Functions import *\n",
    "from Rings import Rings\n",
    "from Common_Modules.Evaluation import Evaluator\n",
    "from Common_Modules.Graph import Graph\n",
    "from Common_Modules.Visualization import Visualization\n",
    "from Common_Modules.General_Functions import General_Functions"
   ]
  },
  {
   "cell_type": "markdown",
   "id": "701fd6bc",
   "metadata": {},
   "source": [
    "### Switches"
   ]
  },
  {
   "cell_type": "code",
   "execution_count": 2,
   "id": "e998f1c2",
   "metadata": {},
   "outputs": [],
   "source": [
    "plot_is_enabled = False\n",
    "two_rings_is_enabled = False\n",
    "three_rings_is_enabled = False\n",
    "one_ring_with_two_gaussians_is_enabled = False\n",
    "three_rings_paper_is_enabled = False\n",
    "graph_is_enabled = False\n",
    "real_dataset_is_enabled = True\n",
    "kMeans_is_enabled = False\n",
    "kernelKMeans_is_enabled = False\n",
    "kernelKMeansPP_is_enabled = True\n",
    "globalKernelKMeans_is_enabled = False\n",
    "globalKernelKMeansPP_is_enabled = True"
   ]
  },
  {
   "cell_type": "markdown",
   "id": "a5718e92",
   "metadata": {},
   "source": [
    "### Global Variables"
   ]
  },
  {
   "cell_type": "code",
   "execution_count": 3,
   "id": "de6245c2",
   "metadata": {},
   "outputs": [],
   "source": [
    "seed = 42\n",
    "evaluator = Evaluator()\n",
    "n_candidates = n_init = 100\n",
    "kernels = [\"cosine\", \"polynomial\", \"rbf\"]\n",
    "kernel = kernels[1]\n",
    "degree = 3\n",
    "coef0  = 1"
   ]
  },
  {
   "cell_type": "markdown",
   "id": "eec895e5",
   "metadata": {},
   "source": [
    "### Visualization"
   ]
  },
  {
   "cell_type": "code",
   "execution_count": 4,
   "id": "78f34d42",
   "metadata": {},
   "outputs": [],
   "source": [
    "visualization = Visualization()\n",
    "colors = ['red', 'blue', 'green', 'orange', 'purple', 'yellow', 'black', 'cyan', 'gray', 'lime']"
   ]
  },
  {
   "cell_type": "markdown",
   "id": "d4f37574",
   "metadata": {},
   "source": [
    "### Load Dataset"
   ]
  },
  {
   "cell_type": "markdown",
   "id": "9d329be0",
   "metadata": {},
   "source": [
    "### 2Rings"
   ]
  },
  {
   "cell_type": "code",
   "execution_count": 5,
   "id": "85ea1db3",
   "metadata": {},
   "outputs": [],
   "source": [
    "if(two_rings_is_enabled):\n",
    "    centers_coordinates = [(-2, 2), (2, 2), (6, 2), (5, 6), (-1, 6), (2, 10), (5, -2), (2, -6), (-1, -2)]\n",
    "    \n",
    "    #centers_coordinates = [(-2, 2), (2, 2), (6, 2), (2, 10), (2, -6)]\n",
    "    \n",
    "    #centers_coordinates = [(-1, 2), (2, 2)]\n",
    "    rings = Rings()\n",
    "    \n",
    "    X, y = rings.make_rings_pairs(centers_coordinates=centers_coordinates, n_samples=100, factor=0.2, noise=0.0)\n",
    "        \n",
    "    K = 2 * len(centers_coordinates)\n",
    "    print(K)\n",
    "    kernel_matrix = pairwise_kernels(X, X, metric='rbf', gamma=1)\n",
    "    dataset_name = f\"{K}Rings\"\n",
    "    data_dir_path = f\"Results\\\\{dataset_name}\\\\{kernel}\\\\{n_init}\\\\\"\n",
    "    General_Functions().create_directory(data_dir_path)\n",
    "    visualization.plot(X, y, data_dir_path=f\"{data_dir_path}Generated.png\")"
   ]
  },
  {
   "cell_type": "markdown",
   "id": "e363a2bd",
   "metadata": {},
   "source": [
    "### 3Rings"
   ]
  },
  {
   "cell_type": "code",
   "execution_count": 6,
   "id": "e0e0b0a9",
   "metadata": {},
   "outputs": [],
   "source": [
    "if (three_rings_is_enabled):\n",
    "    colors = ['#1f77b4', '#ff7f0e', '#2ca02c']\n",
    "    rings = Rings()\n",
    "\n",
    "    centers_coordinates = [(0, 0)]\n",
    "    X, y = rings.make_concentric_rings(centers_coordinates=centers_coordinates, n_samples=150, radii=[1, 10, 25], noise=0)\n",
    "    \n",
    "    K = 3 * len(centers_coordinates)\n",
    "    kernel_matrix = pairwise_kernels(X, X, metric='sigmoid')"
   ]
  },
  {
   "cell_type": "markdown",
   "id": "6dc6e715",
   "metadata": {},
   "source": [
    "### 1 Ring with 2 Gaussians Inside"
   ]
  },
  {
   "cell_type": "code",
   "execution_count": 7,
   "id": "99acc8e3",
   "metadata": {},
   "outputs": [],
   "source": [
    "if(one_ring_with_two_gaussians_is_enabled):\n",
    "    rings = Rings()\n",
    "    centers_coordinates = [(0, 0), (20, 0)]\n",
    "    X, y = rings.make_multiple_rings_with_gaussians(centers_coordinates, n_samples=50, radius=5, noise=0.0, gaussian_samples=30)\n",
    "    X, y = rings.make_spiral(n_samples=100, noise=0.0, n_turns=1)\n",
    "    \n",
    "    K = 2 #4 * len(centers_coordinates)\n",
    "        \n",
    "    gamma = General_Functions.calculate_gamma_scale(X)\n",
    "    #gamma = 1/X.shape[1]\n",
    "    kernel = kernels[2]\n",
    "    print(gamma)\n",
    "    kernel_matrix = pairwise_kernels(X, X, metric=kernel, gamma=gamma)\n",
    "    dataset_name = f\"{int(K/3)}Rings_{int((2*K)/3)}Gaussians\"\n",
    "    data_dir_path = f\"Results\\\\{dataset_name}\\\\{kernel}\\\\{n_init}\\\\\"\n",
    "    General_Functions().create_directory(data_dir_path)\n",
    "    visualization.plot(X, y, data_dir_path=f\"{data_dir_path}Generated.png\")\n",
    "    print(len(y))"
   ]
  },
  {
   "cell_type": "markdown",
   "id": "d30f33c9",
   "metadata": {},
   "source": [
    "### 3Rings Paper"
   ]
  },
  {
   "cell_type": "code",
   "execution_count": 8,
   "id": "14ed84e0",
   "metadata": {},
   "outputs": [],
   "source": [
    "if (three_rings_paper_is_enabled):\n",
    "    rings = Rings(colors=colors)\n",
    "    K = 3\n",
    "    X, y, kernel_matrix = rings.global_kernel_k_means_three_rings()\n",
    "    rings.plot(X,y)"
   ]
  },
  {
   "cell_type": "markdown",
   "id": "dd74cf65",
   "metadata": {},
   "source": [
    "### Graphs"
   ]
  },
  {
   "cell_type": "code",
   "execution_count": 9,
   "id": "09282f0d",
   "metadata": {},
   "outputs": [],
   "source": [
    "if(graph_is_enabled):\n",
    "    K = 10\n",
    "    graph = Graph(n_communities=K, n_nodes_per_community=10, p_intra=1, p_inter=0.01, colors=colors)\n",
    "    dataset_name = f\"Graph_NPC_{graph.n_nodes_per_community}_PIntra_{graph.p_intra}_PInter_{graph.p_inter}\"\n",
    "    graph.create_adj_matrix()\n",
    "    kernel_matrix = graph.adj_matrix = pairwise_kernels(graph.adj_matrix, graph.adj_matrix, metric='linear')\n",
    "    data_dir_path = f\"Results\\\\{dataset_name}\\\\{kernel}\\\\{n_init}\\\\\"\n",
    "    General_Functions.create_directory(data_dir_path)"
   ]
  },
  {
   "cell_type": "markdown",
   "id": "7b9835fe",
   "metadata": {},
   "source": [
    "### Real Dataset"
   ]
  },
  {
   "cell_type": "code",
   "execution_count": 10,
   "id": "7a7cf5f4",
   "metadata": {},
   "outputs": [
    {
     "name": "stderr",
     "output_type": "stream",
     "text": [
      "c:\\Users\\PAPASOFT INC\\AppData\\Local\\Programs\\Python\\Python311\\Lib\\site-packages\\scikit_learn-1.3.1-py3.11-win-amd64.egg\\sklearn\\preprocessing\\_label.py:114: DataConversionWarning: A column-vector y was passed when a 1d array was expected. Please change the shape of y to (n_samples, ), for example using ravel().\n",
      "  y = column_or_1d(y, warn=True)\n"
     ]
    },
    {
     "name": "stdout",
     "output_type": "stream",
     "text": [
      "Date Number is: 5000\n",
      "Data_Shape is: 22\n",
      "Directory 'Results\\waveform_v1\\polynomial\\100\\1.4534823391903635\\' already exists.\n"
     ]
    }
   ],
   "source": [
    "if (real_dataset_is_enabled):\n",
    "    dataset_names = [\"breast_cancer\", \"dermatology\", \"ecoli\", \"iris\", \"olivetti_faces\", \"pendigits\", \"waveform_v1\", \"wine\"]\n",
    "    dataset_name = dataset_names[6] \n",
    "    module_name = \"Datasets.Datasets\"\n",
    "    batch_size = 16\n",
    "    dataloader, input_dim, X, y = function_get_dataset(dataset_name, module_name, batch_size)\n",
    "    print('Date Number is:', len(y))\n",
    "    print('Data_Shape is:', input_dim)\n",
    "    K = len(np.unique(y))\n",
    "    gamma = General_Functions.calculate_gamma_scale(X)\n",
    "    kernel_matrix = pairwise_kernels(X, X, metric=kernel, gamma=gamma, degree=degree, coef0=coef0)\n",
    "    data_dir_path = f\"Results\\\\{dataset_name}\\\\{kernel}\\\\{n_init}\\\\{gamma}\\\\\"\n",
    "    General_Functions().create_directory(data_dir_path)\n",
    "    K = 50"
   ]
  },
  {
   "cell_type": "markdown",
   "id": "f5e3a280",
   "metadata": {},
   "source": [
    "### kMeans"
   ]
  },
  {
   "cell_type": "code",
   "execution_count": 11,
   "id": "f54c05ad",
   "metadata": {},
   "outputs": [],
   "source": [
    "if(kMeans_is_enabled):\n",
    "    kmeans = KMeans(n_clusters=K).fit(X)\n",
    "    acc, pur, nmi, ari = evaluator.evaluate_model(y, kmeans.labels_)\n",
    "    evaluator.print_evaluation()\n",
    "    if(plot_is_enabled):\n",
    "        visualization.plot_tsne(X, y, data_dir_path=\"Figures\\\\\"+dataset_name)"
   ]
  },
  {
   "cell_type": "markdown",
   "id": "ca418be2",
   "metadata": {},
   "source": [
    "### Kernel kMeans"
   ]
  },
  {
   "cell_type": "code",
   "execution_count": 12,
   "id": "8139e828",
   "metadata": {},
   "outputs": [],
   "source": [
    "if(kernelKMeans_is_enabled):\n",
    "    kernel_kmeans = TSKernelKMeans(n_clusters=K, n_init=10, kernel='precomputed').fit(kernel_matrix)\n",
    "    acc, pur, nmi, ari = evaluator.evaluate_model(y, kernel_kmeans.labels_)\n",
    "    evaluator.print_evaluation()\n",
    "    if(plot_is_enabled):\n",
    "        visualization.plot_tsne(X, y, data_dir_path=\"Figures\\\\\"+dataset_name)"
   ]
  },
  {
   "cell_type": "markdown",
   "id": "12d1a9fc",
   "metadata": {},
   "source": [
    "### Kernel kMeans++"
   ]
  },
  {
   "cell_type": "code",
   "execution_count": 13,
   "id": "f56cc1a7",
   "metadata": {},
   "outputs": [],
   "source": [
    "if(kernelKMeansPP_is_enabled):\n",
    "    initialization_methods = [\"forgy\", \"random\", \"k-means++\"]\n",
    "    n_iters_ = {}\n",
    "    execution_times_ = {}\n",
    "    inertias_ = {}\n",
    "    init = initialization_methods[2]\n",
    "    prev_K = K\n",
    "    K = 2\n",
    "    while (K != prev_K + 1):\n",
    "        kernelKMeans = KernelKMeans(n_clusters=K, kernel_matrix=kernel_matrix, n_init=n_init, init=init, verbose=0)\n",
    "        kernelKMeans.fit()\n",
    "        \n",
    "        if(plot_is_enabled):\n",
    "            if graph_is_enabled:\n",
    "                graph.plot_clusters(kernelKMeans.labels_)\n",
    "            else:\n",
    "                visualization.plot(X, kernelKMeans.labels_, data_dir_path=data_dir_path + \"KernelKMeans_\" + init)                \n",
    "        \n",
    "        n_iters_[K] = sum(kernelKMeans.n_iters_.values())\n",
    "        execution_times_[K] = sum(kernelKMeans.execution_times_.values())\n",
    "        inertias_[K] = kernelKMeans.inertia_\n",
    "        new_row = { \"K\": K, \"MSE\": inertias_[K], \"ITERATIONS\": n_iters_[K], \"EXECUTION TIME\": execution_times_[K]}\n",
    "        General_Functions.append_to_csv(f\"{data_dir_path}KernelKMeans_Dataset_{dataset_name}_Init_{init}_Kernel_{kernel}_K_{prev_K}_Inits_{n_init}_Results.csv\", new_row)\n",
    "        K += 1\n",
    "    K = prev_K   "
   ]
  },
  {
   "cell_type": "markdown",
   "id": "34983f02",
   "metadata": {},
   "source": [
    "### Global Kernel kMeans"
   ]
  },
  {
   "cell_type": "code",
   "execution_count": 14,
   "id": "1bfc8729",
   "metadata": {},
   "outputs": [
    {
     "name": "stdout",
     "output_type": "stream",
     "text": [
      "Solving Kernel 2-means\n"
     ]
    },
    {
     "ename": "KeyboardInterrupt",
     "evalue": "",
     "output_type": "error",
     "traceback": [
      "\u001b[1;31m---------------------------------------------------------------------------\u001b[0m",
      "\u001b[1;31mKeyboardInterrupt\u001b[0m                         Traceback (most recent call last)",
      "Cell \u001b[1;32mIn[14], line 3\u001b[0m\n\u001b[0;32m      1\u001b[0m \u001b[38;5;28;01mif\u001b[39;00m(globalKernelKMeans_is_enabled):\n\u001b[0;32m      2\u001b[0m     globalKernelKMeans \u001b[38;5;241m=\u001b[39m GlobalKernelKMeans(n_clusters\u001b[38;5;241m=\u001b[39mK, kernel_matrix\u001b[38;5;241m=\u001b[39mkernel_matrix, data_dir_path\u001b[38;5;241m=\u001b[39m\u001b[38;5;124mf\u001b[39m\u001b[38;5;124m\"\u001b[39m\u001b[38;5;132;01m{\u001b[39;00mdata_dir_path\u001b[38;5;132;01m}\u001b[39;00m\u001b[38;5;124mGlobalKernelKMeans_Dataset_\u001b[39m\u001b[38;5;132;01m{\u001b[39;00mdataset_name\u001b[38;5;132;01m}\u001b[39;00m\u001b[38;5;124m_Kernel_\u001b[39m\u001b[38;5;132;01m{\u001b[39;00mkernel\u001b[38;5;132;01m}\u001b[39;00m\u001b[38;5;124m_K_\u001b[39m\u001b[38;5;132;01m{\u001b[39;00mK\u001b[38;5;132;01m}\u001b[39;00m\u001b[38;5;124m_Inits_\u001b[39m\u001b[38;5;132;01m{\u001b[39;00mn_init\u001b[38;5;132;01m}\u001b[39;00m\u001b[38;5;124m_Results.csv\u001b[39m\u001b[38;5;124m\"\u001b[39m, verbose\u001b[38;5;241m=\u001b[39m\u001b[38;5;241m1\u001b[39m)\n\u001b[1;32m----> 3\u001b[0m     \u001b[43mglobalKernelKMeans\u001b[49m\u001b[38;5;241;43m.\u001b[39;49m\u001b[43mfit\u001b[49m\u001b[43m(\u001b[49m\u001b[43m)\u001b[49m\n\u001b[0;32m      5\u001b[0m     \u001b[38;5;28;01mif\u001b[39;00m(plot_is_enabled):\n\u001b[0;32m      6\u001b[0m         \u001b[38;5;28;01mif\u001b[39;00m graph_is_enabled:\n",
      "File \u001b[1;32mc:\\Users\\PAPASOFT INC\\Documents\\GitHub\\global-kernel-k-means-pp\\GlobalKernelKMeans.py:137\u001b[0m, in \u001b[0;36mGlobalKernelKMeans.fit\u001b[1;34m(self, X, y, sample_weight)\u001b[0m\n\u001b[0;32m    134\u001b[0m prev_xi_label \u001b[38;5;241m=\u001b[39m initial_labels_[i]\n\u001b[0;32m    135\u001b[0m initial_labels_[i] \u001b[38;5;241m=\u001b[39m k\u001b[38;5;241m-\u001b[39m\u001b[38;5;241m1\u001b[39m\n\u001b[1;32m--> 137\u001b[0m kernelKMeans \u001b[38;5;241m=\u001b[39m \u001b[43mKernelKMeans\u001b[49m\u001b[43m(\u001b[49m\u001b[43mn_clusters\u001b[49m\u001b[38;5;241;43m=\u001b[39;49m\u001b[43mk\u001b[49m\u001b[43m,\u001b[49m\u001b[43m \u001b[49m\u001b[43mkernel_matrix\u001b[49m\u001b[38;5;241;43m=\u001b[39;49m\u001b[38;5;28;43mself\u001b[39;49m\u001b[38;5;241;43m.\u001b[39;49m\u001b[43mkernel_matrix\u001b[49m\u001b[43m,\u001b[49m\u001b[43m \u001b[49m\u001b[43mn_init\u001b[49m\u001b[38;5;241;43m=\u001b[39;49m\u001b[38;5;241;43m1\u001b[39;49m\u001b[43m,\u001b[49m\u001b[43m \u001b[49m\u001b[43minitial_labels_\u001b[49m\u001b[38;5;241;43m=\u001b[39;49m\u001b[43mnp\u001b[49m\u001b[38;5;241;43m.\u001b[39;49m\u001b[43mcopy\u001b[49m\u001b[43m(\u001b[49m\u001b[43minitial_labels_\u001b[49m\u001b[43m)\u001b[49m\u001b[43m,\u001b[49m\u001b[43m \u001b[49m\u001b[43mverbose\u001b[49m\u001b[38;5;241;43m=\u001b[39;49m\u001b[38;5;241;43m0\u001b[39;49m\u001b[43m)\u001b[49m\u001b[38;5;241;43m.\u001b[39;49m\u001b[43mfit\u001b[49m\u001b[43m(\u001b[49m\u001b[43m)\u001b[49m\n\u001b[0;32m    138\u001b[0m \u001b[38;5;28mself\u001b[39m\u001b[38;5;241m.\u001b[39mn_iter_ \u001b[38;5;241m+\u001b[39m\u001b[38;5;241m=\u001b[39m kernelKMeans\u001b[38;5;241m.\u001b[39mn_iter_\n\u001b[0;32m    140\u001b[0m initial_labels_[i] \u001b[38;5;241m=\u001b[39m prev_xi_label\n",
      "File \u001b[1;32mc:\\Users\\PAPASOFT INC\\Documents\\GitHub\\global-kernel-k-means-pp\\KernelKMeans.py:177\u001b[0m, in \u001b[0;36mKernelKMeans.fit\u001b[1;34m(self)\u001b[0m\n\u001b[0;32m    174\u001b[0m \u001b[38;5;28;01mif\u001b[39;00m(\u001b[38;5;28mself\u001b[39m\u001b[38;5;241m.\u001b[39minitial_labels_ \u001b[38;5;129;01mis\u001b[39;00m \u001b[38;5;28;01mNone\u001b[39;00m):\n\u001b[0;32m    175\u001b[0m     \u001b[38;5;28mself\u001b[39m\u001b[38;5;241m.\u001b[39minitial_labels_ \u001b[38;5;241m=\u001b[39m \u001b[38;5;28mself\u001b[39m\u001b[38;5;241m.\u001b[39minitialization\u001b[38;5;241m.\u001b[39mcalculate_initial_partition(\u001b[38;5;28mself\u001b[39m\u001b[38;5;241m.\u001b[39mn_clusters, \u001b[38;5;28mself\u001b[39m\u001b[38;5;241m.\u001b[39mN, \u001b[38;5;28mself\u001b[39m\u001b[38;5;241m.\u001b[39mkernel_matrix, \u001b[38;5;28mself\u001b[39m\u001b[38;5;241m.\u001b[39minit)\n\u001b[1;32m--> 177\u001b[0m current_labels_, current_inertia_ \u001b[38;5;241m=\u001b[39m \u001b[38;5;28;43mself\u001b[39;49m\u001b[38;5;241;43m.\u001b[39;49m\u001b[43m__kernel_kmeans_functionallity\u001b[49m\u001b[43m(\u001b[49m\u001b[43minitial_labels_\u001b[49m\u001b[43m \u001b[49m\u001b[38;5;241;43m=\u001b[39;49m\u001b[43m \u001b[49m\u001b[43mnp\u001b[49m\u001b[38;5;241;43m.\u001b[39;49m\u001b[43mcopy\u001b[49m\u001b[43m(\u001b[49m\u001b[38;5;28;43mself\u001b[39;49m\u001b[38;5;241;43m.\u001b[39;49m\u001b[43minitial_labels_\u001b[49m\u001b[43m)\u001b[49m\u001b[43m,\u001b[49m\u001b[43m \u001b[49m\u001b[43mkernel_matrix\u001b[49m\u001b[38;5;241;43m=\u001b[39;49m\u001b[38;5;28;43mself\u001b[39;49m\u001b[38;5;241;43m.\u001b[39;49m\u001b[43mkernel_matrix\u001b[49m\u001b[43m)\u001b[49m\n\u001b[0;32m    179\u001b[0m \u001b[38;5;28mself\u001b[39m\u001b[38;5;241m.\u001b[39minitial_labels_ \u001b[38;5;241m=\u001b[39m \u001b[38;5;28;01mNone\u001b[39;00m\n\u001b[0;32m    181\u001b[0m \u001b[38;5;28;01mif\u001b[39;00m(current_inertia_ \u001b[38;5;241m==\u001b[39m \u001b[38;5;28;01mNone\u001b[39;00m \u001b[38;5;129;01mand\u001b[39;00m current_labels_ \u001b[38;5;241m==\u001b[39m \u001b[38;5;28;01mNone\u001b[39;00m):\n",
      "File \u001b[1;32mc:\\Users\\PAPASOFT INC\\Documents\\GitHub\\global-kernel-k-means-pp\\KernelKMeans.py:141\u001b[0m, in \u001b[0;36mKernelKMeans.__kernel_kmeans_functionallity\u001b[1;34m(self, initial_labels_, kernel_matrix)\u001b[0m\n\u001b[0;32m    138\u001b[0m         \u001b[38;5;28;01mreturn\u001b[39;00m \u001b[38;5;28;01mNone\u001b[39;00m, \u001b[38;5;28;01mNone\u001b[39;00m\n\u001b[0;32m    140\u001b[0m     stable_sum \u001b[38;5;241m=\u001b[39m np\u001b[38;5;241m.\u001b[39msum(kernel_matrix[np\u001b[38;5;241m.\u001b[39mix_(cluster_indices, cluster_indices)]) \u001b[38;5;241m/\u001b[39m (n_cluster_samples \u001b[38;5;241m*\u001b[39m\u001b[38;5;241m*\u001b[39m \u001b[38;5;241m2\u001b[39m)\n\u001b[1;32m--> 141\u001b[0m     sample_sums \u001b[38;5;241m=\u001b[39m \u001b[43mnp\u001b[49m\u001b[38;5;241;43m.\u001b[39;49m\u001b[43msum\u001b[49m\u001b[43m(\u001b[49m\u001b[43mkernel_matrix\u001b[49m\u001b[43m[\u001b[49m\u001b[43m:\u001b[49m\u001b[43m,\u001b[49m\u001b[43m \u001b[49m\u001b[43mcluster_indices\u001b[49m\u001b[43m]\u001b[49m\u001b[43m,\u001b[49m\u001b[43m \u001b[49m\u001b[43maxis\u001b[49m\u001b[38;5;241;43m=\u001b[39;49m\u001b[38;5;241;43m1\u001b[39;49m\u001b[43m)\u001b[49m \u001b[38;5;241m/\u001b[39m n_cluster_samples\n\u001b[0;32m    143\u001b[0m     distances[i] \u001b[38;5;241m=\u001b[39m kernel_diag \u001b[38;5;241m-\u001b[39m \u001b[38;5;241m2\u001b[39m \u001b[38;5;241m*\u001b[39m sample_sums \u001b[38;5;241m+\u001b[39m stable_sum\n\u001b[0;32m    145\u001b[0m \u001b[38;5;28mself\u001b[39m\u001b[38;5;241m.\u001b[39mmin_distances \u001b[38;5;241m=\u001b[39m np\u001b[38;5;241m.\u001b[39mmin(distances, axis\u001b[38;5;241m=\u001b[39m\u001b[38;5;241m0\u001b[39m)\n",
      "File \u001b[1;32mc:\\Users\\PAPASOFT INC\\AppData\\Local\\Programs\\Python\\Python311\\Lib\\site-packages\\numpy\\core\\fromnumeric.py:2172\u001b[0m, in \u001b[0;36m_sum_dispatcher\u001b[1;34m(a, axis, dtype, out, keepdims, initial, where)\u001b[0m\n\u001b[0;32m   2102\u001b[0m \u001b[38;5;250m    \u001b[39m\u001b[38;5;124;03m\"\"\"\u001b[39;00m\n\u001b[0;32m   2103\u001b[0m \u001b[38;5;124;03m    Clip (limit) the values in an array.\u001b[39;00m\n\u001b[0;32m   2104\u001b[0m \n\u001b[1;32m   (...)\u001b[0m\n\u001b[0;32m   2167\u001b[0m \n\u001b[0;32m   2168\u001b[0m \u001b[38;5;124;03m    \"\"\"\u001b[39;00m\n\u001b[0;32m   2169\u001b[0m     \u001b[38;5;28;01mreturn\u001b[39;00m _wrapfunc(a, \u001b[38;5;124m'\u001b[39m\u001b[38;5;124mclip\u001b[39m\u001b[38;5;124m'\u001b[39m, a_min, a_max, out\u001b[38;5;241m=\u001b[39mout, \u001b[38;5;241m*\u001b[39m\u001b[38;5;241m*\u001b[39mkwargs)\n\u001b[1;32m-> 2172\u001b[0m \u001b[38;5;28;01mdef\u001b[39;00m \u001b[38;5;21m_sum_dispatcher\u001b[39m(a, axis\u001b[38;5;241m=\u001b[39m\u001b[38;5;28;01mNone\u001b[39;00m, dtype\u001b[38;5;241m=\u001b[39m\u001b[38;5;28;01mNone\u001b[39;00m, out\u001b[38;5;241m=\u001b[39m\u001b[38;5;28;01mNone\u001b[39;00m, keepdims\u001b[38;5;241m=\u001b[39m\u001b[38;5;28;01mNone\u001b[39;00m,\n\u001b[0;32m   2173\u001b[0m                     initial\u001b[38;5;241m=\u001b[39m\u001b[38;5;28;01mNone\u001b[39;00m, where\u001b[38;5;241m=\u001b[39m\u001b[38;5;28;01mNone\u001b[39;00m):\n\u001b[0;32m   2174\u001b[0m     \u001b[38;5;28;01mreturn\u001b[39;00m (a, out)\n\u001b[0;32m   2177\u001b[0m \u001b[38;5;129m@array_function_dispatch\u001b[39m(_sum_dispatcher)\n\u001b[0;32m   2178\u001b[0m \u001b[38;5;28;01mdef\u001b[39;00m \u001b[38;5;21msum\u001b[39m(a, axis\u001b[38;5;241m=\u001b[39m\u001b[38;5;28;01mNone\u001b[39;00m, dtype\u001b[38;5;241m=\u001b[39m\u001b[38;5;28;01mNone\u001b[39;00m, out\u001b[38;5;241m=\u001b[39m\u001b[38;5;28;01mNone\u001b[39;00m, keepdims\u001b[38;5;241m=\u001b[39mnp\u001b[38;5;241m.\u001b[39m_NoValue,\n\u001b[0;32m   2179\u001b[0m         initial\u001b[38;5;241m=\u001b[39mnp\u001b[38;5;241m.\u001b[39m_NoValue, where\u001b[38;5;241m=\u001b[39mnp\u001b[38;5;241m.\u001b[39m_NoValue):\n",
      "\u001b[1;31mKeyboardInterrupt\u001b[0m: "
     ]
    }
   ],
   "source": [
    "if(globalKernelKMeans_is_enabled):\n",
    "    globalKernelKMeans = GlobalKernelKMeans(n_clusters=K, kernel_matrix=kernel_matrix, data_dir_path=f\"{data_dir_path}GlobalKernelKMeans_Dataset_{dataset_name}_Kernel_{kernel}_K_{K}_Inits_{n_init}_Results.csv\", verbose=1)\n",
    "    globalKernelKMeans.fit()\n",
    "    \n",
    "    if(plot_is_enabled):\n",
    "        if graph_is_enabled:\n",
    "            graph.plot_clusters(globalKernelKMeans.labels_[K])\n",
    "        else:\n",
    "            visualization.plot(X, globalKernelKMeans.labels_[K], data_dir_path=f\"{data_dir_path}GlobalKernelKMeans\")"
   ]
  },
  {
   "cell_type": "markdown",
   "id": "dabdbeaf",
   "metadata": {},
   "source": [
    "### Global Kernel kMeans++"
   ]
  },
  {
   "cell_type": "code",
   "execution_count": 16,
   "id": "ecff347c",
   "metadata": {},
   "outputs": [
    {
     "name": "stdout",
     "output_type": "stream",
     "text": [
      "Solving 2-means\n",
      "Solved 2-means MSE: 921250.033305008 in 216.24739575386047s\n",
      "Solving 3-means\n",
      "Solved 3-means MSE: 760418.4831399715 in 466.80363750457764s\n",
      "Solving 4-means\n",
      "Solved 4-means MSE: 677498.5633468169 in 564.4126832485199s\n",
      "Solving 5-means\n",
      "Solved 5-means MSE: 617127.7965506036 in 557.2044358253479s\n",
      "Solving 6-means\n",
      "Solved 6-means MSE: 578096.0631684645 in 421.88957500457764s\n",
      "Solving 7-means\n",
      "Solved 7-means MSE: 560652.7974470966 in 486.385488986969s\n",
      "Solving 8-means\n",
      "Solved 8-means MSE: 547347.913400257 in 580.365471124649s\n",
      "Solving 9-means\n",
      "Solved 9-means MSE: 535980.7532418426 in 651.9073741436005s\n",
      "Solving 10-means\n",
      "Solved 10-means MSE: 529414.5948052276 in 760.9170081615448s\n",
      "Solving 11-means\n",
      "Solved 11-means MSE: 522913.2795477226 in 676.7597231864929s\n",
      "Solving 12-means\n",
      "Solved 12-means MSE: 517006.0944126408 in 682.936883687973s\n",
      "Solving 13-means\n",
      "Solved 13-means MSE: 511266.14835576934 in 590.3963160514832s\n",
      "Solving 14-means\n",
      "Solved 14-means MSE: 506362.45766455785 in 699.2463040351868s\n",
      "Solving 15-means\n",
      "Solved 15-means MSE: 501933.21804007725 in 582.7894523143768s\n",
      "Solving 16-means\n",
      "Solved 16-means MSE: 498269.5023547519 in 577.4654428958893s\n",
      "Solving 17-means\n",
      "Solved 17-means MSE: 494768.97822350066 in 488.4534990787506s\n",
      "Solving 18-means\n",
      "Solved 18-means MSE: 491507.8260143695 in 565.9968869686127s\n",
      "Solving 19-means\n",
      "Solved 19-means MSE: 488325.66979867057 in 544.3675148487091s\n",
      "Solving 20-means\n",
      "Solved 20-means MSE: 485299.1460095901 in 482.25997138023376s\n",
      "Solving 21-means\n",
      "Solved 21-means MSE: 482520.8143856613 in 482.27853178977966s\n",
      "Solving 22-means\n",
      "Solved 22-means MSE: 480100.5974376184 in 451.6328740119934s\n",
      "Solving 23-means\n",
      "Solved 23-means MSE: 477930.2901480919 in 397.40744137763977s\n",
      "Solving 24-means\n",
      "Solved 24-means MSE: 475825.82584709744 in 454.9335947036743s\n",
      "Solving 25-means\n",
      "Solved 25-means MSE: 473735.03977400705 in 422.0438368320465s\n",
      "Solving 26-means\n",
      "Solved 26-means MSE: 471649.81453926367 in 423.761687040329s\n",
      "Solving 27-means\n",
      "Solved 27-means MSE: 469739.9610811174 in 407.7898123264313s\n",
      "Solving 28-means\n",
      "Solved 28-means MSE: 467896.7503412913 in 367.40406227111816s\n",
      "Solving 29-means\n",
      "Solved 29-means MSE: 466133.7054278827 in 352.96679973602295s\n",
      "Solving 30-means\n",
      "Solved 30-means MSE: 464357.2080467816 in 386.9406359195709s\n",
      "Solving 31-means\n",
      "Solved 31-means MSE: 462625.80777845916 in 336.2044723033905s\n",
      "Solving 32-means\n",
      "Solved 32-means MSE: 460922.9072954498 in 346.8648498058319s\n",
      "Solving 33-means\n",
      "Solved 33-means MSE: 459315.03630251915 in 338.70831632614136s\n",
      "Solving 34-means\n",
      "Solved 34-means MSE: 457723.6956488867 in 317.54037952423096s\n",
      "Solving 35-means\n",
      "Solved 35-means MSE: 456246.13136427186 in 299.1706631183624s\n",
      "Solving 36-means\n",
      "Solved 36-means MSE: 454769.0624398466 in 284.1987953186035s\n",
      "Solving 37-means\n",
      "Solved 37-means MSE: 453375.26250748767 in 295.51657795906067s\n",
      "Solving 38-means\n",
      "Solved 38-means MSE: 452108.0344723078 in 285.49241876602173s\n",
      "Solving 39-means\n",
      "Solved 39-means MSE: 450813.5627966562 in 271.8403289318085s\n",
      "Solving 40-means\n",
      "Solved 40-means MSE: 449545.0235048201 in 279.9822425842285s\n",
      "Solving 41-means\n",
      "Solved 41-means MSE: 448348.83643745707 in 271.5325620174408s\n",
      "Solving 42-means\n",
      "Solved 42-means MSE: 447163.34156830015 in 268.86441111564636s\n",
      "Solving 43-means\n",
      "Solved 43-means MSE: 445983.8351638588 in 285.2826075553894s\n",
      "Solving 44-means\n",
      "Solved 44-means MSE: 444797.7158097476 in 261.54709100723267s\n",
      "Solving 45-means\n",
      "Solved 45-means MSE: 443727.5986307623 in 246.82463550567627s\n",
      "Solving 46-means\n",
      "Solved 46-means MSE: 442580.6018868619 in 242.63900446891785s\n",
      "Solving 47-means\n",
      "Solved 47-means MSE: 441497.6814110582 in 240.4390778541565s\n",
      "Solving 48-means\n",
      "Solved 48-means MSE: 440280.3317254491 in 261.7857460975647s\n",
      "Solving 49-means\n",
      "Solved 49-means MSE: 439211.5801887881 in 233.8853304386139s\n",
      "Solving 50-means\n",
      "Solved 50-means MSE: 438168.8574249954 in 228.4255359172821s\n",
      "Total execution time was 20340.70938682556s\n"
     ]
    }
   ],
   "source": [
    "if(globalKernelKMeansPP_is_enabled):\n",
    "    sampling_methods = [\"sequential\", \"batch\"]\n",
    "    sampling = sampling_methods[1] \n",
    "    globalKernelKMeansPP = GlobalKernelKMeansPP(n_clusters=K, kernel_matrix=kernel_matrix, n_candidates=n_candidates, sampling=sampling, data_dir_path=f\"{data_dir_path}GlobalKernelKMeans_Dataset_{dataset_name}_Sampling_{sampling}_Kernel_{kernel}_K_{K}_Inits_{n_init}_Results.csv\", verbose=1)\n",
    "    globalKernelKMeansPP.fit()\n",
    "    \n",
    "    #acc, pur, nmi, ari = evaluator.evaluate_model(y, globalKernelKMeansPP.labels_[K])\n",
    "    if(plot_is_enabled):\n",
    "        if graph_is_enabled:\n",
    "            graph.plot_clusters(globalKernelKMeansPP.labels_[K])\n",
    "        else:\n",
    "            visualization.plot(X, globalKernelKMeansPP.labels_[K], data_dir_path=f\"{data_dir_path}GlobalKernelKMeans_{sampling}_\")"
   ]
  }
 ],
 "metadata": {
  "kernelspec": {
   "display_name": "Python 3 (ipykernel)",
   "language": "python",
   "name": "python3"
  },
  "language_info": {
   "codemirror_mode": {
    "name": "ipython",
    "version": 3
   },
   "file_extension": ".py",
   "mimetype": "text/x-python",
   "name": "python",
   "nbconvert_exporter": "python",
   "pygments_lexer": "ipython3",
   "version": "3.11.4"
  }
 },
 "nbformat": 4,
 "nbformat_minor": 5
}
