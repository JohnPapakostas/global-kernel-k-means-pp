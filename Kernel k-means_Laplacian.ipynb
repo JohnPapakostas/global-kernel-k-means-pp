{
 "cells": [
  {
   "cell_type": "markdown",
   "id": "8157a5de",
   "metadata": {},
   "source": [
    "###  Libraries"
   ]
  },
  {
   "cell_type": "code",
   "execution_count": null,
   "id": "1ec8df66",
   "metadata": {},
   "outputs": [],
   "source": [
    "import numpy as np\n",
    "from sklearn.cluster import KMeans\n",
    "from sklearn.metrics.pairwise import pairwise_kernels\n",
    "from tslearn.clustering import KernelKMeans as TSKernelKMeans\n",
    "from KernelKMeans import KernelKMeans\n",
    "from GlobalKernelKMeans import GlobalKernelKMeans, GlobalKernelKMeansPP \n",
    "from Datasets.Datasets_Functions import *\n",
    "from Rings import Rings\n",
    "from Common_Modules.Evaluation import Evaluator\n",
    "from Common_Modules.Graph import Graph\n",
    "from Common_Modules.Visualization import Visualization\n",
    "from Common_Modules.General_Functions import General_Functions"
   ]
  },
  {
   "cell_type": "markdown",
   "id": "a5718e92",
   "metadata": {},
   "source": [
    "### Global Variables"
   ]
  },
  {
   "cell_type": "code",
   "execution_count": null,
   "id": "de6245c2",
   "metadata": {},
   "outputs": [],
   "source": [
    "seed = 42\n",
    "evaluator = Evaluator()\n",
    "graph_is_enabled = False\n",
    "kMeans_is_enabled = False\n",
    "kernelKMeans_is_enabled = False\n",
    "kernelKMeansPP_is_enabled = True\n",
    "globalKernelKMeans_is_enabled = False\n",
    "globalKernelKMeansPP_is_enabled = False\n",
    "n_candidates = n_init = 100\n",
    "kernel = 'laplacian'\n",
    "gamma = 1.0"
   ]
  },
  {
   "cell_type": "markdown",
   "id": "eec895e5",
   "metadata": {},
   "source": [
    "### Visualization"
   ]
  },
  {
   "cell_type": "code",
   "execution_count": null,
   "id": "78f34d42",
   "metadata": {},
   "outputs": [],
   "source": [
    "visualization = Visualization()\n",
    "colors = ['red', 'blue', 'green', 'orange', 'purple', 'yellow', 'black', 'cyan', 'gray', 'lime']"
   ]
  },
  {
   "cell_type": "markdown",
   "id": "d4f37574",
   "metadata": {},
   "source": [
    "### Load Dataset"
   ]
  },
  {
   "cell_type": "markdown",
   "id": "9d329be0",
   "metadata": {},
   "source": [
    "### 2Rings"
   ]
  },
  {
   "cell_type": "code",
   "execution_count": null,
   "id": "85ea1db3",
   "metadata": {},
   "outputs": [],
   "source": [
    "if(False):\n",
    "    # centers_coordinates = [(-1, 2), (2, 2), (2, 5), (2, -1), (5, 2), (6, 6), (-2, 6), (2, 8), (6, -2), (2, -4), (-2, -2)]\n",
    "    centers_coordinates = [(-1, 2), (2, 2)]\n",
    "    rings = Rings(colors)\n",
    "    X, y = rings.make_rings_pairs(centers_coordinates=centers_coordinates, n_samples=100, factor=0.2, noise=0.0)\n",
    "\n",
    "    K = 2 * len(centers_coordinates)\n",
    "    kernel_matrix = pairwise_kernels(X, X, metric='rbf', gamma=1)"
   ]
  },
  {
   "cell_type": "markdown",
   "id": "e363a2bd",
   "metadata": {},
   "source": [
    "### 3Rings"
   ]
  },
  {
   "cell_type": "code",
   "execution_count": null,
   "id": "e0e0b0a9",
   "metadata": {},
   "outputs": [],
   "source": [
    "if (False):\n",
    "    import numpy as np\n",
    "    import matplotlib.pyplot as plt\n",
    "    from matplotlib.colors import ListedColormap\n",
    "\n",
    "    class Rings:\n",
    "        def __init__(self, colors, seed=42):\n",
    "            self.colors = colors\n",
    "            self.seed = seed\n",
    "\n",
    "        def plot(self, X, labels_):\n",
    "            plt.scatter(X[:, 0], X[:, 1], c=labels_, cmap=ListedColormap(self.colors))\n",
    "            plt.show()\n",
    "\n",
    "        def move_rings(self, center_coordinates, X):\n",
    "            X[:, 0] += center_coordinates[0]\n",
    "            X[:, 1] += center_coordinates[1]\n",
    "            return X\n",
    "\n",
    "        def generate_circle(self, n_samples, radius, noise):\n",
    "            angles = np.linspace(0, 2 * np.pi, n_samples, endpoint=False)\n",
    "            X = np.c_[radius * np.cos(angles), radius * np.sin(angles)]\n",
    "            X += noise * np.random.randn(n_samples, 2)\n",
    "            return X\n",
    "\n",
    "        def make_concentric_rings(self, centers_coordinates, n_samples=300, radii=[1, 2, 3], noise=0.05):\n",
    "            pairs = []\n",
    "            label = 0\n",
    "\n",
    "            for center_coordinates in centers_coordinates:\n",
    "                X_list, y_list = [], []\n",
    "                for i, radius in enumerate(radii):\n",
    "                    X = self.generate_circle(n_samples // len(radii), radius, noise)\n",
    "                    y = np.full(X.shape[0], i)  # Assign unique label for each ring\n",
    "                    X_list.append(X)\n",
    "                    y_list.append(y)\n",
    "\n",
    "                # Concatenate all rings\n",
    "                X = np.concatenate(X_list)\n",
    "                y = np.concatenate(y_list)\n",
    "\n",
    "                X = self.move_rings(center_coordinates, X)\n",
    "\n",
    "                pairs.append((X, y))\n",
    "                label += len(radii)\n",
    "\n",
    "            return self.concatenate_pairs(pairs)\n",
    "\n",
    "        def concatenate_pairs(self, pairs):\n",
    "            X = np.concatenate([X for X, _ in pairs])\n",
    "            y = np.concatenate([y for _, y in pairs])\n",
    "            self.plot(X, y)\n",
    "            return X, y\n",
    "\n",
    "    # Example usage:\n",
    "    colors = ['#1f77b4', '#ff7f0e', '#2ca02c']\n",
    "    rings = Rings(colors=colors)\n",
    "\n",
    "    # Define the center for the single set of three concentric rings\n",
    "    centers_coordinates = [(0, 0)]\n",
    "\n",
    "    # Generate and plot the rings\n",
    "    X, y = rings.make_concentric_rings(centers_coordinates=centers_coordinates, n_samples=150, radii=[1, 10, 25], noise=0)\n",
    "\n",
    "    K = 3 * len(centers_coordinates)\n",
    "    kernel_matrix = pairwise_kernels(X, X, metric='sigmoid')\n",
    "    print(X)"
   ]
  },
  {
   "cell_type": "markdown",
   "id": "6dc6e715",
   "metadata": {},
   "source": [
    "### 1 Ring with 2 Gaussians Inside"
   ]
  },
  {
   "cell_type": "code",
   "execution_count": null,
   "id": "99acc8e3",
   "metadata": {},
   "outputs": [],
   "source": [
    "if(False):\n",
    "    import numpy as np\n",
    "    import matplotlib.pyplot as plt\n",
    "    from matplotlib.colors import ListedColormap\n",
    "    from sklearn.metrics.pairwise import pairwise_kernels\n",
    "    import copy\n",
    "    \n",
    "    class Rings:\n",
    "        def __init__(self, colors, seed=42):\n",
    "            self.colors = colors\n",
    "            self.seed = seed\n",
    "            np.random.seed(self.seed)\n",
    "    \n",
    "        def plot(self, X, labels_):\n",
    "            plt.scatter(X[:, 0], X[:, 1], c=labels_, cmap=ListedColormap(self.colors))\n",
    "            plt.axis('off')\n",
    "            plt.show()\n",
    "    \n",
    "        def generate_circle(self, n_samples, radius, noise):\n",
    "            angles = np.linspace(0, 2 * np.pi, n_samples, endpoint=False)\n",
    "            X = np.c_[radius * np.cos(angles), radius * np.sin(angles)]\n",
    "            X += noise * np.random.randn(n_samples, 2)\n",
    "            return X\n",
    "    \n",
    "        def generate_gaussians(self, n_samples, means, cov, labels):\n",
    "            X = np.vstack([np.random.multivariate_normal(mean, cov, n_samples) for mean in means])\n",
    "            y = np.hstack([[label]*n_samples for label in labels])\n",
    "            return X, y\n",
    "    \n",
    "        def make_multiple_rings_with_gaussians(self, centers_coordinates, n_samples=100, radius=10, noise=0.05, gaussian_samples=50):\n",
    "            X_list, y_list = [], []\n",
    "            label_offset = 0\n",
    "            \n",
    "            for center_coordinates in centers_coordinates:\n",
    "                # Generate ring\n",
    "                X_ring = self.generate_circle(n_samples, radius, noise)\n",
    "                y_ring = np.full(X_ring.shape[0], label_offset)  # Label for the ring\n",
    "                X_ring = self.move_rings(center_coordinates, X_ring)\n",
    "                X_list.append(X_ring)\n",
    "                y_list.append(y_ring)\n",
    "                \n",
    "                # Generate 2 Gaussians inside the ring\n",
    "                gaussians_X, gaussians_y = self.generate_gaussians(\n",
    "                    gaussian_samples,\n",
    "                    means=[(center_coordinates[0] - 1, center_coordinates[1]), \n",
    "                           (center_coordinates[0] + 1, center_coordinates[1])],  # Centered near the ring's center\n",
    "                    cov=[[0.1, 0], [0, 0.1]],  # Covariance matrix\n",
    "                    labels=[label_offset + 1, label_offset + 2]  # Unique labels for Gaussians\n",
    "                )\n",
    "    \n",
    "                X_list.append(gaussians_X)\n",
    "                y_list.append(gaussians_y)\n",
    "    \n",
    "                label_offset = label_offset + 3\n",
    "            # Concatenate all parts\n",
    "            X = np.concatenate(X_list)\n",
    "            y = np.concatenate(y_list)\n",
    "    \n",
    "            self.plot(X, y)\n",
    "            return X, y\n",
    "    \n",
    "        def move_rings(self, center_coordinates, X):\n",
    "            X[:, 0] += center_coordinates[0]\n",
    "            X[:, 1] += center_coordinates[1]\n",
    "            return X\n",
    "    \n",
    "    # Usage example\n",
    "    colors = ['purple', 'orange', 'blue', 'red', 'green', 'lime']\n",
    "    \n",
    "    rings = Rings(colors)\n",
    "    centers_coordinates = [(5, 5), (-5, 5)]\n",
    "    X, y = rings.make_multiple_rings_with_gaussians(centers_coordinates, n_samples=100, radius=3, noise=0.0, gaussian_samples=50)\n",
    "    \n",
    "    K = 3 * len(centers_coordinates)\n",
    "    kernel_matrix = pairwise_kernels(X, X, metric='rbf', gamma=0.5)"
   ]
  },
  {
   "cell_type": "markdown",
   "id": "d30f33c9",
   "metadata": {},
   "source": [
    "### 3Rings Paper"
   ]
  },
  {
   "cell_type": "code",
   "execution_count": null,
   "id": "14ed84e0",
   "metadata": {},
   "outputs": [],
   "source": [
    "if (False):\n",
    "    import scipy.io\n",
    "    import numpy as np\n",
    "    X_mat = scipy.io.loadmat('3circles_dataset.mat')\n",
    "    X = np.array(X_mat['Dataset'])\n",
    "    kernel_matrix_mat = scipy.io.loadmat('3circles_kernel_matrix.mat')\n",
    "    kernel_matrix = np.array(kernel_matrix_mat['K'])\n",
    "    y = np.loadtxt('array.txt').astype(int)\n",
    "    K = 3\n",
    "    rings.plot(X,y)\n",
    "    print(y)"
   ]
  },
  {
   "cell_type": "markdown",
   "id": "dd74cf65",
   "metadata": {},
   "source": [
    "### Graphs"
   ]
  },
  {
   "cell_type": "code",
   "execution_count": null,
   "id": "09282f0d",
   "metadata": {},
   "outputs": [],
   "source": [
    "if(graph_is_enabled):\n",
    "    # Number of nodes per community\n",
    "    n_nodes_per_community = 10\n",
    "\n",
    "    # Number of communities\n",
    "    K = n_communities = 10\n",
    "    \n",
    "    # Probability of intra-community edge\n",
    "    p_intra = 1  \n",
    "    \n",
    "    # Probability of inter-community edge\n",
    "    p_inter = 0.01  \n",
    "\n",
    "    graph = Graph(n_communities, n_nodes_per_community, p_intra, p_inter, colors)\n",
    "    graph.create_adj_matrix()\n",
    "    kernel_matrix = graph.adj_matrix = pairwise_kernels(graph.adj_matrix, graph.adj_matrix, metric='linear')\n",
    "    graph.create_kernel_matrix_from_adj_matrix()"
   ]
  },
  {
   "cell_type": "markdown",
   "id": "7b9835fe",
   "metadata": {},
   "source": [
    "### Real Dataset"
   ]
  },
  {
   "cell_type": "code",
   "execution_count": null,
   "id": "7a7cf5f4",
   "metadata": {},
   "outputs": [],
   "source": [
    "dataset_name = \"breast_cancer\" # The available datasets are: breast_cancer, dermatology, ecoli, iris, olivetti_faces, pendigits, waveform_v1, wine\n",
    "module_name = \"Datasets.Datasets\"\n",
    "batch_size = 16\n",
    "dataloader, input_dim, X, y = function_get_dataset(dataset_name, module_name, batch_size)\n",
    "print('Data_Shape is:', input_dim)\n",
    "print('Batches Number is:', len(dataloader))\n",
    "K = len(np.unique(y))\n",
    "kernel_matrix = pairwise_kernels(X, X, metric=kernel, gamma = gamma)\n",
    "data_dir_path = f\"Results\\\\{dataset_name}\\\\{kernel}\\\\{n_init}\\\\\"\n",
    "General_Functions().create_directory(data_dir_path)\n",
    "K = 50"
   ]
  },
  {
   "cell_type": "code",
   "execution_count": null,
   "id": "5b24bbe9",
   "metadata": {},
   "outputs": [],
   "source": [
    "import numpy as np\n",
    "\n",
    "# Number of points\n",
    "n = X.shape[0]\n",
    "\n",
    "# Compute the squared Euclidean distance between all pairs of points\n",
    "X_square = np.sum(X**2, axis=1).reshape((n, 1))\n",
    "distance_matrix = X_square + X_square.T - 2 * np.dot(X, X.T)\n",
    "\n",
    "# Ensure all distances are non-negative (due to floating-point precision issues)\n",
    "distance_matrix = np.maximum(distance_matrix, 0)\n",
    "\n",
    "# Sum all the elements of the distance matrix\n",
    "sum_of_distances = np.sum(distance_matrix)\n",
    "\n",
    "print(\"Sum of all squared Euclidean distances:\", sum_of_distances)\n",
    "\n",
    "gamma = 1/((n^2)*sum_of_distances)\n",
    "print(gamma)\n",
    "K = len(np.unique(y))\n",
    "kernel_matrix = pairwise_kernels(X, X, metric=kernel, gamma=gamma)\n",
    "data_dir_path = f\"Results\\\\{dataset_name}\\\\{kernel}\\\\{n_init}\\\\\"\n",
    "General_Functions().create_directory(data_dir_path)\n",
    "K = 50"
   ]
  },
  {
   "cell_type": "markdown",
   "id": "f5e3a280",
   "metadata": {},
   "source": [
    "### kMeans"
   ]
  },
  {
   "cell_type": "code",
   "execution_count": null,
   "id": "f54c05ad",
   "metadata": {},
   "outputs": [],
   "source": [
    "if(kMeans_is_enabled):\n",
    "    kmeans = KMeans(n_clusters=K).fit(X)\n",
    "    acc, pur, nmi, ari = evaluator.evaluate_model(y, kmeans.labels_)\n",
    "    evaluator.print_evaluation()\n",
    "    visualization.plot_tsne(X, y, data_dir_path=\"Figures\\\\\"+dataset_name)"
   ]
  },
  {
   "cell_type": "markdown",
   "id": "ca418be2",
   "metadata": {},
   "source": [
    "### Kernel kMeans"
   ]
  },
  {
   "cell_type": "code",
   "execution_count": null,
   "id": "8139e828",
   "metadata": {},
   "outputs": [],
   "source": [
    "if(kernelKMeans_is_enabled):\n",
    "    kernel_kmeans = TSKernelKMeans(n_clusters=K, n_init=10, kernel='precomputed').fit(kernel_matrix)\n",
    "    acc, pur, nmi, ari = evaluator.evaluate_model(y, kernel_kmeans.labels_)\n",
    "    evaluator.print_evaluation()\n",
    "    visualization.plot_tsne(X, y, data_dir_path=\"Figures\\\\\"+dataset_name)"
   ]
  },
  {
   "cell_type": "markdown",
   "id": "12d1a9fc",
   "metadata": {},
   "source": [
    "### Kernel kMeans++"
   ]
  },
  {
   "cell_type": "code",
   "execution_count": null,
   "id": "f56cc1a7",
   "metadata": {},
   "outputs": [],
   "source": [
    "if(kernelKMeansPP_is_enabled):\n",
    "    n_iters_ = {}\n",
    "    execution_times_ = {}\n",
    "    inertias_ = {}\n",
    "    init = \"random\"\n",
    "    init = \"k-means++\"\n",
    "    #init = \"forgy\"\n",
    "    #General_Functions.append_to_csv(f\"{data_dir_path}KernelKMeans_Dataset_{dataset_name}_Init_{init}_Kernel_{kernel}_K_{K}_Inits_{n_init}_Results.csv\", new_row)\n",
    "    prev_K = K\n",
    "    K = 2\n",
    "    while (K != prev_K + 1):\n",
    "        print(K)\n",
    "        kernelKMeans = KernelKMeans(n_clusters=K, kernel_matrix=kernel_matrix, n_init=n_init, init=init, verbose=0)\n",
    "        kernelKMeans.fit()\n",
    "        if graph_is_enabled:\n",
    "            graph.plot_clusters(kernelKMeans.labels_)\n",
    "        #else:\n",
    "            #evaluation_results = General_Functions().append_to_file(y, kernelKMeans.labels_, kernelKMeans.inertia_, kernelKMeans.execution_times_, f\"{data_dir_path}KernelKMeans_{init}_Results.txt\")\n",
    "            #visualization.plot_tsne(X, y, data_dir_path=data_dir_path + \"KernelKMeans_\" + init)\n",
    "            #General_Functions.create_csv(kernelKMeans.inertia_, kernelKMeans.n_iters_, kernelKMeans.execution_times_, f\"{data_dir_path}KernelKMeans_{init}_Results.csv\")        \n",
    "            # That's the function of grount truth error\n",
    "            #ground_truth_error = kernelKMeans.calculate_ground_truth_error(y)\n",
    "            #print(f\"Ground Truth Error is: {ground_truth_error}\")    \n",
    "        n_iters_[K] = sum(kernelKMeans.n_iters_.values())\n",
    "        execution_times_[K] = sum(kernelKMeans.execution_times_.values())\n",
    "        inertias_[K] = kernelKMeans.inertia_\n",
    "        new_row = { \"K\": K, \"MSE\": inertias_[K], \"ITERATIONS\": n_iters_[K], \"EXECUTION TIME\": execution_times_[K]}\n",
    "        General_Functions.append_to_csv(f\"{data_dir_path}KernelKMeans_Dataset_{dataset_name}_Init_{init}_Kernel_{kernel}_K_{prev_K}_Inits_{n_init}_Results.csv\", new_row)\n",
    "        K += 1\n",
    "    K = prev_K   "
   ]
  },
  {
   "cell_type": "markdown",
   "id": "34983f02",
   "metadata": {},
   "source": [
    "### Global Kernel kMeans"
   ]
  },
  {
   "cell_type": "code",
   "execution_count": 18,
   "id": "1bfc8729",
   "metadata": {},
   "outputs": [
    {
     "name": "stdout",
     "output_type": "stream",
     "text": [
      "Solving Kernel 2-means\n"
     ]
    },
    {
     "ename": "KeyboardInterrupt",
     "evalue": "",
     "output_type": "error",
     "traceback": [
      "\u001b[1;31m---------------------------------------------------------------------------\u001b[0m",
      "\u001b[1;31mKeyboardInterrupt\u001b[0m                         Traceback (most recent call last)",
      "Cell \u001b[1;32mIn[18], line 3\u001b[0m\n\u001b[0;32m      1\u001b[0m \u001b[38;5;28;01mif\u001b[39;00m(globalKernelKMeans_is_enabled):\n\u001b[0;32m      2\u001b[0m     globalKernelKMeans \u001b[38;5;241m=\u001b[39m GlobalKernelKMeans(n_clusters\u001b[38;5;241m=\u001b[39mK, kernel_matrix\u001b[38;5;241m=\u001b[39mkernel_matrix, data_dir_path\u001b[38;5;241m=\u001b[39m\u001b[38;5;124mf\u001b[39m\u001b[38;5;124m\"\u001b[39m\u001b[38;5;132;01m{\u001b[39;00mdata_dir_path\u001b[38;5;132;01m}\u001b[39;00m\u001b[38;5;124mGlobalKernelKMeans_Dataset_\u001b[39m\u001b[38;5;132;01m{\u001b[39;00mdataset_name\u001b[38;5;132;01m}\u001b[39;00m\u001b[38;5;124m_Kernel_\u001b[39m\u001b[38;5;132;01m{\u001b[39;00mkernel\u001b[38;5;132;01m}\u001b[39;00m\u001b[38;5;124m_K_\u001b[39m\u001b[38;5;132;01m{\u001b[39;00mK\u001b[38;5;132;01m}\u001b[39;00m\u001b[38;5;124m_Inits_\u001b[39m\u001b[38;5;132;01m{\u001b[39;00mn_init\u001b[38;5;132;01m}\u001b[39;00m\u001b[38;5;124m_Results.csv\u001b[39m\u001b[38;5;124m\"\u001b[39m, verbose\u001b[38;5;241m=\u001b[39m\u001b[38;5;241m1\u001b[39m)\n\u001b[1;32m----> 3\u001b[0m     \u001b[43mglobalKernelKMeans\u001b[49m\u001b[38;5;241;43m.\u001b[39;49m\u001b[43mfit\u001b[49m\u001b[43m(\u001b[49m\u001b[43m)\u001b[49m\n\u001b[0;32m      5\u001b[0m     \u001b[38;5;28;01mif\u001b[39;00m graph_is_enabled:\n\u001b[0;32m      6\u001b[0m         graph\u001b[38;5;241m.\u001b[39mplot_clusters(globalKernelKMeans\u001b[38;5;241m.\u001b[39mlabels_[K])\n",
      "File \u001b[1;32mc:\\Users\\PAPASOFT INC\\Documents\\GitHub\\global-kernel-k-means-pp\\GlobalKernelKMeans.py:137\u001b[0m, in \u001b[0;36mGlobalKernelKMeans.fit\u001b[1;34m(self, X, y, sample_weight)\u001b[0m\n\u001b[0;32m    134\u001b[0m prev_xi_label \u001b[38;5;241m=\u001b[39m initial_labels_[i]\n\u001b[0;32m    135\u001b[0m initial_labels_[i] \u001b[38;5;241m=\u001b[39m k\u001b[38;5;241m-\u001b[39m\u001b[38;5;241m1\u001b[39m\n\u001b[1;32m--> 137\u001b[0m kernelKMeans \u001b[38;5;241m=\u001b[39m \u001b[43mKernelKMeans\u001b[49m\u001b[43m(\u001b[49m\u001b[43mn_clusters\u001b[49m\u001b[38;5;241;43m=\u001b[39;49m\u001b[43mk\u001b[49m\u001b[43m,\u001b[49m\u001b[43m \u001b[49m\u001b[43mkernel_matrix\u001b[49m\u001b[38;5;241;43m=\u001b[39;49m\u001b[38;5;28;43mself\u001b[39;49m\u001b[38;5;241;43m.\u001b[39;49m\u001b[43mkernel_matrix\u001b[49m\u001b[43m,\u001b[49m\u001b[43m \u001b[49m\u001b[43mn_init\u001b[49m\u001b[38;5;241;43m=\u001b[39;49m\u001b[38;5;241;43m1\u001b[39;49m\u001b[43m,\u001b[49m\u001b[43m \u001b[49m\u001b[43minitial_labels_\u001b[49m\u001b[38;5;241;43m=\u001b[39;49m\u001b[43mnp\u001b[49m\u001b[38;5;241;43m.\u001b[39;49m\u001b[43mcopy\u001b[49m\u001b[43m(\u001b[49m\u001b[43minitial_labels_\u001b[49m\u001b[43m)\u001b[49m\u001b[43m,\u001b[49m\u001b[43m \u001b[49m\u001b[43mverbose\u001b[49m\u001b[38;5;241;43m=\u001b[39;49m\u001b[38;5;241;43m0\u001b[39;49m\u001b[43m)\u001b[49m\u001b[38;5;241;43m.\u001b[39;49m\u001b[43mfit\u001b[49m\u001b[43m(\u001b[49m\u001b[43m)\u001b[49m\n\u001b[0;32m    138\u001b[0m \u001b[38;5;28mself\u001b[39m\u001b[38;5;241m.\u001b[39mn_iter_ \u001b[38;5;241m+\u001b[39m\u001b[38;5;241m=\u001b[39m kernelKMeans\u001b[38;5;241m.\u001b[39mn_iter_\n\u001b[0;32m    140\u001b[0m initial_labels_[i] \u001b[38;5;241m=\u001b[39m prev_xi_label\n",
      "File \u001b[1;32mc:\\Users\\PAPASOFT INC\\Documents\\GitHub\\global-kernel-k-means-pp\\KernelKMeans.py:176\u001b[0m, in \u001b[0;36mKernelKMeans.fit\u001b[1;34m(self)\u001b[0m\n\u001b[0;32m    173\u001b[0m \u001b[38;5;28;01mif\u001b[39;00m(\u001b[38;5;28mself\u001b[39m\u001b[38;5;241m.\u001b[39minitial_labels_ \u001b[38;5;129;01mis\u001b[39;00m \u001b[38;5;28;01mNone\u001b[39;00m):\n\u001b[0;32m    174\u001b[0m     \u001b[38;5;28mself\u001b[39m\u001b[38;5;241m.\u001b[39minitial_labels_ \u001b[38;5;241m=\u001b[39m \u001b[38;5;28mself\u001b[39m\u001b[38;5;241m.\u001b[39minitialization\u001b[38;5;241m.\u001b[39mcalculate_initial_partition(\u001b[38;5;28mself\u001b[39m\u001b[38;5;241m.\u001b[39mn_clusters, \u001b[38;5;28mself\u001b[39m\u001b[38;5;241m.\u001b[39mN, \u001b[38;5;28mself\u001b[39m\u001b[38;5;241m.\u001b[39mkernel_matrix, \u001b[38;5;28mself\u001b[39m\u001b[38;5;241m.\u001b[39minit)\n\u001b[1;32m--> 176\u001b[0m current_labels_, current_inertia_ \u001b[38;5;241m=\u001b[39m \u001b[38;5;28;43mself\u001b[39;49m\u001b[38;5;241;43m.\u001b[39;49m\u001b[43m__kernel_kmeans_functionallity\u001b[49m\u001b[43m(\u001b[49m\u001b[43minitial_labels_\u001b[49m\u001b[43m \u001b[49m\u001b[38;5;241;43m=\u001b[39;49m\u001b[43m \u001b[49m\u001b[43mnp\u001b[49m\u001b[38;5;241;43m.\u001b[39;49m\u001b[43mcopy\u001b[49m\u001b[43m(\u001b[49m\u001b[38;5;28;43mself\u001b[39;49m\u001b[38;5;241;43m.\u001b[39;49m\u001b[43minitial_labels_\u001b[49m\u001b[43m)\u001b[49m\u001b[43m,\u001b[49m\u001b[43m \u001b[49m\u001b[43mkernel_matrix\u001b[49m\u001b[38;5;241;43m=\u001b[39;49m\u001b[38;5;28;43mself\u001b[39;49m\u001b[38;5;241;43m.\u001b[39;49m\u001b[43mkernel_matrix\u001b[49m\u001b[43m)\u001b[49m\n\u001b[0;32m    178\u001b[0m \u001b[38;5;28mself\u001b[39m\u001b[38;5;241m.\u001b[39minitial_labels_ \u001b[38;5;241m=\u001b[39m \u001b[38;5;28;01mNone\u001b[39;00m\n\u001b[0;32m    180\u001b[0m \u001b[38;5;28;01mif\u001b[39;00m(current_inertia_ \u001b[38;5;241m==\u001b[39m \u001b[38;5;28;01mNone\u001b[39;00m \u001b[38;5;129;01mand\u001b[39;00m current_labels_ \u001b[38;5;241m==\u001b[39m \u001b[38;5;28;01mNone\u001b[39;00m):\n",
      "File \u001b[1;32mc:\\Users\\PAPASOFT INC\\Documents\\GitHub\\global-kernel-k-means-pp\\KernelKMeans.py:141\u001b[0m, in \u001b[0;36mKernelKMeans.__kernel_kmeans_functionallity\u001b[1;34m(self, initial_labels_, kernel_matrix)\u001b[0m\n\u001b[0;32m    138\u001b[0m         \u001b[38;5;28;01mreturn\u001b[39;00m \u001b[38;5;28;01mNone\u001b[39;00m, \u001b[38;5;28;01mNone\u001b[39;00m\n\u001b[0;32m    140\u001b[0m     stable_sum \u001b[38;5;241m=\u001b[39m np\u001b[38;5;241m.\u001b[39msum(kernel_matrix[np\u001b[38;5;241m.\u001b[39mix_(cluster_indices, cluster_indices)]) \u001b[38;5;241m/\u001b[39m (n_cluster_samples \u001b[38;5;241m*\u001b[39m\u001b[38;5;241m*\u001b[39m \u001b[38;5;241m2\u001b[39m)\n\u001b[1;32m--> 141\u001b[0m     sample_sums \u001b[38;5;241m=\u001b[39m \u001b[43mnp\u001b[49m\u001b[38;5;241;43m.\u001b[39;49m\u001b[43msum\u001b[49m\u001b[43m(\u001b[49m\u001b[43mkernel_matrix\u001b[49m\u001b[43m[\u001b[49m\u001b[43m:\u001b[49m\u001b[43m,\u001b[49m\u001b[43m \u001b[49m\u001b[43mcluster_indices\u001b[49m\u001b[43m]\u001b[49m\u001b[43m,\u001b[49m\u001b[43m \u001b[49m\u001b[43maxis\u001b[49m\u001b[38;5;241;43m=\u001b[39;49m\u001b[38;5;241;43m1\u001b[39;49m\u001b[43m)\u001b[49m \u001b[38;5;241m/\u001b[39m n_cluster_samples\n\u001b[0;32m    143\u001b[0m     distances[i] \u001b[38;5;241m=\u001b[39m kernel_diag \u001b[38;5;241m-\u001b[39m \u001b[38;5;241m2\u001b[39m \u001b[38;5;241m*\u001b[39m sample_sums \u001b[38;5;241m+\u001b[39m stable_sum\n\u001b[0;32m    145\u001b[0m \u001b[38;5;28mself\u001b[39m\u001b[38;5;241m.\u001b[39mmin_distances \u001b[38;5;241m=\u001b[39m np\u001b[38;5;241m.\u001b[39mmin(distances, axis\u001b[38;5;241m=\u001b[39m\u001b[38;5;241m0\u001b[39m)\n",
      "File \u001b[1;32mc:\\Users\\PAPASOFT INC\\AppData\\Local\\Programs\\Python\\Python311\\Lib\\site-packages\\numpy\\core\\fromnumeric.py:2172\u001b[0m, in \u001b[0;36m_sum_dispatcher\u001b[1;34m(a, axis, dtype, out, keepdims, initial, where)\u001b[0m\n\u001b[0;32m   2102\u001b[0m \u001b[38;5;250m    \u001b[39m\u001b[38;5;124;03m\"\"\"\u001b[39;00m\n\u001b[0;32m   2103\u001b[0m \u001b[38;5;124;03m    Clip (limit) the values in an array.\u001b[39;00m\n\u001b[0;32m   2104\u001b[0m \n\u001b[1;32m   (...)\u001b[0m\n\u001b[0;32m   2167\u001b[0m \n\u001b[0;32m   2168\u001b[0m \u001b[38;5;124;03m    \"\"\"\u001b[39;00m\n\u001b[0;32m   2169\u001b[0m     \u001b[38;5;28;01mreturn\u001b[39;00m _wrapfunc(a, \u001b[38;5;124m'\u001b[39m\u001b[38;5;124mclip\u001b[39m\u001b[38;5;124m'\u001b[39m, a_min, a_max, out\u001b[38;5;241m=\u001b[39mout, \u001b[38;5;241m*\u001b[39m\u001b[38;5;241m*\u001b[39mkwargs)\n\u001b[1;32m-> 2172\u001b[0m \u001b[38;5;28;01mdef\u001b[39;00m \u001b[38;5;21m_sum_dispatcher\u001b[39m(a, axis\u001b[38;5;241m=\u001b[39m\u001b[38;5;28;01mNone\u001b[39;00m, dtype\u001b[38;5;241m=\u001b[39m\u001b[38;5;28;01mNone\u001b[39;00m, out\u001b[38;5;241m=\u001b[39m\u001b[38;5;28;01mNone\u001b[39;00m, keepdims\u001b[38;5;241m=\u001b[39m\u001b[38;5;28;01mNone\u001b[39;00m,\n\u001b[0;32m   2173\u001b[0m                     initial\u001b[38;5;241m=\u001b[39m\u001b[38;5;28;01mNone\u001b[39;00m, where\u001b[38;5;241m=\u001b[39m\u001b[38;5;28;01mNone\u001b[39;00m):\n\u001b[0;32m   2174\u001b[0m     \u001b[38;5;28;01mreturn\u001b[39;00m (a, out)\n\u001b[0;32m   2177\u001b[0m \u001b[38;5;129m@array_function_dispatch\u001b[39m(_sum_dispatcher)\n\u001b[0;32m   2178\u001b[0m \u001b[38;5;28;01mdef\u001b[39;00m \u001b[38;5;21msum\u001b[39m(a, axis\u001b[38;5;241m=\u001b[39m\u001b[38;5;28;01mNone\u001b[39;00m, dtype\u001b[38;5;241m=\u001b[39m\u001b[38;5;28;01mNone\u001b[39;00m, out\u001b[38;5;241m=\u001b[39m\u001b[38;5;28;01mNone\u001b[39;00m, keepdims\u001b[38;5;241m=\u001b[39mnp\u001b[38;5;241m.\u001b[39m_NoValue,\n\u001b[0;32m   2179\u001b[0m         initial\u001b[38;5;241m=\u001b[39mnp\u001b[38;5;241m.\u001b[39m_NoValue, where\u001b[38;5;241m=\u001b[39mnp\u001b[38;5;241m.\u001b[39m_NoValue):\n",
      "\u001b[1;31mKeyboardInterrupt\u001b[0m: "
     ]
    }
   ],
   "source": [
    "if(globalKernelKMeans_is_enabled):\n",
    "    globalKernelKMeans = GlobalKernelKMeans(n_clusters=K, kernel_matrix=kernel_matrix, data_dir_path=f\"{data_dir_path}GlobalKernelKMeans_Dataset_{dataset_name}_Kernel_{kernel}_K_{K}_Inits_{n_init}_Results.csv\", verbose=1)\n",
    "    globalKernelKMeans.fit()\n",
    "    \n",
    "    if graph_is_enabled:\n",
    "        graph.plot_clusters(globalKernelKMeans.labels_[K])\n",
    "    else:\n",
    "        evaluation_results = General_Functions().append_to_file(y, globalKernelKMeans.labels_[K], globalKernelKMeans.inertia_[K], globalKernelKMeans.execution_times_, f\"{data_dir_path}GlobalKernelKMeans_Results.txt\")\n",
    "        #visualization.plot_tsne(X, y, data_dir_path=data_dir_path + \"\\\\GlobalKernelKMeans\")\n",
    "        #General_Functions.create_csv(globalKernelKMeans.inertia_, globalKernelKMeans.n_iters_, globalKernelKMeans.execution_times_, f\"{data_dir_path}GlobalKernelKMeans_Dataset_{dataset_name}_Kernel_{kernel}_K_{K}_Inits_{n_init}_Results.csv\")\n",
    "# 0.265"
   ]
  },
  {
   "cell_type": "markdown",
   "id": "dabdbeaf",
   "metadata": {},
   "source": [
    "### Global Kernel kMeans++"
   ]
  },
  {
   "cell_type": "code",
   "execution_count": 17,
   "id": "ecff347c",
   "metadata": {},
   "outputs": [
    {
     "name": "stdout",
     "output_type": "stream",
     "text": [
      "Solved 17-means MSE: 7.336729668239172e-08 in 70.1592149734497s\n",
      "Solving 18-means\n",
      "Solved 18-means MSE: 7.319333839017617e-08 in 58.74731397628784s\n",
      "Solving 19-means\n",
      "Solved 19-means MSE: 7.306335925161278e-08 in 78.19402432441711s\n",
      "Solving 20-means\n",
      "Solved 20-means MSE: 7.30379636770806e-08 in 74.25427865982056s\n",
      "Solving 21-means\n",
      "Solved 21-means MSE: 7.278449343228743e-08 in 88.33682656288147s\n",
      "Solving 22-means\n",
      "Solved 22-means MSE: 7.276287028457062e-08 in 70.34646511077881s\n",
      "Solving 23-means\n",
      "Solved 23-means MSE: 7.256263523380824e-08 in 76.30001544952393s\n",
      "Solving 24-means\n",
      "Solved 24-means MSE: 7.253423051079011e-08 in 75.30011296272278s\n",
      "Solving 25-means\n",
      "Solved 25-means MSE: 7.238874255577343e-08 in 86.03285431861877s\n",
      "Solving 26-means\n",
      "Solved 26-means MSE: 7.23608829522604e-08 in 82.31660509109497s\n",
      "Solving 27-means\n",
      "Solved 27-means MSE: 7.200179164001952e-08 in 74.19992685317993s\n",
      "Solving 28-means\n",
      "Solved 28-means MSE: 7.197591234131551e-08 in 54.76881456375122s\n",
      "Solving 29-means\n",
      "Solved 29-means MSE: 7.194928830500658e-08 in 53.6009521484375s\n",
      "Solving 30-means\n",
      "Solved 30-means MSE: 7.19224595435719e-08 in 51.458263874053955s\n",
      "Solving 31-means\n",
      "Solved 31-means MSE: 7.174294236467205e-08 in 64.88348174095154s\n",
      "Solving 32-means\n",
      "Solved 32-means MSE: 7.169844706833572e-08 in 51.7998423576355s\n",
      "Solving 33-means\n",
      "Solved 33-means MSE: 7.156148940090645e-08 in 60.12347149848938s\n",
      "Solving 34-means\n",
      "Solved 34-means MSE: 7.1537894164031e-08 in 52.342050075531006s\n",
      "Solving 35-means\n",
      "Solved 35-means MSE: 7.139160074220996e-08 in 55.370177030563354s\n",
      "Solving 36-means\n",
      "Solved 36-means MSE: 7.137112900679199e-08 in 49.923227310180664s\n",
      "Solving 37-means\n",
      "Solved 37-means MSE: 7.134845059209027e-08 in 51.8769268989563s\n",
      "Solving 38-means\n",
      "Solved 38-means MSE: 7.132298163181616e-08 in 53.77725124359131s\n",
      "Solving 39-means\n",
      "Solved 39-means MSE: 7.128375190124103e-08 in 55.66965126991272s\n",
      "Solving 40-means\n",
      "Solved 40-means MSE: 7.125145962127988e-08 in 50.750205755233765s\n",
      "Solving 41-means\n",
      "Solved 41-means MSE: 7.107017385710179e-08 in 58.56920552253723s\n",
      "Solving 42-means\n",
      "Solved 42-means MSE: 7.097180698689698e-08 in 52.59757685661316s\n",
      "Solving 43-means\n",
      "Solved 43-means MSE: 7.09426652978351e-08 in 59.19583749771118s\n",
      "Solving 44-means\n",
      "Solved 44-means MSE: 7.091745213294587e-08 in 48.84259223937988s\n",
      "Solving 45-means\n",
      "Solved 45-means MSE: 7.089802678272861e-08 in 50.69871735572815s\n",
      "Solving 46-means\n",
      "Solved 46-means MSE: 7.078386521364166e-08 in 58.71261215209961s\n",
      "Solving 47-means\n",
      "Solved 47-means MSE: 7.07625146256774e-08 in 51.781822681427s\n",
      "Solving 48-means\n",
      "Solved 48-means MSE: 7.073948204983083e-08 in 51.50483512878418s\n",
      "Solving 49-means\n",
      "Solved 49-means MSE: 7.07123715137925e-08 in 50.80594229698181s\n",
      "Solving 50-means\n",
      "Solved 50-means MSE: 7.059804429943028e-08 in 55.616379499435425s\n",
      "Total execution time was 5147.659063816071s\n",
      "MSE: 0.00 ACC: 0.15 PUR: 1.00 NMI: 0.50 ARI: 0.15 ET(s): 5147.66\n"
     ]
    }
   ],
   "source": [
    "if(globalKernelKMeansPP_is_enabled):\n",
    "    sampling = 'batch'\n",
    "    sampling = 'sequential'\n",
    "    globalKernelKMeansPP = GlobalKernelKMeansPP(n_clusters=K, kernel_matrix=kernel_matrix, n_candidates=n_candidates, sampling=sampling, data_dir_path=f\"{data_dir_path}GlobalKernelKMeans_Dataset_{dataset_name}_Sampling_{sampling}_Kernel_{kernel}_K_{K}_Inits_{n_init}_Results.csv\", verbose=1)\n",
    "    globalKernelKMeansPP.fit()\n",
    "    if graph_is_enabled:\n",
    "        graph.plot_clusters(globalKernelKMeansPP.labels_[K])\n",
    "    else:\n",
    "        acc, pur, nmi, ari = evaluator.evaluate_model(y, globalKernelKMeansPP.labels_[K])\n",
    "        evaluation_results = General_Functions().append_to_file(y, globalKernelKMeansPP.labels_[K], globalKernelKMeansPP.inertia_[K], globalKernelKMeansPP.execution_times_,  f\"{data_dir_path}GlobalKernelKMeans_{sampling}_Results.txt\")\n",
    "        #General_Functions.create_csv(globalKernelKMeansPP.inertia_, globalKernelKMeansPP.n_iters_, globalKernelKMeansPP.execution_times_, f\"{data_dir_path}GlobalKernelKMeans_Dataset_{dataset_name}_Sampling_{sampling}_Kernel_{kernel}_K_{K}_Inits_{n_init}_Results.csv\")\n",
    "        #visualization.plot_tsne(X, y, data_dir_path= f\"{data_dir_path}GlobalKernelKMeans_{sampling}_\")"
   ]
  }
 ],
 "metadata": {
  "kernelspec": {
   "display_name": "Python 3 (ipykernel)",
   "language": "python",
   "name": "python3"
  },
  "language_info": {
   "codemirror_mode": {
    "name": "ipython",
    "version": 3
   },
   "file_extension": ".py",
   "mimetype": "text/x-python",
   "name": "python",
   "nbconvert_exporter": "python",
   "pygments_lexer": "ipython3",
   "version": "3.11.4"
  }
 },
 "nbformat": 4,
 "nbformat_minor": 5
}
