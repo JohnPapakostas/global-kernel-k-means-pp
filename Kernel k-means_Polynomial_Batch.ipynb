{
 "cells": [
  {
   "cell_type": "markdown",
   "id": "8157a5de",
   "metadata": {},
   "source": [
    "###  Libraries"
   ]
  },
  {
   "cell_type": "code",
   "execution_count": 1,
   "id": "1ec8df66",
   "metadata": {},
   "outputs": [
    {
     "name": "stderr",
     "output_type": "stream",
     "text": [
      "c:\\Users\\PAPASOFT INC\\AppData\\Local\\Programs\\Python\\Python311\\Lib\\site-packages\\tslearn\\bases\\bases.py:15: UserWarning: h5py not installed, hdf5 features will not be supported.\n",
      "Install h5py to use hdf5 features: http://docs.h5py.org/\n",
      "  warn(h5py_msg)\n"
     ]
    }
   ],
   "source": [
    "import numpy as np\n",
    "from sklearn.cluster import KMeans\n",
    "from sklearn.metrics.pairwise import pairwise_kernels\n",
    "from tslearn.clustering import KernelKMeans as TSKernelKMeans\n",
    "from KernelKMeans import KernelKMeans\n",
    "from GlobalKernelKMeans import GlobalKernelKMeans, GlobalKernelKMeansPP \n",
    "from Datasets.Datasets_Functions import *\n",
    "from Rings import Rings\n",
    "from Common_Modules.Evaluation import Evaluator\n",
    "from Common_Modules.Graph import Graph\n",
    "from Common_Modules.Visualization import Visualization\n",
    "from Common_Modules.General_Functions import General_Functions"
   ]
  },
  {
   "cell_type": "markdown",
   "id": "701fd6bc",
   "metadata": {},
   "source": [
    "### Switches"
   ]
  },
  {
   "cell_type": "code",
   "execution_count": 2,
   "id": "e998f1c2",
   "metadata": {},
   "outputs": [],
   "source": [
    "plot_is_enabled = False\n",
    "two_rings_is_enabled = False\n",
    "three_rings_is_enabled = False\n",
    "one_ring_with_two_gaussians_is_enabled = False\n",
    "three_rings_paper_is_enabled = False\n",
    "graph_is_enabled = False\n",
    "real_dataset_is_enabled = True\n",
    "kMeans_is_enabled = False\n",
    "kernelKMeans_is_enabled = False\n",
    "kernelKMeansPP_is_enabled = False\n",
    "globalKernelKMeans_is_enabled = False\n",
    "globalKernelKMeansPP_is_enabled = True"
   ]
  },
  {
   "cell_type": "markdown",
   "id": "a5718e92",
   "metadata": {},
   "source": [
    "### Global Variables"
   ]
  },
  {
   "cell_type": "code",
   "execution_count": 3,
   "id": "de6245c2",
   "metadata": {},
   "outputs": [],
   "source": [
    "seed = 42\n",
    "evaluator = Evaluator()\n",
    "n_candidates = n_init = 100\n",
    "kernels = [\"cosine\", \"polynomial\", \"rbf\"]\n",
    "kernel = kernels[1]\n",
    "degree = 3\n",
    "coef0  = 1"
   ]
  },
  {
   "cell_type": "markdown",
   "id": "eec895e5",
   "metadata": {},
   "source": [
    "### Visualization"
   ]
  },
  {
   "cell_type": "code",
   "execution_count": 4,
   "id": "78f34d42",
   "metadata": {},
   "outputs": [],
   "source": [
    "visualization = Visualization()\n",
    "colors = ['red', 'blue', 'green', 'orange', 'purple', 'yellow', 'black', 'cyan', 'gray', 'lime']"
   ]
  },
  {
   "cell_type": "markdown",
   "id": "d4f37574",
   "metadata": {},
   "source": [
    "### Load Dataset"
   ]
  },
  {
   "cell_type": "markdown",
   "id": "9d329be0",
   "metadata": {},
   "source": [
    "### 2Rings"
   ]
  },
  {
   "cell_type": "code",
   "execution_count": 5,
   "id": "85ea1db3",
   "metadata": {},
   "outputs": [],
   "source": [
    "if(two_rings_is_enabled):\n",
    "    centers_coordinates = [(-2, 2), (2, 2), (6, 2), (5, 6), (-1, 6), (2, 10), (5, -2), (2, -6), (-1, -2)]\n",
    "    \n",
    "    #centers_coordinates = [(-2, 2), (2, 2), (6, 2), (2, 10), (2, -6)]\n",
    "    \n",
    "    #centers_coordinates = [(-1, 2), (2, 2)]\n",
    "    rings = Rings()\n",
    "    \n",
    "    X, y = rings.make_rings_pairs(centers_coordinates=centers_coordinates, n_samples=100, factor=0.2, noise=0.0)\n",
    "        \n",
    "    K = 2 * len(centers_coordinates)\n",
    "    print(K)\n",
    "    kernel_matrix = pairwise_kernels(X, X, metric='rbf', gamma=1)\n",
    "    dataset_name = f\"{K}Rings\"\n",
    "    data_dir_path = f\"Results\\\\{dataset_name}\\\\{kernel}\\\\{n_init}\\\\\"\n",
    "    General_Functions().create_directory(data_dir_path)\n",
    "    visualization.plot(X, y, data_dir_path=f\"{data_dir_path}Generated.png\")"
   ]
  },
  {
   "cell_type": "markdown",
   "id": "e363a2bd",
   "metadata": {},
   "source": [
    "### 3Rings"
   ]
  },
  {
   "cell_type": "code",
   "execution_count": 6,
   "id": "e0e0b0a9",
   "metadata": {},
   "outputs": [],
   "source": [
    "if (three_rings_is_enabled):\n",
    "    colors = ['#1f77b4', '#ff7f0e', '#2ca02c']\n",
    "    rings = Rings()\n",
    "\n",
    "    centers_coordinates = [(0, 0)]\n",
    "    X, y = rings.make_concentric_rings(centers_coordinates=centers_coordinates, n_samples=150, radii=[1, 10, 25], noise=0)\n",
    "    \n",
    "    K = 3 * len(centers_coordinates)\n",
    "    kernel_matrix = pairwise_kernels(X, X, metric='sigmoid')"
   ]
  },
  {
   "cell_type": "markdown",
   "id": "6dc6e715",
   "metadata": {},
   "source": [
    "### 1 Ring with 2 Gaussians Inside"
   ]
  },
  {
   "cell_type": "code",
   "execution_count": 7,
   "id": "99acc8e3",
   "metadata": {},
   "outputs": [],
   "source": [
    "if(one_ring_with_two_gaussians_is_enabled):\n",
    "    rings = Rings()\n",
    "    centers_coordinates = [(0, 0), (20, 0)]\n",
    "    X, y = rings.make_multiple_rings_with_gaussians(centers_coordinates, n_samples=50, radius=5, noise=0.0, gaussian_samples=30)\n",
    "    X, y = rings.make_spiral(n_samples=100, noise=0.0, n_turns=1)\n",
    "    \n",
    "    K = 2 #4 * len(centers_coordinates)\n",
    "        \n",
    "    gamma = General_Functions.calculate_gamma_scale(X)\n",
    "    #gamma = 1/X.shape[1]\n",
    "    kernel = kernels[2]\n",
    "    print(gamma)\n",
    "    kernel_matrix = pairwise_kernels(X, X, metric=kernel, gamma=gamma)\n",
    "    dataset_name = f\"{int(K/3)}Rings_{int((2*K)/3)}Gaussians\"\n",
    "    data_dir_path = f\"Results\\\\{dataset_name}\\\\{kernel}\\\\{n_init}\\\\\"\n",
    "    General_Functions().create_directory(data_dir_path)\n",
    "    visualization.plot(X, y, data_dir_path=f\"{data_dir_path}Generated.png\")\n",
    "    print(len(y))"
   ]
  },
  {
   "cell_type": "markdown",
   "id": "d30f33c9",
   "metadata": {},
   "source": [
    "### 3Rings Paper"
   ]
  },
  {
   "cell_type": "code",
   "execution_count": 8,
   "id": "14ed84e0",
   "metadata": {},
   "outputs": [],
   "source": [
    "if (three_rings_paper_is_enabled):\n",
    "    rings = Rings(colors=colors)\n",
    "    K = 3\n",
    "    X, y, kernel_matrix = rings.global_kernel_k_means_three_rings()\n",
    "    rings.plot(X,y)"
   ]
  },
  {
   "cell_type": "markdown",
   "id": "dd74cf65",
   "metadata": {},
   "source": [
    "### Graphs"
   ]
  },
  {
   "cell_type": "code",
   "execution_count": 9,
   "id": "09282f0d",
   "metadata": {},
   "outputs": [],
   "source": [
    "if(graph_is_enabled):\n",
    "    K = 10\n",
    "    graph = Graph(n_communities=K, n_nodes_per_community=10, p_intra=1, p_inter=0.01, colors=colors)\n",
    "    dataset_name = f\"Graph_NPC_{graph.n_nodes_per_community}_PIntra_{graph.p_intra}_PInter_{graph.p_inter}\"\n",
    "    graph.create_adj_matrix()\n",
    "    kernel_matrix = graph.adj_matrix = pairwise_kernels(graph.adj_matrix, graph.adj_matrix, metric='linear')\n",
    "    data_dir_path = f\"Results\\\\{dataset_name}\\\\{kernel}\\\\{n_init}\\\\\"\n",
    "    General_Functions.create_directory(data_dir_path)"
   ]
  },
  {
   "cell_type": "markdown",
   "id": "7b9835fe",
   "metadata": {},
   "source": [
    "### Real Dataset"
   ]
  },
  {
   "cell_type": "code",
   "execution_count": 10,
   "id": "7a7cf5f4",
   "metadata": {},
   "outputs": [
    {
     "name": "stdout",
     "output_type": "stream",
     "text": [
      "Date Number is: 10992\n",
      "Data_Shape is: 16\n",
      "Directory 'Results\\pendigits\\polynomial\\100\\0.5238901719997593\\' already exists.\n"
     ]
    }
   ],
   "source": [
    "if (real_dataset_is_enabled):\n",
    "    dataset_names = [\"breast_cancer\", \"dermatology\", \"ecoli\", \"iris\", \"olivetti_faces\", \"pendigits\", \"waveform_v1\", \"wine\"]\n",
    "    dataset_name = dataset_names[5] \n",
    "    module_name = \"Datasets.Datasets\"\n",
    "    batch_size = 16\n",
    "    dataloader, input_dim, X, y = function_get_dataset(dataset_name, module_name, batch_size)\n",
    "    print('Date Number is:', len(y))\n",
    "    print('Data_Shape is:', input_dim)\n",
    "    K = len(np.unique(y))\n",
    "    gamma = General_Functions.calculate_gamma_scale(X)\n",
    "    kernel_matrix = pairwise_kernels(X, X, metric=kernel, gamma=gamma, degree=degree, coef0=coef0)\n",
    "    data_dir_path = f\"Results\\\\{dataset_name}\\\\{kernel}\\\\{n_init}\\\\{gamma}\\\\\"\n",
    "    General_Functions().create_directory(data_dir_path)\n",
    "    K = 50"
   ]
  },
  {
   "cell_type": "markdown",
   "id": "f5e3a280",
   "metadata": {},
   "source": [
    "### kMeans"
   ]
  },
  {
   "cell_type": "code",
   "execution_count": 11,
   "id": "f54c05ad",
   "metadata": {},
   "outputs": [],
   "source": [
    "if(kMeans_is_enabled):\n",
    "    kmeans = KMeans(n_clusters=K).fit(X)\n",
    "    acc, pur, nmi, ari = evaluator.evaluate_model(y, kmeans.labels_)\n",
    "    evaluator.print_evaluation()\n",
    "    if(plot_is_enabled):\n",
    "        visualization.plot_tsne(X, y, data_dir_path=\"Figures\\\\\"+dataset_name)"
   ]
  },
  {
   "cell_type": "markdown",
   "id": "ca418be2",
   "metadata": {},
   "source": [
    "### Kernel kMeans"
   ]
  },
  {
   "cell_type": "code",
   "execution_count": 12,
   "id": "8139e828",
   "metadata": {},
   "outputs": [],
   "source": [
    "if(kernelKMeans_is_enabled):\n",
    "    kernel_kmeans = TSKernelKMeans(n_clusters=K, n_init=10, kernel='precomputed').fit(kernel_matrix)\n",
    "    acc, pur, nmi, ari = evaluator.evaluate_model(y, kernel_kmeans.labels_)\n",
    "    evaluator.print_evaluation()\n",
    "    if(plot_is_enabled):\n",
    "        visualization.plot_tsne(X, y, data_dir_path=\"Figures\\\\\"+dataset_name)"
   ]
  },
  {
   "cell_type": "markdown",
   "id": "12d1a9fc",
   "metadata": {},
   "source": [
    "### Kernel kMeans++"
   ]
  },
  {
   "cell_type": "code",
   "execution_count": 13,
   "id": "f56cc1a7",
   "metadata": {},
   "outputs": [],
   "source": [
    "if(kernelKMeansPP_is_enabled):\n",
    "    initialization_methods = [\"forgy\", \"random\", \"k-means++\"]\n",
    "    n_iters_ = {}\n",
    "    execution_times_ = {}\n",
    "    inertias_ = {}\n",
    "    init = initialization_methods[2]\n",
    "    prev_K = K\n",
    "    K = 2\n",
    "    while (K != prev_K + 1):\n",
    "        kernelKMeans = KernelKMeans(n_clusters=K, kernel_matrix=kernel_matrix, n_init=n_init, init=init, verbose=0)\n",
    "        kernelKMeans.fit()\n",
    "        \n",
    "        if(plot_is_enabled):\n",
    "            if graph_is_enabled:\n",
    "                graph.plot_clusters(kernelKMeans.labels_)\n",
    "            else:\n",
    "                visualization.plot(X, kernelKMeans.labels_, data_dir_path=data_dir_path + \"KernelKMeans_\" + init)                \n",
    "        \n",
    "        n_iters_[K] = sum(kernelKMeans.n_iters_.values())\n",
    "        execution_times_[K] = sum(kernelKMeans.execution_times_.values())\n",
    "        inertias_[K] = kernelKMeans.inertia_\n",
    "        new_row = { \"K\": K, \"MSE\": inertias_[K], \"ITERATIONS\": n_iters_[K], \"EXECUTION TIME\": execution_times_[K]}\n",
    "        General_Functions.append_to_csv(f\"{data_dir_path}KernelKMeans_Dataset_{dataset_name}_Init_{init}_Kernel_{kernel}_K_{prev_K}_Inits_{n_init}_Results.csv\", new_row)\n",
    "        K += 1\n",
    "    K = prev_K   "
   ]
  },
  {
   "cell_type": "markdown",
   "id": "34983f02",
   "metadata": {},
   "source": [
    "### Global Kernel kMeans"
   ]
  },
  {
   "cell_type": "code",
   "execution_count": 14,
   "id": "1bfc8729",
   "metadata": {},
   "outputs": [],
   "source": [
    "if(globalKernelKMeans_is_enabled):\n",
    "    globalKernelKMeans = GlobalKernelKMeans(n_clusters=K, kernel_matrix=kernel_matrix, data_dir_path=f\"{data_dir_path}GlobalKernelKMeans_Dataset_{dataset_name}_Kernel_{kernel}_K_{K}_Inits_{n_init}_Results.csv\", verbose=1)\n",
    "    globalKernelKMeans.fit()\n",
    "    \n",
    "    if(plot_is_enabled):\n",
    "        if graph_is_enabled:\n",
    "            graph.plot_clusters(globalKernelKMeans.labels_[K])\n",
    "        else:\n",
    "            visualization.plot(X, globalKernelKMeans.labels_[K], data_dir_path=f\"{data_dir_path}GlobalKernelKMeans\")"
   ]
  },
  {
   "cell_type": "markdown",
   "id": "dabdbeaf",
   "metadata": {},
   "source": [
    "### Global Kernel kMeans++"
   ]
  },
  {
   "cell_type": "code",
   "execution_count": 15,
   "id": "ecff347c",
   "metadata": {},
   "outputs": [
    {
     "name": "stdout",
     "output_type": "stream",
     "text": [
      "Solving 2-means\n"
     ]
    }
   ],
   "source": [
    "if(globalKernelKMeansPP_is_enabled):\n",
    "    sampling_methods = [\"sequential\", \"batch\"]\n",
    "    sampling = sampling_methods[1] \n",
    "    globalKernelKMeansPP = GlobalKernelKMeansPP(n_clusters=K, kernel_matrix=kernel_matrix, n_candidates=n_candidates, sampling=sampling, data_dir_path=f\"{data_dir_path}GlobalKernelKMeans_Dataset_{dataset_name}_Sampling_{sampling}_Kernel_{kernel}_K_{K}_Inits_{n_init}_Results.csv\", verbose=1)\n",
    "    globalKernelKMeansPP.fit()\n",
    "    \n",
    "    #acc, pur, nmi, ari = evaluator.evaluate_model(y, globalKernelKMeansPP.labels_[K])\n",
    "    if(plot_is_enabled):\n",
    "        if graph_is_enabled:\n",
    "            graph.plot_clusters(globalKernelKMeansPP.labels_[K])\n",
    "        else:\n",
    "            visualization.plot(X, globalKernelKMeansPP.labels_[K], data_dir_path=f\"{data_dir_path}GlobalKernelKMeans_{sampling}_\")"
   ]
  }
 ],
 "metadata": {
  "kernelspec": {
   "display_name": "Python 3 (ipykernel)",
   "language": "python",
   "name": "python3"
  },
  "language_info": {
   "codemirror_mode": {
    "name": "ipython",
    "version": 3
   },
   "file_extension": ".py",
   "mimetype": "text/x-python",
   "name": "python",
   "nbconvert_exporter": "python",
   "pygments_lexer": "ipython3",
   "version": "3.11.4"
  }
 },
 "nbformat": 4,
 "nbformat_minor": 5
}
