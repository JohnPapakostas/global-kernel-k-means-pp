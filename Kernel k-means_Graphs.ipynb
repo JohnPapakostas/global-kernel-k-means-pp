{
 "cells": [
  {
   "cell_type": "markdown",
   "id": "8157a5de",
   "metadata": {},
   "source": [
    "###  Libraries"
   ]
  },
  {
   "cell_type": "code",
   "execution_count": null,
   "id": "1ec8df66",
   "metadata": {},
   "outputs": [],
   "source": [
    "import numpy as np\n",
    "from sklearn.cluster import KMeans\n",
    "from sklearn.metrics.pairwise import pairwise_kernels\n",
    "from tslearn.clustering import KernelKMeans as TSKernelKMeans\n",
    "from KernelKMeans import KernelKMeans\n",
    "from GlobalKernelKMeans import GlobalKernelKMeans, GlobalKernelKMeansPP \n",
    "from Datasets.Datasets_Functions import *\n",
    "from Rings import Rings\n",
    "from Common_Modules.Evaluation import Evaluator\n",
    "from Common_Modules.Graph import Graph\n",
    "from Common_Modules.Visualization import Visualization\n",
    "from Common_Modules.General_Functions import General_Functions"
   ]
  },
  {
   "cell_type": "markdown",
   "id": "701fd6bc",
   "metadata": {},
   "source": [
    "### Switches"
   ]
  },
  {
   "cell_type": "code",
   "execution_count": 2,
   "id": "e998f1c2",
   "metadata": {},
   "outputs": [],
   "source": [
    "plot_is_enabled = False\n",
    "two_rings_is_enabled = False\n",
    "three_rings_is_enabled = False\n",
    "one_ring_with_two_gaussians_is_enabled = False\n",
    "three_rings_paper_is_enabled = False\n",
    "graph_is_enabled = True\n",
    "real_dataset_is_enabled = False\n",
    "nc_is_enabled = True\n",
    "kMeans_is_enabled = False\n",
    "kernelKMeans_is_enabled = False\n",
    "kernelKMeansPP_is_enabled = True\n",
    "globalKernelKMeans_is_enabled = True\n",
    "globalKernelKMeansPP_is_enabled = True"
   ]
  },
  {
   "cell_type": "markdown",
   "id": "a5718e92",
   "metadata": {},
   "source": [
    "### Global Variables"
   ]
  },
  {
   "cell_type": "code",
   "execution_count": 3,
   "id": "de6245c2",
   "metadata": {},
   "outputs": [],
   "source": [
    "seed = 42\n",
    "evaluator = Evaluator()\n",
    "n_candidates = n_init = 50\n",
    "kernels = [\"cosine\", \"laplacian\", \"rbf\"]\n",
    "kernel = kernels[2]"
   ]
  },
  {
   "cell_type": "markdown",
   "id": "eec895e5",
   "metadata": {},
   "source": [
    "### Visualization"
   ]
  },
  {
   "cell_type": "code",
   "execution_count": 4,
   "id": "78f34d42",
   "metadata": {},
   "outputs": [],
   "source": [
    "visualization = Visualization()\n",
    "colors = ['red', 'blue', 'green', 'orange', 'purple', 'yellow', 'black', 'cyan', 'gray', 'lime']"
   ]
  },
  {
   "cell_type": "markdown",
   "id": "d4f37574",
   "metadata": {},
   "source": [
    "### Load Dataset"
   ]
  },
  {
   "cell_type": "markdown",
   "id": "9d329be0",
   "metadata": {},
   "source": [
    "### 2Rings"
   ]
  },
  {
   "cell_type": "code",
   "execution_count": 5,
   "id": "85ea1db3",
   "metadata": {},
   "outputs": [],
   "source": [
    "if(two_rings_is_enabled):\n",
    "    #centers_coordinates = [(-2, 2), (2, 2), (6, 2), (5, 6), (-1, 6), (2, 10), (5, -2), (2, -6), (-1, -2)] #Paper Rings\n",
    "    #gamma = 1.0 #Paper Rings\n",
    "\n",
    "    centers_coordinates = [(-2, 6), (2, 2), (6, 6), (-2, -2), (6, -2)] #Paper Rings Candidates\n",
    "    gamma = 1.12 #Paper Rings Candidates\n",
    "    rings = Rings()\n",
    "    #gamma = 2.82\n",
    "    X, y = rings.make_rings_pairs(centers_coordinates=centers_coordinates, n_samples=100, factor=0.2, noise=0.0)\n",
    "    K = 2 * len(centers_coordinates)\n",
    "    #gamma = General_Functions.calculate_gamma_scale(X)\n",
    "    kernel_matrix = pairwise_kernels(X, X, metric='rbf', gamma=gamma)\n",
    "    dataset_name = f\"{K}Rings\"\n",
    "    data_dir_path = f\"Results\\\\{dataset_name}\\\\{kernel}\\\\{n_init}\\\\{gamma}\"\n",
    "    General_Functions().create_directory(data_dir_path)\n",
    "    visualization.plot(X, y, data_dir_path=f\"{data_dir_path}Generated\")"
   ]
  },
  {
   "cell_type": "markdown",
   "id": "e363a2bd",
   "metadata": {},
   "source": [
    "### 3Rings"
   ]
  },
  {
   "cell_type": "code",
   "execution_count": 6,
   "id": "e0e0b0a9",
   "metadata": {},
   "outputs": [],
   "source": [
    "if (three_rings_is_enabled):\n",
    "    colors = ['#1f77b4', '#ff7f0e', '#2ca02c']\n",
    "    rings = Rings()\n",
    "\n",
    "    centers_coordinates = [(0, 0)]\n",
    "    X, y = rings.make_concentric_rings(centers_coordinates=centers_coordinates, n_samples=150, radii=[1, 10, 25], noise=0)\n",
    "    \n",
    "    K = 3 * len(centers_coordinates)\n",
    "    kernel_matrix = pairwise_kernels(X, X, metric='sigmoid')"
   ]
  },
  {
   "cell_type": "markdown",
   "id": "6dc6e715",
   "metadata": {},
   "source": [
    "### 1 Ring with 2 Gaussians Inside"
   ]
  },
  {
   "cell_type": "code",
   "execution_count": 7,
   "id": "99acc8e3",
   "metadata": {},
   "outputs": [],
   "source": [
    "if(one_ring_with_two_gaussians_is_enabled):\n",
    "    rings = Rings()\n",
    "    centers_coordinates = [(0, 0), (15,0), (30,0)]\n",
    "    X, y = rings.make_multiple_rings_with_gaussians(centers_coordinates, n_samples=50, radius=4.25, noise=0.0, gaussian_samples=50)\n",
    "    gamma = 0.08\n",
    "    K = 3 * len(centers_coordinates)\n",
    "    kernel_matrix = pairwise_kernels(X, X, metric=kernel, gamma=gamma)\n",
    "    dataset_name = f\"{int(K/3)}Rings_{int((2*K)/3)}Gaussians\"\n",
    "    data_dir_path = f\"Results\\\\{dataset_name}\\\\{kernel}\\\\{n_init}\\\\{gamma}\\\\\"\n",
    "    General_Functions().create_directory(data_dir_path)\n",
    "    visualization.plot(X, y, data_dir_path=f\"{data_dir_path}Generated\")"
   ]
  },
  {
   "cell_type": "markdown",
   "id": "d30f33c9",
   "metadata": {},
   "source": [
    "### 3Rings Paper Tzortzis"
   ]
  },
  {
   "cell_type": "code",
   "execution_count": 8,
   "id": "14ed84e0",
   "metadata": {},
   "outputs": [],
   "source": [
    "if (three_rings_paper_is_enabled):\n",
    "    rings = Rings(colors=colors)\n",
    "    K = 3\n",
    "    X, y, kernel_matrix = rings.global_kernel_k_means_three_rings()\n",
    "    rings.plot(X,y)"
   ]
  },
  {
   "cell_type": "markdown",
   "id": "dd74cf65",
   "metadata": {},
   "source": [
    "### Graphs"
   ]
  },
  {
   "cell_type": "code",
   "execution_count": null,
   "id": "09282f0d",
   "metadata": {},
   "outputs": [],
   "source": [
    "if(graph_is_enabled):\n",
    "    K = 10\n",
    "    graph = Graph(n_communities=K, n_nodes_per_community=10, p_intra=1, p_inter=0.01, colors=colors)\n",
    "    dataset_name = \"email-Eu-core\"\n",
    "    graph.create_G_from_file(f\"C:\\\\Users\\\\maria\\\\Documents\\\\GitHub\\\\global-kernel-k-means-pp\\\\Graphs\\\\{dataset_name}.txt\")\n",
    "    graph.create_adj_matrix()\n",
    "    graph.create_degrees_matrix()\n",
    "    if(nc_is_enabled):\n",
    "        kernel_matrix = graph.create_kernel_matrix_from_adj_matrix(D = graph.degree_matrix)\n",
    "    else:\n",
    "        kernel_matrix = graph.create_kernel_matrix_from_adj_matrix()\n",
    "    data_dir_path = f\"Results\\\\{dataset_name}\\\\{n_init}\\\\\"\n",
    "    General_Functions().create_directory(data_dir_path)"
   ]
  },
  {
   "cell_type": "markdown",
   "id": "7b9835fe",
   "metadata": {},
   "source": [
    "### Real Dataset"
   ]
  },
  {
   "cell_type": "code",
   "execution_count": 10,
   "id": "7a7cf5f4",
   "metadata": {},
   "outputs": [],
   "source": [
    "if (real_dataset_is_enabled):\n",
    "    dataset_names = [\"breast_cancer\", \"dermatology\", \"ecoli\", \"iris\", \"olivetti_faces\", \"pendigits\", \"waveform_v1\", \"wine\"]\n",
    "    dataset_name = dataset_names[5] \n",
    "    module_name = \"Datasets.Datasets\"\n",
    "    batch_size = 16\n",
    "    dataloader, input_dim, X, y = function_get_dataset(dataset_name, module_name, batch_size)\n",
    "    print('Date Number is:', len(y))\n",
    "    print('Data_Shape is:', input_dim)\n",
    "    K = len(np.unique(y))\n",
    "    gamma = General_Functions.calculate_gamma_scale(X)\n",
    "    kernel_matrix = pairwise_kernels(X, X, metric=kernel, gamma=gamma)\n",
    "    data_dir_path = f\"Results\\\\{dataset_name}\\\\{kernel}\\\\{n_init}\\\\{gamma}\\\\\"\n",
    "    General_Functions().create_directory(data_dir_path)\n",
    "    K = 50"
   ]
  },
  {
   "cell_type": "markdown",
   "id": "f5e3a280",
   "metadata": {},
   "source": [
    "### kMeans"
   ]
  },
  {
   "cell_type": "code",
   "execution_count": 11,
   "id": "f54c05ad",
   "metadata": {},
   "outputs": [],
   "source": [
    "if(kMeans_is_enabled):\n",
    "    kmeans = KMeans(n_clusters=K).fit(X)\n",
    "    acc, pur, nmi, ari = evaluator.evaluate_model(y, kmeans.labels_)\n",
    "    evaluator.print_evaluation()\n",
    "    if(plot_is_enabled):\n",
    "        visualization.plot_tsne(X, y, data_dir_path=\"Figures\\\\\"+dataset_name)"
   ]
  },
  {
   "cell_type": "markdown",
   "id": "ca418be2",
   "metadata": {},
   "source": [
    "### Kernel kMeans"
   ]
  },
  {
   "cell_type": "code",
   "execution_count": 12,
   "id": "8139e828",
   "metadata": {},
   "outputs": [],
   "source": [
    "if(kernelKMeans_is_enabled):\n",
    "    kernel_kmeans = TSKernelKMeans(n_clusters=K, n_init=10, kernel='precomputed').fit(kernel_matrix)\n",
    "    acc, pur, nmi, ari = evaluator.evaluate_model(y, kernel_kmeans.labels_)\n",
    "    evaluator.print_evaluation()\n",
    "    if(plot_is_enabled):\n",
    "        visualization.plot_tsne(X, y, data_dir_path=\"Figures\\\\\"+dataset_name)"
   ]
  },
  {
   "cell_type": "markdown",
   "id": "12d1a9fc",
   "metadata": {},
   "source": [
    "### Kernel kMeans++"
   ]
  },
  {
   "cell_type": "code",
   "execution_count": 21,
   "id": "f56cc1a7",
   "metadata": {},
   "outputs": [],
   "source": [
    "if(kernelKMeansPP_is_enabled):\n",
    "    initialization_methods = [\"forgy\", \"random\", \"k-means++\"]\n",
    "    n_iters_ = {}\n",
    "    execution_times_ = {}\n",
    "    inertias_ = {}\n",
    "    init = initialization_methods[1]\n",
    "    prev_K = 100\n",
    "    K = 100\n",
    "    while (K != prev_K + 1 ):\n",
    "        kernelKMeans = KernelKMeans(n_clusters=K, kernel_matrix=kernel_matrix, n_init=n_init, init=init, verbose=0)\n",
    "        if(nc_is_enabled):\n",
    "            kernelKMeans.fit(sample_weights = graph.weights)\n",
    "        else:\n",
    "            kernelKMeans.fit()    \n",
    "        #acc, pur, nmi, ari = evaluator.evaluate_model(y, kernelKMeans.labels_)\n",
    "        #evaluator.print_evaluation()\n",
    "        if(plot_is_enabled):\n",
    "            if graph_is_enabled:\n",
    "                graph.plot_clusters(kernelKMeans.labels_)\n",
    "            else:\n",
    "                visualization.plot(X, kernelKMeans.labels_, data_dir_path=data_dir_path + \"KernelKMeans_\" + init)                \n",
    "        \n",
    "        n_iters_[K] = sum(kernelKMeans.n_iters_.values())\n",
    "        execution_times_[K] = sum(kernelKMeans.execution_times_.values())\n",
    "        inertias_[K] = kernelKMeans.inertia_\n",
    "        new_row = { \"K\": K, \"MSE\": inertias_[K], \"ITERATIONS\": n_iters_[K], \"EXECUTION TIME\": execution_times_[K]}\n",
    "        General_Functions.append_to_csv(f\"{data_dir_path}KernelKMeans_Dataset_{dataset_name}_Init_{init}_Kernel_{kernel}_K_{prev_K}_Inits_{n_init}_Results.csv\", new_row)\n",
    "        K += 1\n",
    "    K = prev_K   "
   ]
  },
  {
   "cell_type": "code",
   "execution_count": 22,
   "id": "c1f4545d",
   "metadata": {},
   "outputs": [
    {
     "name": "stdout",
     "output_type": "stream",
     "text": [
      "{'K': 100, 'MSE': np.float64(949.0926618099677), 'ITERATIONS': 62, 'EXECUTION TIME': 3.607191324234009}\n"
     ]
    }
   ],
   "source": [
    "print(new_row)"
   ]
  },
  {
   "cell_type": "markdown",
   "id": "34983f02",
   "metadata": {},
   "source": [
    "### Global Kernel kMeans"
   ]
  },
  {
   "cell_type": "code",
   "execution_count": null,
   "id": "1bfc8729",
   "metadata": {},
   "outputs": [],
   "source": [
    "if(globalKernelKMeans_is_enabled):\n",
    "    globalKernelKMeans = GlobalKernelKMeans(n_clusters=K, kernel_matrix=kernel_matrix, data_dir_path=f\"{data_dir_path}GlobalKernelKMeans_Dataset_{dataset_name}_Kernel_{kernel}_K_{K}_Inits_{n_init}_Results.csv\", verbose=1)\n",
    "    if(nc_is_enabled):\n",
    "        globalKernelKMeans.fit(sample_weights = graph.weights)\n",
    "    else:\n",
    "        globalKernelKMeans.fit()    \n",
    "    #acc, pur, nmi, ari = evaluator.evaluate_model(y, globalKernelKMeans.labels_[K]) evaluator.print_evaluation()\n",
    "    if(plot_is_enabled):\n",
    "        if graph_is_enabled:\n",
    "            graph.plot_clusters(globalKernelKMeans.labels_[K])\n",
    "        else:\n",
    "            visualization.plot(X, globalKernelKMeans.labels_[K], data_dir_path=f\"{data_dir_path}GlobalKernelKMeans\")     "
   ]
  },
  {
   "cell_type": "code",
   "execution_count": 16,
   "id": "ecff347c",
   "metadata": {},
   "outputs": [
    {
     "name": "stdout",
     "output_type": "stream",
     "text": [
      "Solved 34-means MSE: 1000.3792964051237 in 1.6948542594909668s\n",
      "Solving 35-means\n",
      "Solved 35-means MSE: 998.8793269926873 in 1.7174885272979736s\n",
      "Solving 36-means\n",
      "Solved 36-means MSE: 997.5460548298186 in 1.71061110496521s\n",
      "Solving 37-means\n",
      "Solved 37-means MSE: 996.2127826781687 in 1.6911933422088623s\n",
      "Solving 38-means\n",
      "Solved 38-means MSE: 994.8795105377407 in 1.6751675605773926s\n",
      "Solving 39-means\n",
      "Solved 39-means MSE: 993.3795411486833 in 1.6768145561218262s\n",
      "Solving 40-means\n",
      "Solved 40-means MSE: 991.8795717633695 in 1.6426115036010742s\n",
      "Solving 41-means\n",
      "Solved 41-means MSE: 990.5462996472683 in 1.6290724277496338s\n",
      "Solving 42-means\n",
      "Solved 42-means MSE: 989.2130275423988 in 1.6506457328796387s\n",
      "Solving 43-means\n",
      "Solved 43-means MSE: 987.8797554487644 in 1.6803910732269287s\n",
      "Solving 44-means\n",
      "Solved 44-means MSE: 986.546483366368 in 1.6411969661712646s\n",
      "Solving 45-means\n",
      "Solved 45-means MSE: 985.2965752479448 in 1.6772410869598389s\n",
      "Solving 46-means\n",
      "Solved 46-means MSE: 984.0466671520087 in 1.7137126922607422s\n",
      "Solving 47-means\n",
      "Solved 47-means MSE: 982.7967590785677 in 1.6702892780303955s\n",
      "Solving 48-means\n",
      "Solved 48-means MSE: 981.4634870552163 in 1.6944222450256348s\n",
      "Solving 49-means\n",
      "Solved 49-means MSE: 980.130215043122 in 1.722944736480713s\n",
      "Solving 50-means\n",
      "Solved 50-means MSE: 978.8803070240822 in 1.6660048961639404s\n",
      "Solving 51-means\n",
      "Solved 51-means MSE: 977.7137936765876 in 1.6665453910827637s\n",
      "Solving 52-means\n",
      "Solved 52-means MSE: 976.5139163829789 in 1.710120439529419s\n",
      "Solving 53-means\n",
      "Solved 53-means MSE: 975.347403137841 in 1.7178330421447754s\n",
      "Solving 54-means\n",
      "Solved 54-means MSE: 974.0974952418316 in 1.6970629692077637s\n",
      "Solving 55-means\n",
      "Solved 55-means MSE: 972.8976180609941 in 1.6812710762023926s\n",
      "Solving 56-means\n",
      "Solved 56-means MSE: 971.7867526297568 in 1.7066411972045898s\n",
      "Solving 57-means\n",
      "Solved 57-means MSE: 970.5368448410027 in 1.7588214874267578s\n",
      "Solving 58-means\n",
      "Solved 58-means MSE: 969.336906505225 in 1.685986042022705s\n",
      "Solving 59-means\n",
      "Solved 59-means MSE: 968.2371218584984 in 1.729130744934082s\n",
      "Solving 60-means\n",
      "Solved 60-means MSE: 967.2035006332524 in 1.765864610671997s\n",
      "Solving 61-means\n",
      "Solved 61-means MSE: 966.2035314267248 in 1.6955876350402832s\n",
      "Solving 62-means\n",
      "Solved 62-means MSE: 964.9536239314887 in 1.7174947261810303s\n",
      "Solving 63-means\n",
      "Solved 63-means MSE: 963.9187421020605 in 1.7553393840789795s\n",
      "Solving 64-means\n",
      "Solved 64-means MSE: 962.5188349529527 in 1.7630043029785156s\n",
      "Solving 65-means\n",
      "Solved 65-means MSE: 961.5188658145855 in 1.7370359897613525s\n",
      "Solving 66-means\n",
      "Solved 66-means MSE: 960.3761940295752 in 1.8595893383026123s\n",
      "Solving 67-means\n",
      "Solved 67-means MSE: 959.1262868139506 in 1.8292126655578613s\n",
      "Solving 68-means\n",
      "Solved 68-means MSE: 958.0265649845799 in 1.6631603240966797s\n",
      "Solving 69-means\n",
      "Solved 69-means MSE: 956.9157012984549 in 1.6920135021209717s\n",
      "Solving 70-means\n",
      "Solved 70-means MSE: 955.749189406509 in 1.6249048709869385s\n",
      "Solving 71-means\n",
      "Solved 71-means MSE: 954.582677571693 in 1.64719820022583s\n",
      "Solving 72-means\n",
      "Solved 72-means MSE: 953.5827085093434 in 1.6484870910644531s\n",
      "Solving 73-means\n",
      "Solved 73-means MSE: 952.5116824909906 in 1.6131494045257568s\n",
      "Solving 74-means\n",
      "Solved 74-means MSE: 951.4350081799184 in 1.572638988494873s\n",
      "Solving 75-means\n",
      "Solved 75-means MSE: 950.2923371814902 in 1.5917844772338867s\n",
      "Solving 76-means\n",
      "Solved 76-means MSE: 949.2714809142935 in 1.5887844562530518s\n",
      "Solving 77-means\n",
      "Solved 77-means MSE: 948.2715119971648 in 1.5847928524017334s\n",
      "Solving 78-means\n",
      "Solved 78-means MSE: 947.1050010256865 in 1.6610205173492432s\n",
      "Solving 79-means\n",
      "Solved 79-means MSE: 946.0052812136389 in 1.7125773429870605s\n",
      "Solving 80-means\n",
      "Solved 80-means MSE: 945.0053123272203 in 1.718050479888916s\n",
      "Solving 81-means\n",
      "Solved 81-means MSE: 943.805437066399 in 1.729651689529419s\n",
      "Solving 82-means\n",
      "Solved 82-means MSE: 942.6627669687502 in 1.7477307319641113s\n",
      "Solving 83-means\n",
      "Solved 83-means MSE: 941.4962562809 in 1.8166546821594238s\n",
      "Solving 84-means\n",
      "Solved 84-means MSE: 940.4962874281315 in 1.5925393104553223s\n",
      "Solving 85-means\n",
      "Solved 85-means MSE: 939.4963185772864 in 1.6275756359100342s\n",
      "Solving 86-means\n",
      "Solved 86-means MSE: 938.3298079684049 in 1.584263563156128s\n",
      "Solving 87-means\n",
      "Solved 87-means MSE: 937.2189464954834 in 1.6478683948516846s\n",
      "Solving 88-means\n",
      "Solved 88-means MSE: 936.1668767245922 in 1.6348347663879395s\n",
      "Solving 89-means\n",
      "Solved 89-means MSE: 934.9169706829374 in 1.7083237171173096s\n",
      "Solving 90-means\n",
      "Solved 90-means MSE: 933.869976742692 in 1.549778699874878s\n",
      "Solving 91-means\n",
      "Solved 91-means MSE: 932.7034048638759 in 1.663010597229004s\n",
      "Solving 92-means\n",
      "Solved 92-means MSE: 931.7034361326976 in 1.6212728023529053s\n",
      "Solving 93-means\n",
      "Solved 93-means MSE: 930.5037506512198 in 1.573427677154541s\n",
      "Solving 94-means\n",
      "Solved 94-means MSE: 929.4454284350295 in 1.5713105201721191s\n",
      "Solving 95-means\n",
      "Solved 95-means MSE: 928.4105610471283 in 1.575268268585205s\n",
      "Solving 96-means\n",
      "Solved 96-means MSE: 927.3340150628495 in 1.568596601486206s\n",
      "Solving 97-means\n",
      "Solved 97-means MSE: 926.1913467827703 in 1.5655052661895752s\n",
      "Solving 98-means\n",
      "Solved 98-means MSE: 924.991472873134 in 1.5679864883422852s\n",
      "Solving 99-means\n",
      "Solved 99-means MSE: 923.9915042993739 in 1.5650694370269775s\n",
      "Solving 100-means\n",
      "Solved 100-means MSE: 922.9915357275634 in 1.5873425006866455s\n",
      "Total execution time was 178.07577848434448s\n"
     ]
    }
   ],
   "source": [
    "if(globalKernelKMeansPP_is_enabled):\n",
    "    #best_acc = 0\n",
    "    #best_gamma = 0\n",
    "    #while(best_acc != 1.0):\n",
    "    sampling_methods = [\"sequential\", \"batch\"]\n",
    "    sampling = sampling_methods[1]\n",
    "    globalKernelKMeansPP = GlobalKernelKMeansPP(n_clusters=K, kernel_matrix=kernel_matrix, n_candidates=n_candidates, sampling=sampling, data_dir_path=f\"{data_dir_path}GlobalKernelKMeans_Dataset_{dataset_name}_Sampling_{sampling}_Kernel_{kernel}_K_{K}_Inits_{n_init}_Results.csv\", verbose=1)\n",
    "    if(nc_is_enabled):\n",
    "        globalKernelKMeansPP.fit(sample_weights = graph.weights)\n",
    "    else:\n",
    "        globalKernelKMeansPP.fit()    \n",
    "\n",
    "    #acc, pur, nmi, ari = evaluator.evaluate_model(y, globalKernelKMeansPP.labels_[K])\n",
    "    \"\"\"if(acc> best_acc):\n",
    "        best_acc = acc\n",
    "        best_gamma = gamma\n",
    "        print(f\"{acc}, {gamma}\")\n",
    "    gamma += 0.01\"\"\"\n",
    "    if(plot_is_enabled):\n",
    "        if graph_is_enabled:\n",
    "            graph.plot_clusters(globalKernelKMeansPP.labels_[K])\n",
    "        else:\n",
    "            visualization.plot(X, globalKernelKMeansPP.labels_[K], data_dir_path=f\"{data_dir_path}GlobalKernelKMeans_{sampling}_\")"
   ]
  }
 ],
 "metadata": {
  "kernelspec": {
   "display_name": "Python 3",
   "language": "python",
   "name": "python3"
  },
  "language_info": {
   "codemirror_mode": {
    "name": "ipython",
    "version": 3
   },
   "file_extension": ".py",
   "mimetype": "text/x-python",
   "name": "python",
   "nbconvert_exporter": "python",
   "pygments_lexer": "ipython3",
   "version": "3.12.7"
  }
 },
 "nbformat": 4,
 "nbformat_minor": 5
}
