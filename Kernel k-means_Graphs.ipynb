{
 "cells": [
  {
   "cell_type": "markdown",
   "id": "8157a5de",
   "metadata": {},
   "source": [
    "###  Libraries"
   ]
  },
  {
   "cell_type": "code",
   "execution_count": 1,
   "id": "1ec8df66",
   "metadata": {},
   "outputs": [],
   "source": [
    "from KernelKMeans import KernelKMeans\n",
    "from GlobalKernelKMeans import GlobalKernelKMeans, GlobalKernelKMeansPP \n",
    "from Datasets.Datasets_Functions import *\n",
    "from Common_Modules.Graph import Graph\n",
    "from Common_Modules.General_Functions import General_Functions"
   ]
  },
  {
   "cell_type": "markdown",
   "id": "701fd6bc",
   "metadata": {},
   "source": [
    "### Switches"
   ]
  },
  {
   "cell_type": "code",
   "execution_count": 2,
   "id": "e998f1c2",
   "metadata": {},
   "outputs": [],
   "source": [
    "nc_is_enabled = True\n",
    "kernelKMeans_is_enabled = True\n",
    "globalKernelKMeans_is_enabled = True\n",
    "globalKernelKMeansPP_is_enabled = True"
   ]
  },
  {
   "cell_type": "markdown",
   "id": "a5718e92",
   "metadata": {},
   "source": [
    "### Global Variables"
   ]
  },
  {
   "cell_type": "code",
   "execution_count": 3,
   "id": "de6245c2",
   "metadata": {},
   "outputs": [],
   "source": [
    "K = 10\n",
    "n_candidates = n_init = 50"
   ]
  },
  {
   "cell_type": "markdown",
   "id": "dd74cf65",
   "metadata": {},
   "source": [
    "### Graph"
   ]
  },
  {
   "cell_type": "code",
   "execution_count": 4,
   "id": "09282f0d",
   "metadata": {},
   "outputs": [
    {
     "name": "stdout",
     "output_type": "stream",
     "text": [
      "Directory 'Results\\EMAIL-EU-CORE-TD1\\50\\' already exists.\n"
     ]
    }
   ],
   "source": [
    "dataset_names = [\"EMAIL-EU-CORE-TD1\", \"EMAIL-EU-CORE\", \"CA-GRQC\"]\n",
    "dataset_name = dataset_names[0]\n",
    "\n",
    "graph = Graph()\n",
    "graph.create_G_from_file(f\"Graphs\\\\{dataset_name}.txt\")\n",
    "if(nc_is_enabled):\n",
    "    kernel_matrix = graph.create_kernel_matrix_from_adj_matrix(D = graph.degree_matrix)\n",
    "else:\n",
    "    kernel_matrix = graph.create_kernel_matrix_from_adj_matrix()\n",
    "\n",
    "data_dir_path = f\"Results\\\\{dataset_name}\\\\{n_init}\\\\\"\n",
    "General_Functions().create_directory(data_dir_path)"
   ]
  },
  {
   "cell_type": "markdown",
   "id": "12d1a9fc",
   "metadata": {},
   "source": [
    "### Kernel kMeans"
   ]
  },
  {
   "cell_type": "code",
   "execution_count": 5,
   "id": "f56cc1a7",
   "metadata": {},
   "outputs": [
    {
     "name": "stdout",
     "output_type": "stream",
     "text": [
      "K: 10, MSE: 476.1686720705982, ITERATIONS: 53, EXECUTION TIME: 1.1272978782653809\n"
     ]
    }
   ],
   "source": [
    "if(kernelKMeans_is_enabled):\n",
    "    initialization_methods = [\"forgy\", \"random\", \"k-means++\"]\n",
    "    init = initialization_methods[2]\n",
    "    kernelKMeans = KernelKMeans(n_clusters=K, kernel_matrix=kernel_matrix, n_init=n_init, init=init, verbose=0)\n",
    "    if(nc_is_enabled):\n",
    "        kernelKMeans.fit(sample_weights = graph.sample_weights)\n",
    "    else:\n",
    "        kernelKMeans.fit()\n",
    "        \n",
    "    n_iters_ = sum(kernelKMeans.n_iters_.values())\n",
    "    execution_time_ = sum(kernelKMeans.execution_times_.values())\n",
    "    inertia_ = kernelKMeans.inertia_\n",
    "    print(f\"K: {K}, MSE: {inertia_}, ITERATIONS: {n_iters_}, EXECUTION TIME: {execution_time_}\")"
   ]
  },
  {
   "cell_type": "markdown",
   "id": "34983f02",
   "metadata": {},
   "source": [
    "### Global Kernel kMeans"
   ]
  },
  {
   "cell_type": "code",
   "execution_count": 6,
   "id": "1bfc8729",
   "metadata": {},
   "outputs": [
    {
     "name": "stdout",
     "output_type": "stream",
     "text": [
      "Solving Kernel 2-means\n",
      "Solved 2-means MSE: 489.34311560757675 in 0.7289865016937256s\n",
      "Solving Kernel 3-means\n",
      "Solved 3-means MSE: 487.07696707468915 in 0.6972260475158691s\n",
      "Solving Kernel 4-means\n",
      "Solved 4-means MSE: 484.90631792135946 in 0.762845516204834s\n",
      "Solving Kernel 5-means\n",
      "Solved 5-means MSE: 482.76216821756486 in 0.8544981479644775s\n",
      "Solving Kernel 6-means\n",
      "Solved 6-means MSE: 480.6621711968496 in 0.9233641624450684s\n",
      "Solving Kernel 7-means\n",
      "Solved 7-means MSE: 478.6624356179101 in 0.9641482830047607s\n",
      "Solving Kernel 8-means\n",
      "Solved 8-means MSE: 476.7780328751079 in 0.8835182189941406s\n",
      "Solving Kernel 9-means\n",
      "Solved 9-means MSE: 474.95765357388393 in 0.8984534740447998s\n",
      "Solving Kernel 10-means\n",
      "Solved 10-means MSE: 473.1597698015021 in 0.8758292198181152s\n",
      "Total execution time was 7.588869571685791s\n"
     ]
    }
   ],
   "source": [
    "if(globalKernelKMeans_is_enabled):\n",
    "    globalKernelKMeans = GlobalKernelKMeans(n_clusters=K, kernel_matrix=kernel_matrix, data_dir_path=f\"{data_dir_path}GlobalKernelKMeans_Dataset_{dataset_name}_K_{K}_Inits_{n_init}_Results.csv\", verbose=1)\n",
    "    \n",
    "    if(nc_is_enabled):\n",
    "        globalKernelKMeans.fit(sample_weights = graph.sample_weights)\n",
    "    else:\n",
    "        globalKernelKMeans.fit()"
   ]
  },
  {
   "cell_type": "code",
   "execution_count": 7,
   "id": "ecff347c",
   "metadata": {},
   "outputs": [
    {
     "name": "stdout",
     "output_type": "stream",
     "text": [
      "Solving 2-means\n",
      "Solved 2-means MSE: 490.2002580645161 in 0.11755537986755371s\n",
      "Solving 3-means\n",
      "Solved 3-means MSE: 487.7433742059389 in 0.11359524726867676s\n",
      "Solving 4-means\n",
      "Solved 4-means MSE: 486.1436329380472 in 0.1128087043762207s\n",
      "Solving 5-means\n",
      "Solved 5-means MSE: 484.5438918040056 in 0.11662864685058594s\n",
      "Solving 6-means\n",
      "Solved 6-means MSE: 482.944150803918 in 0.11075806617736816s\n",
      "Solving 7-means\n",
      "Solved 7-means MSE: 480.77350218469974 in 0.11134791374206543s\n",
      "Solving 8-means\n",
      "Solved 8-means MSE: 478.6740232782267 in 0.11939287185668945s\n",
      "Solving 9-means\n",
      "Solved 9-means MSE: 477.07402462542655 in 0.14401030540466309s\n",
      "Solving 10-means\n",
      "Solved 10-means MSE: 475.27611363129324 in 0.12019586563110352s\n",
      "Total execution time was 1.0662930011749268s\n"
     ]
    }
   ],
   "source": [
    "if(globalKernelKMeansPP_is_enabled):\n",
    "    sampling_methods = [\"sequential\", \"batch\"]\n",
    "    sampling = sampling_methods[1]\n",
    "    globalKernelKMeansPP = GlobalKernelKMeansPP(n_clusters=K, kernel_matrix=kernel_matrix, n_candidates=n_candidates, sampling=sampling, data_dir_path=f\"{data_dir_path}GlobalKernelKMeans_Dataset_{dataset_name}_Sampling_{sampling}_K_{K}_Inits_{n_init}_Results.csv\", verbose=1)\n",
    "    \n",
    "    if(nc_is_enabled):\n",
    "        globalKernelKMeansPP.fit(sample_weights = graph.sample_weights)\n",
    "    else:\n",
    "        globalKernelKMeansPP.fit()    "
   ]
  }
 ],
 "metadata": {
  "kernelspec": {
   "display_name": "Python 3",
   "language": "python",
   "name": "python3"
  },
  "language_info": {
   "codemirror_mode": {
    "name": "ipython",
    "version": 3
   },
   "file_extension": ".py",
   "mimetype": "text/x-python",
   "name": "python",
   "nbconvert_exporter": "python",
   "pygments_lexer": "ipython3",
   "version": "3.12.7"
  }
 },
 "nbformat": 4,
 "nbformat_minor": 5
}
