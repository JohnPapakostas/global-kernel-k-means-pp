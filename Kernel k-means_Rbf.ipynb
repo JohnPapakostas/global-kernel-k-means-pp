{
 "cells": [
  {
   "cell_type": "markdown",
   "id": "8157a5de",
   "metadata": {},
   "source": [
    "###  Libraries"
   ]
  },
  {
   "cell_type": "code",
   "execution_count": 1,
   "id": "1ec8df66",
   "metadata": {},
   "outputs": [
    {
     "name": "stderr",
     "output_type": "stream",
     "text": [
      "c:\\Users\\PAPASOFT INC\\AppData\\Local\\Programs\\Python\\Python311\\Lib\\site-packages\\tslearn\\bases\\bases.py:15: UserWarning: h5py not installed, hdf5 features will not be supported.\n",
      "Install h5py to use hdf5 features: http://docs.h5py.org/\n",
      "  warn(h5py_msg)\n"
     ]
    }
   ],
   "source": [
    "import numpy as np\n",
    "from sklearn.cluster import KMeans\n",
    "from sklearn.metrics.pairwise import pairwise_kernels\n",
    "from tslearn.clustering import KernelKMeans as TSKernelKMeans\n",
    "from KernelKMeans import KernelKMeans\n",
    "from GlobalKernelKMeans import GlobalKernelKMeans, GlobalKernelKMeansPP \n",
    "from Datasets.Datasets_Functions import *\n",
    "from Rings import Rings\n",
    "from Common_Modules.Evaluation import Evaluator\n",
    "from Common_Modules.Graph import Graph\n",
    "from Common_Modules.Visualization import Visualization\n",
    "from Common_Modules.General_Functions import General_Functions"
   ]
  },
  {
   "cell_type": "markdown",
   "id": "a5718e92",
   "metadata": {},
   "source": [
    "### Global Variables"
   ]
  },
  {
   "cell_type": "code",
   "execution_count": 2,
   "id": "de6245c2",
   "metadata": {},
   "outputs": [],
   "source": [
    "seed = 42\n",
    "evaluator = Evaluator()\n",
    "graph_is_enabled = False\n",
    "kMeans_is_enabled = False\n",
    "kernelKMeans_is_enabled = False\n",
    "kernelKMeansPP_is_enabled = True\n",
    "globalKernelKMeans_is_enabled = False\n",
    "globalKernelKMeansPP_is_enabled = False\n",
    "n_candidates = n_init = 100\n",
    "kernel = 'rbf'\n",
    "gamma = 1.0"
   ]
  },
  {
   "cell_type": "markdown",
   "id": "eec895e5",
   "metadata": {},
   "source": [
    "### Visualization"
   ]
  },
  {
   "cell_type": "code",
   "execution_count": 3,
   "id": "78f34d42",
   "metadata": {},
   "outputs": [],
   "source": [
    "visualization = Visualization()\n",
    "colors = ['red', 'blue', 'green', 'orange', 'purple', 'yellow', 'black', 'cyan', 'gray', 'lime']"
   ]
  },
  {
   "cell_type": "markdown",
   "id": "d4f37574",
   "metadata": {},
   "source": [
    "### Load Dataset"
   ]
  },
  {
   "cell_type": "markdown",
   "id": "9d329be0",
   "metadata": {},
   "source": [
    "### 2Rings"
   ]
  },
  {
   "cell_type": "code",
   "execution_count": 4,
   "id": "85ea1db3",
   "metadata": {},
   "outputs": [],
   "source": [
    "if(False):\n",
    "    # centers_coordinates = [(-1, 2), (2, 2), (2, 5), (2, -1), (5, 2), (6, 6), (-2, 6), (2, 8), (6, -2), (2, -4), (-2, -2)]\n",
    "    centers_coordinates = [(-1, 2), (2, 2)]\n",
    "    rings = Rings(colors)\n",
    "    X, y = rings.make_rings_pairs(centers_coordinates=centers_coordinates, n_samples=100, factor=0.2, noise=0.0)\n",
    "\n",
    "    K = 2 * len(centers_coordinates)\n",
    "    kernel_matrix = pairwise_kernels(X, X, metric='rbf', gamma=1)"
   ]
  },
  {
   "cell_type": "markdown",
   "id": "e363a2bd",
   "metadata": {},
   "source": [
    "### 3Rings"
   ]
  },
  {
   "cell_type": "code",
   "execution_count": 5,
   "id": "e0e0b0a9",
   "metadata": {},
   "outputs": [],
   "source": [
    "if (False):\n",
    "    import numpy as np\n",
    "    import matplotlib.pyplot as plt\n",
    "    from matplotlib.colors import ListedColormap\n",
    "\n",
    "    class Rings:\n",
    "        def __init__(self, colors, seed=42):\n",
    "            self.colors = colors\n",
    "            self.seed = seed\n",
    "\n",
    "        def plot(self, X, labels_):\n",
    "            plt.scatter(X[:, 0], X[:, 1], c=labels_, cmap=ListedColormap(self.colors))\n",
    "            plt.show()\n",
    "\n",
    "        def move_rings(self, center_coordinates, X):\n",
    "            X[:, 0] += center_coordinates[0]\n",
    "            X[:, 1] += center_coordinates[1]\n",
    "            return X\n",
    "\n",
    "        def generate_circle(self, n_samples, radius, noise):\n",
    "            angles = np.linspace(0, 2 * np.pi, n_samples, endpoint=False)\n",
    "            X = np.c_[radius * np.cos(angles), radius * np.sin(angles)]\n",
    "            X += noise * np.random.randn(n_samples, 2)\n",
    "            return X\n",
    "\n",
    "        def make_concentric_rings(self, centers_coordinates, n_samples=300, radii=[1, 2, 3], noise=0.05):\n",
    "            pairs = []\n",
    "            label = 0\n",
    "\n",
    "            for center_coordinates in centers_coordinates:\n",
    "                X_list, y_list = [], []\n",
    "                for i, radius in enumerate(radii):\n",
    "                    X = self.generate_circle(n_samples // len(radii), radius, noise)\n",
    "                    y = np.full(X.shape[0], i)  # Assign unique label for each ring\n",
    "                    X_list.append(X)\n",
    "                    y_list.append(y)\n",
    "\n",
    "                # Concatenate all rings\n",
    "                X = np.concatenate(X_list)\n",
    "                y = np.concatenate(y_list)\n",
    "\n",
    "                X = self.move_rings(center_coordinates, X)\n",
    "\n",
    "                pairs.append((X, y))\n",
    "                label += len(radii)\n",
    "\n",
    "            return self.concatenate_pairs(pairs)\n",
    "\n",
    "        def concatenate_pairs(self, pairs):\n",
    "            X = np.concatenate([X for X, _ in pairs])\n",
    "            y = np.concatenate([y for _, y in pairs])\n",
    "            self.plot(X, y)\n",
    "            return X, y\n",
    "\n",
    "    # Example usage:\n",
    "    colors = ['#1f77b4', '#ff7f0e', '#2ca02c']\n",
    "    rings = Rings(colors=colors)\n",
    "\n",
    "    # Define the center for the single set of three concentric rings\n",
    "    centers_coordinates = [(0, 0)]\n",
    "\n",
    "    # Generate and plot the rings\n",
    "    X, y = rings.make_concentric_rings(centers_coordinates=centers_coordinates, n_samples=150, radii=[1, 10, 25], noise=0)\n",
    "\n",
    "    K = 3 * len(centers_coordinates)\n",
    "    kernel_matrix = pairwise_kernels(X, X, metric='sigmoid')\n",
    "    print(X)"
   ]
  },
  {
   "cell_type": "markdown",
   "id": "6dc6e715",
   "metadata": {},
   "source": [
    "### 1 Ring with 2 Gaussians Inside"
   ]
  },
  {
   "cell_type": "code",
   "execution_count": 6,
   "id": "99acc8e3",
   "metadata": {},
   "outputs": [],
   "source": [
    "if(False):\n",
    "    import numpy as np\n",
    "    import matplotlib.pyplot as plt\n",
    "    from matplotlib.colors import ListedColormap\n",
    "    from sklearn.metrics.pairwise import pairwise_kernels\n",
    "    import copy\n",
    "    \n",
    "    class Rings:\n",
    "        def __init__(self, colors, seed=42):\n",
    "            self.colors = colors\n",
    "            self.seed = seed\n",
    "            np.random.seed(self.seed)\n",
    "    \n",
    "        def plot(self, X, labels_):\n",
    "            plt.scatter(X[:, 0], X[:, 1], c=labels_, cmap=ListedColormap(self.colors))\n",
    "            plt.axis('off')\n",
    "            plt.show()\n",
    "    \n",
    "        def generate_circle(self, n_samples, radius, noise):\n",
    "            angles = np.linspace(0, 2 * np.pi, n_samples, endpoint=False)\n",
    "            X = np.c_[radius * np.cos(angles), radius * np.sin(angles)]\n",
    "            X += noise * np.random.randn(n_samples, 2)\n",
    "            return X\n",
    "    \n",
    "        def generate_gaussians(self, n_samples, means, cov, labels):\n",
    "            X = np.vstack([np.random.multivariate_normal(mean, cov, n_samples) for mean in means])\n",
    "            y = np.hstack([[label]*n_samples for label in labels])\n",
    "            return X, y\n",
    "    \n",
    "        def make_multiple_rings_with_gaussians(self, centers_coordinates, n_samples=100, radius=10, noise=0.05, gaussian_samples=50):\n",
    "            X_list, y_list = [], []\n",
    "            label_offset = 0\n",
    "            \n",
    "            for center_coordinates in centers_coordinates:\n",
    "                # Generate ring\n",
    "                X_ring = self.generate_circle(n_samples, radius, noise)\n",
    "                y_ring = np.full(X_ring.shape[0], label_offset)  # Label for the ring\n",
    "                X_ring = self.move_rings(center_coordinates, X_ring)\n",
    "                X_list.append(X_ring)\n",
    "                y_list.append(y_ring)\n",
    "                \n",
    "                # Generate 2 Gaussians inside the ring\n",
    "                gaussians_X, gaussians_y = self.generate_gaussians(\n",
    "                    gaussian_samples,\n",
    "                    means=[(center_coordinates[0] - 1, center_coordinates[1]), \n",
    "                           (center_coordinates[0] + 1, center_coordinates[1])],  # Centered near the ring's center\n",
    "                    cov=[[0.1, 0], [0, 0.1]],  # Covariance matrix\n",
    "                    labels=[label_offset + 1, label_offset + 2]  # Unique labels for Gaussians\n",
    "                )\n",
    "    \n",
    "                X_list.append(gaussians_X)\n",
    "                y_list.append(gaussians_y)\n",
    "    \n",
    "                label_offset = label_offset + 3\n",
    "            # Concatenate all parts\n",
    "            X = np.concatenate(X_list)\n",
    "            y = np.concatenate(y_list)\n",
    "    \n",
    "            self.plot(X, y)\n",
    "            return X, y\n",
    "    \n",
    "        def move_rings(self, center_coordinates, X):\n",
    "            X[:, 0] += center_coordinates[0]\n",
    "            X[:, 1] += center_coordinates[1]\n",
    "            return X\n",
    "    \n",
    "    # Usage example\n",
    "    colors = ['purple', 'orange', 'blue', 'red', 'green', 'lime']\n",
    "    \n",
    "    rings = Rings(colors)\n",
    "    centers_coordinates = [(5, 5), (-5, 5)]\n",
    "    X, y = rings.make_multiple_rings_with_gaussians(centers_coordinates, n_samples=100, radius=3, noise=0.0, gaussian_samples=50)\n",
    "    \n",
    "    K = 3 * len(centers_coordinates)\n",
    "    kernel_matrix = pairwise_kernels(X, X, metric='rbf', gamma=0.5)"
   ]
  },
  {
   "cell_type": "markdown",
   "id": "d30f33c9",
   "metadata": {},
   "source": [
    "### 3Rings Paper"
   ]
  },
  {
   "cell_type": "code",
   "execution_count": 7,
   "id": "14ed84e0",
   "metadata": {},
   "outputs": [],
   "source": [
    "if (False):\n",
    "    import scipy.io\n",
    "    import numpy as np\n",
    "    X_mat = scipy.io.loadmat('3circles_dataset.mat')\n",
    "    X = np.array(X_mat['Dataset'])\n",
    "    kernel_matrix_mat = scipy.io.loadmat('3circles_kernel_matrix.mat')\n",
    "    kernel_matrix = np.array(kernel_matrix_mat['K'])\n",
    "    y = np.loadtxt('array.txt').astype(int)\n",
    "    K = 3\n",
    "    rings.plot(X,y)\n",
    "    print(y)"
   ]
  },
  {
   "cell_type": "markdown",
   "id": "dd74cf65",
   "metadata": {},
   "source": [
    "### Graphs"
   ]
  },
  {
   "cell_type": "code",
   "execution_count": 8,
   "id": "09282f0d",
   "metadata": {},
   "outputs": [],
   "source": [
    "if(graph_is_enabled):\n",
    "    # Number of nodes per community\n",
    "    n_nodes_per_community = 10\n",
    "\n",
    "    # Number of communities\n",
    "    K = n_communities = 10\n",
    "    \n",
    "    # Probability of intra-community edge\n",
    "    p_intra = 1  \n",
    "    \n",
    "    # Probability of inter-community edge\n",
    "    p_inter = 0.01  \n",
    "\n",
    "    graph = Graph(n_communities, n_nodes_per_community, p_intra, p_inter, colors)\n",
    "    graph.create_adj_matrix()\n",
    "    kernel_matrix = graph.adj_matrix = pairwise_kernels(graph.adj_matrix, graph.adj_matrix, metric='linear')\n",
    "    graph.create_kernel_matrix_from_adj_matrix()"
   ]
  },
  {
   "cell_type": "markdown",
   "id": "7b9835fe",
   "metadata": {},
   "source": [
    "### Real Dataset"
   ]
  },
  {
   "cell_type": "code",
   "execution_count": 9,
   "id": "7a7cf5f4",
   "metadata": {},
   "outputs": [
    {
     "name": "stdout",
     "output_type": "stream",
     "text": [
      "Data_Shape is: 30\n",
      "Batches Number is: 36\n"
     ]
    }
   ],
   "source": [
    "dataset_name = \"dermatology\" # The available datasets are: breast_cancer, dermatology, ecoli, iris, olivetti_faces, pendigits, waveform_v1, wine\n",
    "module_name = \"Datasets.Datasets\"\n",
    "batch_size = 16\n",
    "dataloader, input_dim, X, y = function_get_dataset(dataset_name, module_name, batch_size)\n",
    "print('Data_Shape is:', input_dim)\n",
    "print('Batches Number is:', len(dataloader))"
   ]
  },
  {
   "cell_type": "code",
   "execution_count": 10,
   "id": "acf9ba5c",
   "metadata": {},
   "outputs": [
    {
     "name": "stdout",
     "output_type": "stream",
     "text": [
      "Sum of all squared Euclidean distances: 403348.8659859283\n",
      "4.341932338976587e-09\n",
      "Directory 'Results\\breast_cancer\\rbf\\100\\' already exists.\n"
     ]
    }
   ],
   "source": [
    "import numpy as np\n",
    "\n",
    "# Number of points\n",
    "n = X.shape[0]\n",
    "\n",
    "# Compute the squared Euclidean distance between all pairs of points\n",
    "X_square = np.sum(X**2, axis=1).reshape((n, 1))\n",
    "distance_matrix = X_square + X_square.T - 2 * np.dot(X, X.T)\n",
    "\n",
    "# Ensure all distances are non-negative (due to floating-point precision issues)\n",
    "distance_matrix = np.maximum(abs(distance_matrix), 0)\n",
    "\n",
    "# Sum all the elements of the distance matrix\n",
    "sum_of_distances = np.sum(distance_matrix)\n",
    "\n",
    "print(\"Sum of all squared Euclidean distances:\", sum_of_distances)\n",
    "\n",
    "gamma = 1/((n^2)*sum_of_distances)\n",
    "print(gamma)\n",
    "K = len(np.unique(y))\n",
    "kernel_matrix = pairwise_kernels(X, X, metric=kernel, gamma=gamma)\n",
    "data_dir_path = f\"Results\\\\{dataset_name}\\\\{kernel}\\\\{n_init}\\\\\"\n",
    "General_Functions().create_directory(data_dir_path)\n",
    "K = 50"
   ]
  },
  {
   "cell_type": "markdown",
   "id": "f5e3a280",
   "metadata": {},
   "source": [
    "### kMeans"
   ]
  },
  {
   "cell_type": "code",
   "execution_count": 11,
   "id": "f54c05ad",
   "metadata": {},
   "outputs": [],
   "source": [
    "if(kMeans_is_enabled):\n",
    "    kmeans = KMeans(n_clusters=K).fit(X)\n",
    "    acc, pur, nmi, ari = evaluator.evaluate_model(y, kmeans.labels_)\n",
    "    evaluator.print_evaluation()\n",
    "    visualization.plot_tsne(X, y, data_dir_path=\"Figures\\\\\"+dataset_name)"
   ]
  },
  {
   "cell_type": "markdown",
   "id": "ca418be2",
   "metadata": {},
   "source": [
    "### Kernel kMeans"
   ]
  },
  {
   "cell_type": "code",
   "execution_count": 12,
   "id": "8139e828",
   "metadata": {},
   "outputs": [],
   "source": [
    "if(kernelKMeans_is_enabled):\n",
    "    kernel_kmeans = TSKernelKMeans(n_clusters=K, n_init=10, kernel='precomputed').fit(kernel_matrix)\n",
    "    acc, pur, nmi, ari = evaluator.evaluate_model(y, kernel_kmeans.labels_)\n",
    "    evaluator.print_evaluation()\n",
    "    visualization.plot_tsne(X, y, data_dir_path=\"Figures\\\\\"+dataset_name)"
   ]
  },
  {
   "cell_type": "markdown",
   "id": "12d1a9fc",
   "metadata": {},
   "source": [
    "### Kernel kMeans++"
   ]
  },
  {
   "cell_type": "code",
   "execution_count": 13,
   "id": "f56cc1a7",
   "metadata": {},
   "outputs": [
    {
     "name": "stdout",
     "output_type": "stream",
     "text": [
      "46\n",
      "47\n"
     ]
    }
   ],
   "source": [
    "if(kernelKMeansPP_is_enabled):\n",
    "    n_iters_ = {}\n",
    "    execution_times_ = {}\n",
    "    inertias_ = {}\n",
    "    #init = \"random\"\n",
    "    #init = \"k-means++\"\n",
    "    init = \"forgy\"\n",
    "    #General_Functions.append_to_csv(f\"{data_dir_path}KernelKMeans_Dataset_{dataset_name}_Init_{init}_Kernel_{kernel}_K_{K}_Inits_{n_init}_Results.csv\", new_row)\n",
    "    prev_K = K\n",
    "    K = 2\n",
    "    while (K != prev_K + 1):\n",
    "        print(K)\n",
    "        kernelKMeans = KernelKMeans(n_clusters=K, kernel_matrix=kernel_matrix, n_init=n_init, init=init, verbose=0)\n",
    "        kernelKMeans.fit()\n",
    "        if graph_is_enabled:\n",
    "            graph.plot_clusters(kernelKMeans.labels_)\n",
    "        #else:\n",
    "            #evaluation_results = General_Functions().append_to_file(y, kernelKMeans.labels_, kernelKMeans.inertia_, kernelKMeans.execution_times_, f\"{data_dir_path}KernelKMeans_{init}_Results.txt\")\n",
    "            #visualization.plot_tsne(X, y, data_dir_path=data_dir_path + \"KernelKMeans_\" + init)\n",
    "            #General_Functions.create_csv(kernelKMeans.inertia_, kernelKMeans.n_iters_, kernelKMeans.execution_times_, f\"{data_dir_path}KernelKMeans_{init}_Results.csv\")        \n",
    "            # That's the function of grount truth error\n",
    "            #ground_truth_error = kernelKMeans.calculate_ground_truth_error(y)\n",
    "            #print(f\"Ground Truth Error is: {ground_truth_error}\")    \n",
    "        n_iters_[K] = sum(kernelKMeans.n_iters_.values())\n",
    "        execution_times_[K] = sum(kernelKMeans.execution_times_.values())\n",
    "        inertias_[K] = kernelKMeans.inertia_\n",
    "        new_row = { \"K\": K, \"MSE\": inertias_[K], \"ITERATIONS\": n_iters_[K], \"EXECUTION TIME\": execution_times_[K]}\n",
    "        General_Functions.append_to_csv(f\"{data_dir_path}KernelKMeans_Dataset_{dataset_name}_Init_{init}_Kernel_{kernel}_K_{prev_K}_Inits_{n_init}_Results.csv\", new_row)\n",
    "        K += 1\n",
    "    K = prev_K   "
   ]
  },
  {
   "cell_type": "markdown",
   "id": "34983f02",
   "metadata": {},
   "source": [
    "### Global Kernel kMeans"
   ]
  },
  {
   "cell_type": "code",
   "execution_count": null,
   "id": "1bfc8729",
   "metadata": {},
   "outputs": [],
   "source": [
    "if(globalKernelKMeans_is_enabled):\n",
    "    globalKernelKMeans = GlobalKernelKMeans(n_clusters=K, kernel_matrix=kernel_matrix, data_dir_path=f\"{data_dir_path}GlobalKernelKMeans_Dataset_{dataset_name}_Kernel_{kernel}_K_{K}_Inits_{n_init}_Results.csv\", verbose=1)\n",
    "    globalKernelKMeans.fit()\n",
    "    \n",
    "    if graph_is_enabled:\n",
    "        graph.plot_clusters(globalKernelKMeans.labels_[K])\n",
    "    else:\n",
    "        evaluation_results = General_Functions().append_to_file(y, globalKernelKMeans.labels_[K], globalKernelKMeans.inertia_[K], globalKernelKMeans.execution_times_, f\"{data_dir_path}GlobalKernelKMeans_Results.txt\")\n",
    "        #visualization.plot_tsne(X, y, data_dir_path=data_dir_path + \"\\\\GlobalKernelKMeans\")\n",
    "        #General_Functions.create_csv(globalKernelKMeans.inertia_, globalKernelKMeans.n_iters_, globalKernelKMeans.execution_times_, f\"{data_dir_path}GlobalKernelKMeans_Dataset_{dataset_name}_Kernel_{kernel}_K_{K}_Inits_{n_init}_Results.csv\")\n",
    "# 0.265"
   ]
  },
  {
   "cell_type": "markdown",
   "id": "dabdbeaf",
   "metadata": {},
   "source": [
    "### Global Kernel kMeans++"
   ]
  },
  {
   "cell_type": "code",
   "execution_count": null,
   "id": "ecff347c",
   "metadata": {},
   "outputs": [],
   "source": [
    "if(globalKernelKMeansPP_is_enabled):\n",
    "    sampling = 'batch'\n",
    "    sampling = 'sequential'\n",
    "    globalKernelKMeansPP = GlobalKernelKMeansPP(n_clusters=K, kernel_matrix=kernel_matrix, n_candidates=n_candidates, sampling=sampling, data_dir_path=f\"{data_dir_path}GlobalKernelKMeans_Dataset_{dataset_name}_Sampling_{sampling}_Kernel_{kernel}_K_{K}_Inits_{n_init}_Results.csv\", verbose=1)\n",
    "    globalKernelKMeansPP.fit()\n",
    "    if graph_is_enabled:  \n",
    "        graph.plot_clusters(globalKernelKMeansPP.labels_[K])\n",
    "    else:\n",
    "        acc, pur, nmi, ari = evaluator.evaluate_model(y, globalKernelKMeansPP.labels_[K])\n",
    "        evaluation_results = General_Functions().append_to_file(y, globalKernelKMeansPP.labels_[K], globalKernelKMeansPP.inertia_[K], globalKernelKMeansPP.execution_times_,  f\"{data_dir_path}GlobalKernelKMeans_{sampling}_Results.txt\")\n",
    "        #General_Functions.create_csv(globalKernelKMeansPP.inertia_, globalKernelKMeansPP.n_iters_, globalKernelKMeansPP.execution_times_, f\"{data_dir_path}GlobalKernelKMeans_Dataset_{dataset_name}_Sampling_{sampling}_Kernel_{kernel}_K_{K}_Inits_{n_init}_Results.csv\")\n",
    "        #visualization.plot_tsne(X, y, data_dir_path= f\"{data_dir_path}GlobalKernelKMeans_{sampling}_\")"
   ]
  }
 ],
 "metadata": {
  "kernelspec": {
   "display_name": "Python 3 (ipykernel)",
   "language": "python",
   "name": "python3"
  },
  "language_info": {
   "codemirror_mode": {
    "name": "ipython",
    "version": 3
   },
   "file_extension": ".py",
   "mimetype": "text/x-python",
   "name": "python",
   "nbconvert_exporter": "python",
   "pygments_lexer": "ipython3",
   "version": "3.11.4"
  }
 },
 "nbformat": 4,
 "nbformat_minor": 5
}
