{
 "cells": [
  {
   "cell_type": "markdown",
   "id": "8157a5de",
   "metadata": {},
   "source": [
    "###  Libraries"
   ]
  },
  {
   "cell_type": "code",
   "execution_count": null,
   "id": "1ec8df66",
   "metadata": {},
   "outputs": [],
   "source": [
    "from sklearn.cluster import KMeans\n",
    "from sklearn.metrics.pairwise import pairwise_kernels\n",
    "import matplotlib.pyplot as plt\n",
    "from matplotlib.colors import ListedColormap\n",
    "from tslearn.clustering import KernelKMeans as TSKernelKMeans\n",
    "from KernelKMeans import KernelKMeans\n",
    "from GlobalKernelKMeans import GlobalKernelKMeans\n",
    "from Rings import Rings\n",
    "from Common_Modules.Evaluation import Evaluator"
   ]
  },
  {
   "cell_type": "markdown",
   "id": "a5718e92",
   "metadata": {},
   "source": [
    "### Global Variables"
   ]
  },
  {
   "cell_type": "code",
   "execution_count": null,
   "id": "de6245c2",
   "metadata": {},
   "outputs": [],
   "source": [
    "seed = 42\n",
    "evaluator = Evaluator()"
   ]
  },
  {
   "cell_type": "markdown",
   "id": "d4f37574",
   "metadata": {},
   "source": [
    "### Load Dataset"
   ]
  },
  {
   "cell_type": "code",
   "execution_count": null,
   "id": "85ea1db3",
   "metadata": {},
   "outputs": [],
   "source": [
    "colors = ['red', 'blue', 'green', 'orange', 'purple', 'yellow', 'black', 'cyan', 'gray', 'lime']\n",
    "\n",
    "# Generate 5 pairs of data with specified center positions and unique IDs for each ring\n",
    "centers_coordinates = [(2, 2), (-2, 2)]  # Specify center positions for each pair\n",
    "\n",
    "rings = Rings()\n",
    "\n",
    "X, y = rings.make_rings_pairs(centers_coordinates=centers_coordinates, n_samples=500, factor=0.2, noise=0.05)\n",
    "\n",
    "plt.scatter(X[:, 0], X[:, 1], c=y, cmap=ListedColormap(colors))"
   ]
  },
  {
   "cell_type": "code",
   "execution_count": null,
   "id": "b44388a2",
   "metadata": {},
   "outputs": [],
   "source": [
    "K = 4\n",
    "kernel_matrix = pairwise_kernels(X, X, metric='rbf', gamma=3)"
   ]
  },
  {
   "cell_type": "markdown",
   "id": "f5e3a280",
   "metadata": {},
   "source": [
    "### kMeans"
   ]
  },
  {
   "cell_type": "code",
   "execution_count": null,
   "id": "f54c05ad",
   "metadata": {},
   "outputs": [],
   "source": [
    "kmeans = KMeans(n_clusters=K).fit(X)\n",
    "acc, pur, nmi, ari = evaluator.evaluate_model(y, kmeans.labels_)\n",
    "evaluator.print_evaluation()\n",
    "plt.scatter(X[:, 0], X[:, 1], c=kmeans.labels_, cmap=ListedColormap(colors))"
   ]
  },
  {
   "cell_type": "markdown",
   "id": "ca418be2",
   "metadata": {},
   "source": [
    "### Kernel kMeans"
   ]
  },
  {
   "cell_type": "code",
   "execution_count": null,
   "id": "8139e828",
   "metadata": {},
   "outputs": [],
   "source": [
    "# Should find a way to init the fucking centers!\n",
    "kernel_kmeans = TSKernelKMeans(n_clusters=K, n_init=10, kernel='precomputed').fit(kernel_matrix)\n",
    "acc, pur, nmi, ari = evaluator.evaluate_model(y, kernel_kmeans.labels_)\n",
    "evaluator.print_evaluation()\n",
    "plt.scatter(X[:, 0], X[:, 1], c=kernel_kmeans.labels_, cmap=ListedColormap(colors))\n",
    "plt.show()"
   ]
  },
  {
   "cell_type": "markdown",
   "id": "12d1a9fc",
   "metadata": {},
   "source": [
    "### Kernel kMeans++"
   ]
  },
  {
   "cell_type": "code",
   "execution_count": null,
   "id": "f56cc1a7",
   "metadata": {},
   "outputs": [],
   "source": [
    "kernelKMeans =  KernelKMeans()\n",
    "min_total_error, best_partition = kernelKMeans.kernel_kmeans(X, K, kernel_matrix, n_init=10, method='k-means++')\n",
    "plt.scatter(X[:, 0], X[:, 1], c=best_partition, cmap=ListedColormap(colors))\n",
    "plt.title(min_total_error)\n",
    "plt.show()"
   ]
  },
  {
   "cell_type": "markdown",
   "id": "34983f02",
   "metadata": {},
   "source": [
    "### Global Kernel kMeans"
   ]
  },
  {
   "cell_type": "code",
   "execution_count": null,
   "id": "f79d77f0",
   "metadata": {},
   "outputs": [],
   "source": [
    "globalKernelKMeans =  GlobalKernelKMeans()\n",
    "min_total_error, best_partition, _, _ = globalKernelKMeans.global_kernel_kmeans(K, X, kernel_matrix)\n",
    "plt.scatter(X[:, 0], X[:, 1], c=best_partition, cmap=ListedColormap(colors))\n",
    "plt.title(min_total_error)\n",
    "plt.show()"
   ]
  }
 ],
 "metadata": {
  "kernelspec": {
   "display_name": "Python 3 (ipykernel)",
   "language": "python",
   "name": "python3"
  },
  "language_info": {
   "codemirror_mode": {
    "name": "ipython",
    "version": 3
   },
   "file_extension": ".py",
   "mimetype": "text/x-python",
   "name": "python",
   "nbconvert_exporter": "python",
   "pygments_lexer": "ipython3",
   "version": "3.11.9"
  }
 },
 "nbformat": 4,
 "nbformat_minor": 5
}
