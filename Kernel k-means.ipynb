{
 "cells": [
  {
   "cell_type": "markdown",
   "id": "8157a5de",
   "metadata": {},
   "source": [
    "###  Libraries"
   ]
  },
  {
   "cell_type": "code",
   "execution_count": 2,
   "id": "1ec8df66",
   "metadata": {},
   "outputs": [],
   "source": [
    "import numpy as np\n",
    "from sklearn.cluster import KMeans\n",
    "from sklearn.metrics.pairwise import pairwise_kernels\n",
    "from tslearn.clustering import KernelKMeans as TSKernelKMeans\n",
    "from KernelKMeans import KernelKMeans\n",
    "from GlobalKernelKMeans import GlobalKernelKMeans, GlobalKernelKMeansPP \n",
    "from Datasets.Datasets_Functions import *\n",
    "from Rings import Rings\n",
    "from Common_Modules.Evaluation import Evaluator\n",
    "from Common_Modules.Graph import Graph\n",
    "from Common_Modules.Visualization import Visualization\n",
    "from Common_Modules.General_Functions import General_Functions"
   ]
  },
  {
   "cell_type": "markdown",
   "id": "701fd6bc",
   "metadata": {},
   "source": [
    "### Switches"
   ]
  },
  {
   "cell_type": "code",
   "execution_count": 7,
   "id": "e998f1c2",
   "metadata": {},
   "outputs": [],
   "source": [
    "plot_is_enabled = False\n",
    "two_rings_is_enabled = False\n",
    "three_rings_is_enabled = False\n",
    "one_ring_with_two_gaussians_is_enabled = False\n",
    "three_rings_paper_is_enabled = False\n",
    "graph_is_enabled = False\n",
    "kMeans_is_enabled = False\n",
    "kernelKMeans_is_enabled = False\n",
    "kernelKMeansPP_is_enabled = False\n",
    "globalKernelKMeans_is_enabled = False\n",
    "globalKernelKMeansPP_is_enabled = False"
   ]
  },
  {
   "cell_type": "markdown",
   "id": "a5718e92",
   "metadata": {},
   "source": [
    "### Global Variables"
   ]
  },
  {
   "cell_type": "code",
   "execution_count": 2,
   "id": "de6245c2",
   "metadata": {},
   "outputs": [],
   "source": [
    "seed = 42\n",
    "evaluator = Evaluator()\n",
    "n_candidates = n_init = 100\n",
    "kernel = 'laplacian'\n",
    "gamma = 1.0"
   ]
  },
  {
   "cell_type": "markdown",
   "id": "eec895e5",
   "metadata": {},
   "source": [
    "### Visualization"
   ]
  },
  {
   "cell_type": "code",
   "execution_count": 4,
   "id": "78f34d42",
   "metadata": {},
   "outputs": [],
   "source": [
    "visualization = Visualization()\n",
    "colors = ['red', 'blue', 'green', 'orange', 'purple', 'yellow', 'black', 'cyan', 'gray', 'lime']"
   ]
  },
  {
   "cell_type": "markdown",
   "id": "d4f37574",
   "metadata": {},
   "source": [
    "### Load Dataset"
   ]
  },
  {
   "cell_type": "markdown",
   "id": "9d329be0",
   "metadata": {},
   "source": [
    "### 2Rings"
   ]
  },
  {
   "cell_type": "code",
   "execution_count": 4,
   "id": "85ea1db3",
   "metadata": {},
   "outputs": [],
   "source": [
    "if(two_rings_is_enabled):\n",
    "    # centers_coordinates = [(-1, 2), (2, 2), (2, 5), (2, -1), (5, 2), (6, 6), (-2, 6), (2, 8), (6, -2), (2, -4), (-2, -2)]\n",
    "    centers_coordinates = [(-1, 2), (2, 2)]\n",
    "    rings = Rings(colors=colors)\n",
    "    \n",
    "    X, y = rings.make_rings_pairs(centers_coordinates=centers_coordinates, n_samples=100, factor=0.2, noise=0.0)\n",
    "    rings.plot(X, y)\n",
    "    \n",
    "    K = 2 * len(centers_coordinates)\n",
    "    kernel_matrix = pairwise_kernels(X, X, metric='rbf', gamma=1)"
   ]
  },
  {
   "cell_type": "markdown",
   "id": "e363a2bd",
   "metadata": {},
   "source": [
    "### 3Rings"
   ]
  },
  {
   "cell_type": "code",
   "execution_count": 5,
   "id": "e0e0b0a9",
   "metadata": {},
   "outputs": [],
   "source": [
    "if (three_rings_is_enabled):\n",
    "    colors = ['#1f77b4', '#ff7f0e', '#2ca02c']\n",
    "    rings = Rings(colors=colors)\n",
    "\n",
    "    # Define the center for the single set of three concentric rings\n",
    "    centers_coordinates = [(0, 0)]\n",
    "\n",
    "    # Generate and plot the rings\n",
    "    X, y = rings.make_concentric_rings(centers_coordinates=centers_coordinates, n_samples=150, radii=[1, 10, 25], noise=0)\n",
    "    rings.plot(X, y)\n",
    "    \n",
    "    K = 3 * len(centers_coordinates)\n",
    "    kernel_matrix = pairwise_kernels(X, X, metric='sigmoid')"
   ]
  },
  {
   "cell_type": "markdown",
   "id": "6dc6e715",
   "metadata": {},
   "source": [
    "### 1 Ring with 2 Gaussians Inside"
   ]
  },
  {
   "cell_type": "code",
   "execution_count": 6,
   "id": "99acc8e3",
   "metadata": {},
   "outputs": [],
   "source": [
    "if(one_ring_with_two_gaussians_is_enabled):\n",
    "    # Usage example\n",
    "    colors = ['purple', 'orange', 'blue', 'red', 'green', 'lime']\n",
    "    \n",
    "    rings = Rings(colors)\n",
    "    centers_coordinates = [(5, 5), (-5, 5)]\n",
    "    X, y = rings.make_multiple_rings_with_gaussians(centers_coordinates, n_samples=100, radius=3, noise=0.0, gaussian_samples=50)\n",
    "    \n",
    "    K = 3 * len(centers_coordinates)\n",
    "    kernel_matrix = pairwise_kernels(X, X, metric='rbf', gamma=0.5)"
   ]
  },
  {
   "cell_type": "markdown",
   "id": "d30f33c9",
   "metadata": {},
   "source": [
    "### 3Rings Paper"
   ]
  },
  {
   "cell_type": "code",
   "execution_count": null,
   "id": "14ed84e0",
   "metadata": {},
   "outputs": [],
   "source": [
    "if (three_rings_paper_is_enabled):\n",
    "    rings = Rings(colors=colors)\n",
    "    K = 3\n",
    "    X, y, kernel_matrix = rings.global_kernel_k_means_three_rings()\n",
    "    rings.plot(X,y)"
   ]
  },
  {
   "cell_type": "markdown",
   "id": "dd74cf65",
   "metadata": {},
   "source": [
    "### Graphs"
   ]
  },
  {
   "cell_type": "code",
   "execution_count": 8,
   "id": "09282f0d",
   "metadata": {},
   "outputs": [],
   "source": [
    "if(graph_is_enabled):\n",
    "    K = 10\n",
    "    graph = Graph(n_communities=K, n_nodes_per_community=10, p_intra=1, p_inter=0.01, colors=colors)\n",
    "    graph.create_adj_matrix()\n",
    "    kernel_matrix = graph.adj_matrix = pairwise_kernels(graph.adj_matrix, graph.adj_matrix, metric='linear')\n",
    "    graph.create_kernel_matrix_from_adj_matrix()"
   ]
  },
  {
   "cell_type": "markdown",
   "id": "7b9835fe",
   "metadata": {},
   "source": [
    "### Real Dataset"
   ]
  },
  {
   "cell_type": "code",
   "execution_count": null,
   "id": "7a7cf5f4",
   "metadata": {},
   "outputs": [],
   "source": [
    "dataset_name = \"wine\" # The available datasets are: breast_cancer, dermatology, ecoli, iris, olivetti_faces, pendigits, waveform_v1, wine\n",
    "module_name = \"Datasets.Datasets\"\n",
    "batch_size = 16\n",
    "dataloader, input_dim, X, y = function_get_dataset(dataset_name, module_name, batch_size)\n",
    "print('Date Number is:', len(y))\n",
    "print('Data_Shape is:', input_dim)\n",
    "K = len(np.unique(y))\n",
    "kernel_matrix = pairwise_kernels(X, X, metric=kernel, gamma=gamma)\n",
    "data_dir_path = f\"Results\\\\{dataset_name}\\\\{kernel}\\\\{n_init}\\\\\"\n",
    "General_Functions().create_directory(data_dir_path)\n",
    "K = 50"
   ]
  },
  {
   "cell_type": "markdown",
   "id": "f5e3a280",
   "metadata": {},
   "source": [
    "### kMeans"
   ]
  },
  {
   "cell_type": "code",
   "execution_count": 10,
   "id": "f54c05ad",
   "metadata": {},
   "outputs": [],
   "source": [
    "if(kMeans_is_enabled):\n",
    "    kmeans = KMeans(n_clusters=K).fit(X)\n",
    "    acc, pur, nmi, ari = evaluator.evaluate_model(y, kmeans.labels_)\n",
    "    evaluator.print_evaluation()\n",
    "    if(plot_is_enabled):\n",
    "        visualization.plot_tsne(X, y, data_dir_path=\"Figures\\\\\"+dataset_name)"
   ]
  },
  {
   "cell_type": "markdown",
   "id": "ca418be2",
   "metadata": {},
   "source": [
    "### Kernel kMeans"
   ]
  },
  {
   "cell_type": "code",
   "execution_count": 11,
   "id": "8139e828",
   "metadata": {},
   "outputs": [],
   "source": [
    "if(kernelKMeans_is_enabled):\n",
    "    kernel_kmeans = TSKernelKMeans(n_clusters=K, n_init=10, kernel='precomputed').fit(kernel_matrix)\n",
    "    acc, pur, nmi, ari = evaluator.evaluate_model(y, kernel_kmeans.labels_)\n",
    "    evaluator.print_evaluation()\n",
    "    if(plot_is_enabled):\n",
    "        visualization.plot_tsne(X, y, data_dir_path=\"Figures\\\\\"+dataset_name)"
   ]
  },
  {
   "cell_type": "markdown",
   "id": "12d1a9fc",
   "metadata": {},
   "source": [
    "### Kernel kMeans++"
   ]
  },
  {
   "cell_type": "code",
   "execution_count": 12,
   "id": "f56cc1a7",
   "metadata": {},
   "outputs": [],
   "source": [
    "if(kernelKMeansPP_is_enabled):\n",
    "    initialization_methods = [\"forgy\", \"random\", \"k-means++\"]\n",
    "    n_iters_ = {}\n",
    "    execution_times_ = {}\n",
    "    inertias_ = {}\n",
    "    init = initialization_methods[2]\n",
    "    prev_K = K\n",
    "    K = 2\n",
    "    while (K != prev_K + 1):\n",
    "        kernelKMeans = KernelKMeans(n_clusters=K, kernel_matrix=kernel_matrix, n_init=n_init, init=init, verbose=0)\n",
    "        kernelKMeans.fit()\n",
    "        \n",
    "        if(plot_is_enabled):\n",
    "            if graph_is_enabled:\n",
    "                graph.plot_clusters(kernelKMeans.labels_)\n",
    "            else:\n",
    "                visualization.plot_tsne(X, y, data_dir_path=data_dir_path + \"KernelKMeans_\" + init)                \n",
    "        \n",
    "        n_iters_[K] = sum(kernelKMeans.n_iters_.values())\n",
    "        execution_times_[K] = sum(kernelKMeans.execution_times_.values())\n",
    "        inertias_[K] = kernelKMeans.inertia_\n",
    "        new_row = { \"K\": K, \"MSE\": inertias_[K], \"ITERATIONS\": n_iters_[K], \"EXECUTION TIME\": execution_times_[K]}\n",
    "        General_Functions.append_to_csv(f\"{data_dir_path}KernelKMeans_Dataset_{dataset_name}_Init_{init}_Kernel_{kernel}_K_{prev_K}_Inits_{n_init}_Results.csv\", new_row)\n",
    "        K += 1\n",
    "    K = prev_K   "
   ]
  },
  {
   "cell_type": "markdown",
   "id": "34983f02",
   "metadata": {},
   "source": [
    "### Global Kernel kMeans"
   ]
  },
  {
   "cell_type": "code",
   "execution_count": 13,
   "id": "1bfc8729",
   "metadata": {},
   "outputs": [],
   "source": [
    "if(globalKernelKMeans_is_enabled):\n",
    "    globalKernelKMeans = GlobalKernelKMeans(n_clusters=K, kernel_matrix=kernel_matrix, data_dir_path=f\"{data_dir_path}GlobalKernelKMeans_Dataset_{dataset_name}_Kernel_{kernel}_K_{K}_Inits_{n_init}_Results.csv\", verbose=1)\n",
    "    globalKernelKMeans.fit()\n",
    "    \n",
    "    if(plot_is_enabled):\n",
    "        if graph_is_enabled:\n",
    "            graph.plot_clusters(globalKernelKMeans.labels_[K])\n",
    "        else:\n",
    "            visualization.plot_tsne(X, y, data_dir_path=f\"{data_dir_path}GlobalKernelKMeans\")"
   ]
  },
  {
   "cell_type": "markdown",
   "id": "dabdbeaf",
   "metadata": {},
   "source": [
    "### Global Kernel kMeans++"
   ]
  },
  {
   "cell_type": "code",
   "execution_count": 14,
   "id": "ecff347c",
   "metadata": {},
   "outputs": [],
   "source": [
    "if(globalKernelKMeansPP_is_enabled):\n",
    "    sampling_methods = [\"sequential\", \"batch\"]\n",
    "    sampling = sampling_methods[0] \n",
    "    globalKernelKMeansPP = GlobalKernelKMeansPP(n_clusters=K, kernel_matrix=kernel_matrix, n_candidates=n_candidates, sampling=sampling, data_dir_path=f\"{data_dir_path}GlobalKernelKMeans_Dataset_{dataset_name}_Sampling_{sampling}_Kernel_{kernel}_K_{K}_Inits_{n_init}_Results.csv\", verbose=1)\n",
    "    globalKernelKMeansPP.fit()\n",
    "    \n",
    "    acc, pur, nmi, ari = evaluator.evaluate_model(y, globalKernelKMeansPP.labels_[K])\n",
    "    if(plot_is_enabled):\n",
    "        if graph_is_enabled:\n",
    "            graph.plot_clusters(globalKernelKMeansPP.labels_[K])\n",
    "        else:\n",
    "            visualization.plot_tsne(X, y, data_dir_path=f\"{data_dir_path}GlobalKernelKMeans_{sampling}_\")"
   ]
  }
 ],
 "metadata": {
  "kernelspec": {
   "display_name": "Python 3 (ipykernel)",
   "language": "python",
   "name": "python3"
  },
  "language_info": {
   "codemirror_mode": {
    "name": "ipython",
    "version": 3
   },
   "file_extension": ".py",
   "mimetype": "text/x-python",
   "name": "python",
   "nbconvert_exporter": "python",
   "pygments_lexer": "ipython3",
   "version": "3.12.6"
  }
 },
 "nbformat": 4,
 "nbformat_minor": 5
}
