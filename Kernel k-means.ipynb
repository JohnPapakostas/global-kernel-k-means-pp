{
 "cells": [
  {
   "cell_type": "markdown",
   "id": "8157a5de",
   "metadata": {},
   "source": [
    "###  Libraries"
   ]
  },
  {
   "cell_type": "code",
   "execution_count": 1,
   "id": "1ec8df66",
   "metadata": {},
   "outputs": [],
   "source": [
    "from sklearn.metrics.pairwise import pairwise_kernels\n",
    "from KernelKMeans import KernelKMeans\n",
    "from GlobalKernelKMeans import GlobalKernelKMeans, GlobalKernelKMeansPP \n",
    "from Datasets.Datasets_Functions import *\n",
    "from Common_Modules.Visualization import Visualization\n",
    "from Common_Modules.General_Functions import General_Functions"
   ]
  },
  {
   "cell_type": "markdown",
   "id": "701fd6bc",
   "metadata": {},
   "source": [
    "### Switches"
   ]
  },
  {
   "cell_type": "code",
   "execution_count": 2,
   "id": "e998f1c2",
   "metadata": {},
   "outputs": [],
   "source": [
    "plot_is_enabled = False\n",
    "kernelKMeans_is_enabled = True\n",
    "globalKernelKMeans_is_enabled = True\n",
    "globalKernelKMeansPP_is_enabled = True"
   ]
  },
  {
   "cell_type": "markdown",
   "id": "a5718e92",
   "metadata": {},
   "source": [
    "### Global Variables"
   ]
  },
  {
   "cell_type": "code",
   "execution_count": 3,
   "id": "de6245c2",
   "metadata": {},
   "outputs": [],
   "source": [
    "n_candidates = n_init = 100\n",
    "kernels = [\"cosine\", \"polynomial\", \"rbf\"]\n",
    "kernel = kernels[2]"
   ]
  },
  {
   "cell_type": "markdown",
   "id": "eec895e5",
   "metadata": {},
   "source": [
    "### Visualization"
   ]
  },
  {
   "cell_type": "code",
   "execution_count": 4,
   "id": "78f34d42",
   "metadata": {},
   "outputs": [],
   "source": [
    "visualization = Visualization()"
   ]
  },
  {
   "cell_type": "markdown",
   "id": "d4f37574",
   "metadata": {},
   "source": [
    "### Load Dataset"
   ]
  },
  {
   "cell_type": "code",
   "execution_count": 5,
   "id": "7a7cf5f4",
   "metadata": {},
   "outputs": [
    {
     "name": "stdout",
     "output_type": "stream",
     "text": [
      "Directory 'Results\\iris\\rbf\\100\\3.633944119437154\\' already exists.\n"
     ]
    }
   ],
   "source": [
    "dataset_names = [\"avila\", \"breast_cancer\", \"dermatology\", \"ecoli\", \"iris\", \"olivetti_faces\", \"pendigits\", \"waveform_v1\", \"wine\"]\n",
    "dataset_name = dataset_names[4] \n",
    "module_name = \"Datasets.Datasets\"\n",
    "dataloader, input_dim, X, y = function_get_dataset(dataset_name, module_name)\n",
    "\n",
    "gamma = General_Functions.calculate_gamma_scale(X)\n",
    "if kernel == \"rbf\":\n",
    "    kernel_matrix = pairwise_kernels(X, X, metric=kernel, gamma=gamma)\n",
    "elif kernel == \"polynomial\":\n",
    "    degree = 3\n",
    "    coef0  = 1\n",
    "    kernel_matrix = pairwise_kernels(X, X, metric=kernel, gamma=gamma, degree=degree, coef0=coef0)\n",
    "else:\n",
    "    kernel_matrix = pairwise_kernels(X, X, metric=kernel)\n",
    "    \n",
    "data_dir_path = f\"Results\\\\{dataset_name}\\\\{kernel}\\\\{n_init}\\\\{gamma}\\\\\"\n",
    "General_Functions().create_directory(data_dir_path)\n",
    "K = 50"
   ]
  },
  {
   "cell_type": "markdown",
   "id": "12d1a9fc",
   "metadata": {},
   "source": [
    "### Kernel kMeans++"
   ]
  },
  {
   "cell_type": "code",
   "execution_count": 6,
   "id": "f56cc1a7",
   "metadata": {},
   "outputs": [],
   "source": [
    "if(kernelKMeans_is_enabled):\n",
    "    initialization_methods = [\"forgy\", \"random\", \"k-means++\"]\n",
    "    n_iters_ = {}\n",
    "    execution_times_ = {}\n",
    "    inertias_ = {}\n",
    "    init = initialization_methods[1]\n",
    "    prev_K = K\n",
    "    K = 2\n",
    "    while (K != prev_K + 1 ):\n",
    "        kernelKMeans = KernelKMeans(n_clusters=K, kernel_matrix=kernel_matrix, n_init=n_init, init=init, verbose=0)\n",
    "        kernelKMeans.fit()    \n",
    "            \n",
    "        if(plot_is_enabled):\n",
    "            visualization.plot(X, kernelKMeans.labels_, data_dir_path=data_dir_path + \"KernelKMeans_\" + init)                \n",
    "        \n",
    "        n_iters_[K] = sum(kernelKMeans.n_iters_.values())\n",
    "        execution_times_[K] = sum(kernelKMeans.execution_times_.values())\n",
    "        inertias_[K] = kernelKMeans.inertia_\n",
    "        new_row = { \"K\": K, \"MSE\": inertias_[K], \"ITERATIONS\": n_iters_[K], \"EXECUTION TIME\": execution_times_[K]}\n",
    "        General_Functions.append_to_csv(f\"{data_dir_path}KernelKMeans_Dataset_{dataset_name}_Init_{init}_Kernel_{kernel}_K_{prev_K}_Inits_{n_init}_Results.csv\", new_row)\n",
    "        K += 1\n",
    "    K = prev_K   "
   ]
  },
  {
   "cell_type": "markdown",
   "id": "34983f02",
   "metadata": {},
   "source": [
    "### Global Kernel kMeans"
   ]
  },
  {
   "cell_type": "code",
   "execution_count": 7,
   "id": "1bfc8729",
   "metadata": {},
   "outputs": [
    {
     "name": "stdout",
     "output_type": "stream",
     "text": [
      "Solving Kernel 2-means\n",
      "Solved 2-means MSE: 52.88282712016293 in 0.10158300399780273s\n",
      "Solving Kernel 3-means\n",
      "Solved 3-means MSE: 38.31369052869924 in 0.11027836799621582s\n",
      "Solving Kernel 4-means\n",
      "Solved 4-means MSE: 31.780724228837997 in 0.12830448150634766s\n",
      "Solving Kernel 5-means\n",
      "Solved 5-means MSE: 27.230008766760097 in 0.1244816780090332s\n",
      "Solving Kernel 6-means\n",
      "Solved 6-means MSE: 24.041238378368874 in 0.135528564453125s\n",
      "Solving Kernel 7-means\n",
      "Solved 7-means MSE: 21.535352533949805 in 0.14791226387023926s\n",
      "Solving Kernel 8-means\n",
      "Solved 8-means MSE: 19.604115937888025 in 0.1473698616027832s\n",
      "Solving Kernel 9-means\n",
      "Solved 9-means MSE: 17.77666405180515 in 0.153151273727417s\n",
      "Solving Kernel 10-means\n",
      "Solved 10-means MSE: 16.33047586995295 in 0.14740753173828125s\n",
      "Solving Kernel 11-means\n",
      "Solved 11-means MSE: 14.889523477408813 in 0.16533803939819336s\n",
      "Solving Kernel 12-means\n",
      "Solved 12-means MSE: 13.998885601532727 in 0.15471887588500977s\n",
      "Solving Kernel 13-means\n",
      "Solved 13-means MSE: 13.134898953548444 in 0.1567699909210205s\n",
      "Solving Kernel 14-means\n",
      "Solved 14-means MSE: 12.325649638505723 in 0.15987277030944824s\n",
      "Solving Kernel 15-means\n",
      "Solved 15-means MSE: 11.709171600913724 in 0.16538500785827637s\n",
      "Solving Kernel 16-means\n",
      "Solved 16-means MSE: 11.101007871169003 in 0.1685187816619873s\n",
      "Solving Kernel 17-means\n",
      "Solved 17-means MSE: 10.520264974830294 in 0.179337739944458s\n",
      "Solving Kernel 18-means\n",
      "Solved 18-means MSE: 9.948995231729631 in 0.17729520797729492s\n",
      "Solving Kernel 19-means\n",
      "Solved 19-means MSE: 9.4380290472109 in 0.18074297904968262s\n",
      "Solving Kernel 20-means\n",
      "Solved 20-means MSE: 8.98247608703267 in 0.17908024787902832s\n",
      "Solving Kernel 21-means\n",
      "Solved 21-means MSE: 8.577314378696675 in 0.18417835235595703s\n",
      "Solving Kernel 22-means\n",
      "Solved 22-means MSE: 8.18665463981793 in 0.18297529220581055s\n",
      "Solving Kernel 23-means\n",
      "Solved 23-means MSE: 7.833822608116344 in 0.1899869441986084s\n",
      "Solving Kernel 24-means\n",
      "Solved 24-means MSE: 7.506210001516531 in 0.194535493850708s\n",
      "Solving Kernel 25-means\n",
      "Solved 25-means MSE: 7.206657842658919 in 0.19579792022705078s\n",
      "Solving Kernel 26-means\n",
      "Solved 26-means MSE: 6.917213072418631 in 0.19675230979919434s\n",
      "Solving Kernel 27-means\n",
      "Solved 27-means MSE: 6.629693024278478 in 0.20449185371398926s\n",
      "Solving Kernel 28-means\n",
      "Solved 28-means MSE: 6.373496781229562 in 0.2076587677001953s\n",
      "Solving Kernel 29-means\n",
      "Solved 29-means MSE: 6.132461998213555 in 0.20360898971557617s\n",
      "Solving Kernel 30-means\n",
      "Solved 30-means MSE: 5.921078723984046 in 0.2056739330291748s\n",
      "Solving Kernel 31-means\n",
      "Solved 31-means MSE: 5.714805407766158 in 0.2062513828277588s\n",
      "Solving Kernel 32-means\n",
      "Solved 32-means MSE: 5.520644087031744 in 0.21611285209655762s\n",
      "Solving Kernel 33-means\n",
      "Solved 33-means MSE: 5.3439808610449 in 0.21108055114746094s\n",
      "Solving Kernel 34-means\n",
      "Solved 34-means MSE: 5.174268701314723 in 0.21995210647583008s\n",
      "Solving Kernel 35-means\n",
      "Solved 35-means MSE: 5.017475069822515 in 0.21605277061462402s\n",
      "Solving Kernel 36-means\n",
      "Solved 36-means MSE: 4.863116438377084 in 0.21993350982666016s\n",
      "Solving Kernel 37-means\n",
      "Solved 37-means MSE: 4.711389360223638 in 0.2219715118408203s\n",
      "Solving Kernel 38-means\n",
      "Solved 38-means MSE: 4.561154984253558 in 0.22786402702331543s\n",
      "Solving Kernel 39-means\n",
      "Solved 39-means MSE: 4.411395221128888 in 0.22011184692382812s\n",
      "Solving Kernel 40-means\n",
      "Solved 40-means MSE: 4.266992099177164 in 0.22320175170898438s\n",
      "Solving Kernel 41-means\n",
      "Solved 41-means MSE: 4.132158388100498 in 0.2294750213623047s\n",
      "Solving Kernel 42-means\n",
      "Solved 42-means MSE: 3.9995765597334754 in 0.2297518253326416s\n",
      "Solving Kernel 43-means\n",
      "Solved 43-means MSE: 3.8688803919285557 in 0.23590874671936035s\n",
      "Solving Kernel 44-means\n",
      "Solved 44-means MSE: 3.7434295187220954 in 0.23482537269592285s\n",
      "Solving Kernel 45-means\n",
      "Solved 45-means MSE: 3.6261415563363997 in 0.23961400985717773s\n",
      "Solving Kernel 46-means\n",
      "Solved 46-means MSE: 3.4946883942338953 in 0.23537921905517578s\n",
      "Solving Kernel 47-means\n",
      "Solved 47-means MSE: 3.3800919478171823 in 0.24492359161376953s\n",
      "Solving Kernel 48-means\n",
      "Solved 48-means MSE: 3.2761241532610184 in 0.24657440185546875s\n",
      "Solving Kernel 49-means\n",
      "Solved 49-means MSE: 3.1729273036342898 in 0.24199390411376953s\n",
      "Solving Kernel 50-means\n",
      "Solved 50-means MSE: 3.0730158756776493 in 0.2532665729522705s\n",
      "Total execution time was 9.42298150062561s\n"
     ]
    }
   ],
   "source": [
    "if(globalKernelKMeans_is_enabled):\n",
    "    globalKernelKMeans = GlobalKernelKMeans(n_clusters=K, kernel_matrix=kernel_matrix, data_dir_path=f\"{data_dir_path}GlobalKernelKMeans_Dataset_{dataset_name}_Kernel_{kernel}_K_{K}_Inits_{n_init}_Results.csv\", verbose=1)\n",
    "    globalKernelKMeans.fit()    \n",
    "    \n",
    "    if(plot_is_enabled):\n",
    "        visualization.plot(X, globalKernelKMeans.labels_[K], data_dir_path=f\"{data_dir_path}GlobalKernelKMeans\")     "
   ]
  },
  {
   "cell_type": "code",
   "execution_count": 8,
   "id": "ecff347c",
   "metadata": {},
   "outputs": [
    {
     "name": "stdout",
     "output_type": "stream",
     "text": [
      "Solving 2-means\n",
      "Solved 2-means MSE: 52.88282712016293 in 0.07924079895019531s\n",
      "Solving 3-means\n",
      "Solved 3-means MSE: 38.31369052869924 in 0.0770101547241211s\n",
      "Solving 4-means\n",
      "Solved 4-means MSE: 31.780724228837997 in 0.09595346450805664s\n",
      "Solving 5-means\n",
      "Solved 5-means MSE: 27.230008766760097 in 0.09512519836425781s\n",
      "Solving 6-means\n",
      "Solved 6-means MSE: 24.041238378368874 in 0.09900641441345215s\n",
      "Solving 7-means\n",
      "Solved 7-means MSE: 21.535352533949805 in 0.10484552383422852s\n",
      "Solving 8-means\n",
      "Solved 8-means MSE: 19.604115937888025 in 0.10194778442382812s\n",
      "Solving 9-means\n",
      "Solved 9-means MSE: 17.77666405180515 in 0.1055154800415039s\n",
      "Solving 10-means\n",
      "Solved 10-means MSE: 16.33047586995295 in 0.10446596145629883s\n",
      "Solving 11-means\n",
      "Solved 11-means MSE: 14.889523477408813 in 0.11458230018615723s\n",
      "Solving 12-means\n",
      "Solved 12-means MSE: 13.998885601532727 in 0.10906267166137695s\n",
      "Solving 13-means\n",
      "Solved 13-means MSE: 13.134898953548444 in 0.11740469932556152s\n",
      "Solving 14-means\n",
      "Solved 14-means MSE: 12.325649638505723 in 0.11133384704589844s\n",
      "Solving 15-means\n",
      "Solved 15-means MSE: 11.709171600913724 in 0.11701703071594238s\n",
      "Solving 16-means\n",
      "Solved 16-means MSE: 11.101007871169003 in 0.11725211143493652s\n",
      "Solving 17-means\n",
      "Solved 17-means MSE: 10.525091355029376 in 0.11967277526855469s\n",
      "Solving 18-means\n",
      "Solved 18-means MSE: 9.953821611928712 in 0.12001776695251465s\n",
      "Solving 19-means\n",
      "Solved 19-means MSE: 9.442855427409981 in 0.1258220672607422s\n",
      "Solving 20-means\n",
      "Solved 20-means MSE: 8.973565064067259 in 0.12034392356872559s\n",
      "Solving 21-means\n",
      "Solved 21-means MSE: 8.578350918333324 in 0.12847185134887695s\n",
      "Solving 22-means\n",
      "Solved 22-means MSE: 8.20187515782644 in 0.13112664222717285s\n",
      "Solving 23-means\n",
      "Solved 23-means MSE: 7.8490431261248546 in 0.12324762344360352s\n",
      "Solving 24-means\n",
      "Solved 24-means MSE: 7.521430519525042 in 0.1313323974609375s\n",
      "Solving 25-means\n",
      "Solved 25-means MSE: 7.223071310850786 in 0.1310892105102539s\n",
      "Solving 26-means\n",
      "Solved 26-means MSE: 6.933626540610497 in 0.12654399871826172s\n",
      "Solving 27-means\n",
      "Solved 27-means MSE: 6.646106492470344 in 0.13842177391052246s\n",
      "Solving 28-means\n",
      "Solved 28-means MSE: 6.392950594051168 in 0.13712286949157715s\n",
      "Solving 29-means\n",
      "Solved 29-means MSE: 6.136754351002251 in 0.1379091739654541s\n",
      "Solving 30-means\n",
      "Solved 30-means MSE: 5.929452136945289 in 0.13948416709899902s\n",
      "Solving 31-means\n",
      "Solved 31-means MSE: 5.7231788207274015 in 0.1408092975616455s\n",
      "Solving 32-means\n",
      "Solved 32-means MSE: 5.529017499992989 in 0.13968348503112793s\n",
      "Solving 33-means\n",
      "Solved 33-means MSE: 5.352354274006145 in 0.1464858055114746s\n",
      "Solving 34-means\n",
      "Solved 34-means MSE: 5.194732380369023 in 0.1495652198791504s\n",
      "Solving 35-means\n",
      "Solved 35-means MSE: 5.0379387488768135 in 0.15099835395812988s\n",
      "Solving 36-means\n",
      "Solved 36-means MSE: 4.883580117431381 in 0.15398168563842773s\n",
      "Solving 37-means\n",
      "Solved 37-means MSE: 4.731853039277936 in 0.15398859977722168s\n",
      "Solving 38-means\n",
      "Solved 38-means MSE: 4.5816186633078555 in 0.1580798625946045s\n",
      "Solving 39-means\n",
      "Solved 39-means MSE: 4.431858900183187 in 0.1533968448638916s\n",
      "Solving 40-means\n",
      "Solved 40-means MSE: 4.287455778231463 in 0.15367698669433594s\n",
      "Solving 41-means\n",
      "Solved 41-means MSE: 4.152622067154796 in 0.16501879692077637s\n",
      "Solving 42-means\n",
      "Solved 42-means MSE: 4.020040238787773 in 0.1646263599395752s\n",
      "Solving 43-means\n",
      "Solved 43-means MSE: 3.894589365581313 in 0.16873526573181152s\n",
      "Solving 44-means\n",
      "Solved 44-means MSE: 3.7773014031956182 in 0.1662278175354004s\n",
      "Solving 45-means\n",
      "Solved 45-means MSE: 3.645848241093113 in 0.16901350021362305s\n",
      "Solving 46-means\n",
      "Solved 46-means MSE: 3.5316623134955316 in 0.1740279197692871s\n",
      "Solving 47-means\n",
      "Solved 47-means MSE: 3.423152314924347 in 0.17581796646118164s\n",
      "Solving 48-means\n",
      "Solved 48-means MSE: 3.3191845203681822 in 0.17365360260009766s\n",
      "Solving 49-means\n",
      "Solved 49-means MSE: 3.2159876707414536 in 0.18004226684570312s\n",
      "Solving 50-means\n",
      "Solved 50-means MSE: 3.1161189398882767 in 0.17898154258728027s\n",
      "Total execution time was 6.577180862426758s\n"
     ]
    }
   ],
   "source": [
    "if(globalKernelKMeansPP_is_enabled):\n",
    "    sampling_methods = [\"sequential\", \"batch\"]\n",
    "    sampling = sampling_methods[0]\n",
    "    globalKernelKMeansPP = GlobalKernelKMeansPP(n_clusters=K, kernel_matrix=kernel_matrix, n_candidates=n_candidates, sampling=sampling, data_dir_path=f\"{data_dir_path}GlobalKernelKMeans_Dataset_{dataset_name}_Sampling_{sampling}_Kernel_{kernel}_K_{K}_Inits_{n_init}_Results.csv\", verbose=1)\n",
    "    globalKernelKMeansPP.fit()    \n",
    "        \n",
    "    if(plot_is_enabled):\n",
    "        visualization.plot(X, globalKernelKMeansPP.labels_[K], data_dir_path=f\"{data_dir_path}GlobalKernelKMeans_{sampling}_\")"
   ]
  }
 ],
 "metadata": {
  "kernelspec": {
   "display_name": "Python 3",
   "language": "python",
   "name": "python3"
  },
  "language_info": {
   "codemirror_mode": {
    "name": "ipython",
    "version": 3
   },
   "file_extension": ".py",
   "mimetype": "text/x-python",
   "name": "python",
   "nbconvert_exporter": "python",
   "pygments_lexer": "ipython3",
   "version": "3.11.4"
  }
 },
 "nbformat": 4,
 "nbformat_minor": 5
}
