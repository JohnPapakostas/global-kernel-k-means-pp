{
 "cells": [
  {
   "cell_type": "markdown",
   "id": "8157a5de",
   "metadata": {},
   "source": [
    "###  Libraries"
   ]
  },
  {
   "cell_type": "code",
   "execution_count": 1,
   "id": "1ec8df66",
   "metadata": {},
   "outputs": [
    {
     "ename": "KeyboardInterrupt",
     "evalue": "",
     "output_type": "error",
     "traceback": [
      "\u001b[1;31m---------------------------------------------------------------------------\u001b[0m",
      "\u001b[1;31mKeyboardInterrupt\u001b[0m                         Traceback (most recent call last)",
      "Cell \u001b[1;32mIn[1], line 4\u001b[0m\n\u001b[0;32m      2\u001b[0m \u001b[38;5;28;01mfrom\u001b[39;00m \u001b[38;5;21;01msklearn\u001b[39;00m\u001b[38;5;21;01m.\u001b[39;00m\u001b[38;5;21;01mcluster\u001b[39;00m \u001b[38;5;28;01mimport\u001b[39;00m KMeans\n\u001b[0;32m      3\u001b[0m \u001b[38;5;28;01mfrom\u001b[39;00m \u001b[38;5;21;01msklearn\u001b[39;00m\u001b[38;5;21;01m.\u001b[39;00m\u001b[38;5;21;01mmetrics\u001b[39;00m\u001b[38;5;21;01m.\u001b[39;00m\u001b[38;5;21;01mpairwise\u001b[39;00m \u001b[38;5;28;01mimport\u001b[39;00m pairwise_kernels\n\u001b[1;32m----> 4\u001b[0m \u001b[38;5;28;01mfrom\u001b[39;00m \u001b[38;5;21;01mtslearn\u001b[39;00m\u001b[38;5;21;01m.\u001b[39;00m\u001b[38;5;21;01mclustering\u001b[39;00m \u001b[38;5;28;01mimport\u001b[39;00m KernelKMeans \u001b[38;5;28;01mas\u001b[39;00m TSKernelKMeans\n\u001b[0;32m      5\u001b[0m \u001b[38;5;28;01mfrom\u001b[39;00m \u001b[38;5;21;01mKernelKMeans\u001b[39;00m \u001b[38;5;28;01mimport\u001b[39;00m KernelKMeans\n\u001b[0;32m      6\u001b[0m \u001b[38;5;28;01mfrom\u001b[39;00m \u001b[38;5;21;01mGlobalKernelKMeans\u001b[39;00m \u001b[38;5;28;01mimport\u001b[39;00m GlobalKernelKMeans, GlobalKernelKMeansPP \n",
      "File \u001b[1;32mc:\\Users\\PAPASOFT INC\\AppData\\Local\\Programs\\Python\\Python311\\Lib\\site-packages\\tslearn\\clustering\\__init__.py:8\u001b[0m\n\u001b[0;32m      1\u001b[0m \u001b[38;5;124;03m\"\"\"\u001b[39;00m\n\u001b[0;32m      2\u001b[0m \u001b[38;5;124;03mThe :mod:`tslearn.clustering` module gathers time series specific clustering\u001b[39;00m\n\u001b[0;32m      3\u001b[0m \u001b[38;5;124;03malgorithms.\u001b[39;00m\n\u001b[1;32m   (...)\u001b[0m\n\u001b[0;32m      6\u001b[0m \u001b[38;5;124;03m details.\u001b[39;00m\n\u001b[0;32m      7\u001b[0m \u001b[38;5;124;03m\"\"\"\u001b[39;00m\n\u001b[1;32m----> 8\u001b[0m \u001b[38;5;28;01mfrom\u001b[39;00m \u001b[38;5;21;01m.\u001b[39;00m\u001b[38;5;21;01mkshape\u001b[39;00m \u001b[38;5;28;01mimport\u001b[39;00m KShape\n\u001b[0;32m      9\u001b[0m \u001b[38;5;28;01mfrom\u001b[39;00m \u001b[38;5;21;01m.\u001b[39;00m\u001b[38;5;21;01mutils\u001b[39;00m \u001b[38;5;28;01mimport\u001b[39;00m (EmptyClusterError, silhouette_score,\n\u001b[0;32m     10\u001b[0m                     TimeSeriesCentroidBasedClusteringMixin)\n\u001b[0;32m     11\u001b[0m \u001b[38;5;28;01mfrom\u001b[39;00m \u001b[38;5;21;01m.\u001b[39;00m\u001b[38;5;21;01mkmeans\u001b[39;00m \u001b[38;5;28;01mimport\u001b[39;00m (TimeSeriesKMeans, KernelKMeans)\n",
      "File \u001b[1;32mc:\\Users\\PAPASOFT INC\\AppData\\Local\\Programs\\Python\\Python311\\Lib\\site-packages\\tslearn\\clustering\\kshape.py:9\u001b[0m\n\u001b[0;32m      7\u001b[0m \u001b[38;5;28;01mfrom\u001b[39;00m \u001b[38;5;21;01msklearn\u001b[39;00m\u001b[38;5;21;01m.\u001b[39;00m\u001b[38;5;21;01mutils\u001b[39;00m \u001b[38;5;28;01mimport\u001b[39;00m check_array\n\u001b[0;32m      8\u001b[0m \u001b[38;5;28;01mfrom\u001b[39;00m \u001b[38;5;21;01msklearn\u001b[39;00m\u001b[38;5;21;01m.\u001b[39;00m\u001b[38;5;21;01mutils\u001b[39;00m\u001b[38;5;21;01m.\u001b[39;00m\u001b[38;5;21;01mvalidation\u001b[39;00m \u001b[38;5;28;01mimport\u001b[39;00m check_is_fitted\n\u001b[1;32m----> 9\u001b[0m \u001b[38;5;28;01mfrom\u001b[39;00m \u001b[38;5;21;01mtslearn\u001b[39;00m\u001b[38;5;21;01m.\u001b[39;00m\u001b[38;5;21;01mpreprocessing\u001b[39;00m \u001b[38;5;28;01mimport\u001b[39;00m TimeSeriesScalerMeanVariance\n\u001b[0;32m     10\u001b[0m \u001b[38;5;28;01mfrom\u001b[39;00m \u001b[38;5;21;01mtslearn\u001b[39;00m\u001b[38;5;21;01m.\u001b[39;00m\u001b[38;5;21;01mutils\u001b[39;00m \u001b[38;5;28;01mimport\u001b[39;00m to_time_series_dataset, check_dims\n\u001b[0;32m     11\u001b[0m \u001b[38;5;28;01mfrom\u001b[39;00m \u001b[38;5;21;01mtslearn\u001b[39;00m\u001b[38;5;21;01m.\u001b[39;00m\u001b[38;5;21;01mmetrics\u001b[39;00m \u001b[38;5;28;01mimport\u001b[39;00m cdist_normalized_cc, y_shifted_sbd_vec\n",
      "File \u001b[1;32mc:\\Users\\PAPASOFT INC\\AppData\\Local\\Programs\\Python\\Python311\\Lib\\site-packages\\tslearn\\preprocessing\\__init__.py:6\u001b[0m\n\u001b[0;32m      1\u001b[0m \u001b[38;5;124;03m\"\"\"\u001b[39;00m\n\u001b[0;32m      2\u001b[0m \u001b[38;5;124;03mThe :mod:`tslearn.preprocessing` module gathers time series scalers and \u001b[39;00m\n\u001b[0;32m      3\u001b[0m \u001b[38;5;124;03mresamplers.\u001b[39;00m\n\u001b[0;32m      4\u001b[0m \u001b[38;5;124;03m\"\"\"\u001b[39;00m\n\u001b[1;32m----> 6\u001b[0m \u001b[38;5;28;01mfrom\u001b[39;00m \u001b[38;5;21;01m.\u001b[39;00m\u001b[38;5;21;01mpreprocessing\u001b[39;00m \u001b[38;5;28;01mimport\u001b[39;00m (\n\u001b[0;32m      7\u001b[0m     TimeSeriesScalerMeanVariance,\n\u001b[0;32m      8\u001b[0m     TimeSeriesScalerMinMax,\n\u001b[0;32m      9\u001b[0m     TimeSeriesResampler\n\u001b[0;32m     10\u001b[0m )\n\u001b[0;32m     12\u001b[0m __all__ \u001b[38;5;241m=\u001b[39m [\n\u001b[0;32m     13\u001b[0m     \u001b[38;5;124m\"\u001b[39m\u001b[38;5;124mTimeSeriesResampler\u001b[39m\u001b[38;5;124m\"\u001b[39m,\n\u001b[0;32m     14\u001b[0m     \u001b[38;5;124m\"\u001b[39m\u001b[38;5;124mTimeSeriesScalerMinMax\u001b[39m\u001b[38;5;124m\"\u001b[39m,\n\u001b[0;32m     15\u001b[0m     \u001b[38;5;124m\"\u001b[39m\u001b[38;5;124mTimeSeriesScalerMeanVariance\u001b[39m\u001b[38;5;124m\"\u001b[39m\n\u001b[0;32m     16\u001b[0m ]\n",
      "File \u001b[1;32mc:\\Users\\PAPASOFT INC\\AppData\\Local\\Programs\\Python\\Python311\\Lib\\site-packages\\tslearn\\preprocessing\\preprocessing.py:8\u001b[0m\n\u001b[0;32m      5\u001b[0m \u001b[38;5;28;01mfrom\u001b[39;00m \u001b[38;5;21;01mscipy\u001b[39;00m\u001b[38;5;21;01m.\u001b[39;00m\u001b[38;5;21;01minterpolate\u001b[39;00m \u001b[38;5;28;01mimport\u001b[39;00m interp1d\n\u001b[0;32m      6\u001b[0m \u001b[38;5;28;01mimport\u001b[39;00m \u001b[38;5;21;01mwarnings\u001b[39;00m\n\u001b[1;32m----> 8\u001b[0m \u001b[38;5;28;01mfrom\u001b[39;00m \u001b[38;5;21;01mtslearn\u001b[39;00m\u001b[38;5;21;01m.\u001b[39;00m\u001b[38;5;21;01mutils\u001b[39;00m \u001b[38;5;28;01mimport\u001b[39;00m (to_time_series_dataset, check_equal_size, ts_size,\n\u001b[0;32m      9\u001b[0m                            check_dims)\n\u001b[0;32m     10\u001b[0m \u001b[38;5;28;01mfrom\u001b[39;00m \u001b[38;5;21;01mtslearn\u001b[39;00m\u001b[38;5;21;01m.\u001b[39;00m\u001b[38;5;21;01mbases\u001b[39;00m \u001b[38;5;28;01mimport\u001b[39;00m TimeSeriesBaseEstimator\n\u001b[0;32m     12\u001b[0m __author__ \u001b[38;5;241m=\u001b[39m \u001b[38;5;124m'\u001b[39m\u001b[38;5;124mRomain Tavenard romain.tavenard[at]univ-rennes2.fr\u001b[39m\u001b[38;5;124m'\u001b[39m\n",
      "File \u001b[1;32mc:\\Users\\PAPASOFT INC\\AppData\\Local\\Programs\\Python\\Python311\\Lib\\site-packages\\tslearn\\utils\\__init__.py:5\u001b[0m\n\u001b[0;32m      1\u001b[0m \u001b[38;5;124;03m\"\"\"\u001b[39;00m\n\u001b[0;32m      2\u001b[0m \u001b[38;5;124;03mThe :mod:`tslearn.utils` module includes various utilities.\u001b[39;00m\n\u001b[0;32m      3\u001b[0m \u001b[38;5;124;03m\"\"\"\u001b[39;00m\n\u001b[1;32m----> 5\u001b[0m \u001b[38;5;28;01mfrom\u001b[39;00m \u001b[38;5;21;01m.\u001b[39;00m\u001b[38;5;21;01mutils\u001b[39;00m \u001b[38;5;28;01mimport\u001b[39;00m (\n\u001b[0;32m      6\u001b[0m     check_dims,\n\u001b[0;32m      7\u001b[0m     check_equal_size,\n\u001b[0;32m      8\u001b[0m     to_time_series,\n\u001b[0;32m      9\u001b[0m     to_time_series_dataset,\n\u001b[0;32m     10\u001b[0m     time_series_to_str,\n\u001b[0;32m     11\u001b[0m     timeseries_to_str,\n\u001b[0;32m     12\u001b[0m     str_to_time_series,\n\u001b[0;32m     13\u001b[0m     str_to_timeseries,\n\u001b[0;32m     14\u001b[0m     save_time_series_txt,\n\u001b[0;32m     15\u001b[0m     save_timeseries_txt,\n\u001b[0;32m     16\u001b[0m     load_time_series_txt,\n\u001b[0;32m     17\u001b[0m     load_timeseries_txt,\n\u001b[0;32m     18\u001b[0m     ts_size,\n\u001b[0;32m     19\u001b[0m     ts_zeros,\n\u001b[0;32m     20\u001b[0m     check_dataset,\n\u001b[0;32m     21\u001b[0m     LabelCategorizer,\n\u001b[0;32m     22\u001b[0m     _load_txt_uea,\n\u001b[0;32m     23\u001b[0m     _load_arff_uea\n\u001b[0;32m     24\u001b[0m )\n\u001b[0;32m     26\u001b[0m \u001b[38;5;28;01mfrom\u001b[39;00m \u001b[38;5;21;01m.\u001b[39;00m\u001b[38;5;21;01mcast\u001b[39;00m \u001b[38;5;28;01mimport\u001b[39;00m (\n\u001b[0;32m     27\u001b[0m     to_sklearn_dataset,\n\u001b[0;32m     28\u001b[0m     from_cesium_dataset, to_cesium_dataset,\n\u001b[1;32m   (...)\u001b[0m\n\u001b[0;32m     34\u001b[0m     from_tsfresh_dataset, to_tsfresh_dataset\n\u001b[0;32m     35\u001b[0m )\n\u001b[0;32m     39\u001b[0m __all__ \u001b[38;5;241m=\u001b[39m [\n\u001b[0;32m     40\u001b[0m     \u001b[38;5;124m\"\u001b[39m\u001b[38;5;124mcheck_dims\u001b[39m\u001b[38;5;124m\"\u001b[39m, \u001b[38;5;124m\"\u001b[39m\u001b[38;5;124mcheck_equal_size\u001b[39m\u001b[38;5;124m\"\u001b[39m,\n\u001b[0;32m     41\u001b[0m     \u001b[38;5;124m\"\u001b[39m\u001b[38;5;124mto_time_series\u001b[39m\u001b[38;5;124m\"\u001b[39m, \u001b[38;5;124m\"\u001b[39m\u001b[38;5;124mto_time_series_dataset\u001b[39m\u001b[38;5;124m\"\u001b[39m,\n\u001b[1;32m   (...)\u001b[0m\n\u001b[0;32m     56\u001b[0m     \u001b[38;5;124m\"\u001b[39m\u001b[38;5;124mfrom_tsfresh_dataset\u001b[39m\u001b[38;5;124m\"\u001b[39m, \u001b[38;5;124m\"\u001b[39m\u001b[38;5;124mto_tsfresh_dataset\u001b[39m\u001b[38;5;124m\"\u001b[39m\n\u001b[0;32m     57\u001b[0m ]\n",
      "File \u001b[1;32mc:\\Users\\PAPASOFT INC\\AppData\\Local\\Programs\\Python\\Python311\\Lib\\site-packages\\tslearn\\utils\\utils.py:20\u001b[0m\n\u001b[0;32m     18\u001b[0m \u001b[38;5;28;01mexcept\u001b[39;00m \u001b[38;5;167;01mImportError\u001b[39;00m:  \u001b[38;5;66;03m# Old sklearn versions\u001b[39;00m\n\u001b[0;32m     19\u001b[0m     \u001b[38;5;28;01mfrom\u001b[39;00m \u001b[38;5;21;01msklearn\u001b[39;00m\u001b[38;5;21;01m.\u001b[39;00m\u001b[38;5;21;01mutils\u001b[39;00m\u001b[38;5;21;01m.\u001b[39;00m\u001b[38;5;21;01mestimator_checks\u001b[39;00m \u001b[38;5;28;01mimport\u001b[39;00m NotAnArray\n\u001b[1;32m---> 20\u001b[0m \u001b[38;5;28;01mfrom\u001b[39;00m \u001b[38;5;21;01mtslearn\u001b[39;00m\u001b[38;5;21;01m.\u001b[39;00m\u001b[38;5;21;01mbackend\u001b[39;00m \u001b[38;5;28;01mimport\u001b[39;00m instantiate_backend\n\u001b[0;32m     21\u001b[0m \u001b[38;5;28;01mfrom\u001b[39;00m \u001b[38;5;21;01mtslearn\u001b[39;00m\u001b[38;5;21;01m.\u001b[39;00m\u001b[38;5;21;01mbases\u001b[39;00m \u001b[38;5;28;01mimport\u001b[39;00m TimeSeriesBaseEstimator\n\u001b[0;32m     23\u001b[0m __author__ \u001b[38;5;241m=\u001b[39m \u001b[38;5;124m\"\u001b[39m\u001b[38;5;124mRomain Tavenard romain.tavenard[at]univ-rennes2.fr\u001b[39m\u001b[38;5;124m\"\u001b[39m\n",
      "File \u001b[1;32mc:\\Users\\PAPASOFT INC\\AppData\\Local\\Programs\\Python\\Python311\\Lib\\site-packages\\tslearn\\backend\\__init__.py:6\u001b[0m\n\u001b[0;32m      1\u001b[0m \u001b[38;5;124;03m\"\"\"\u001b[39;00m\n\u001b[0;32m      2\u001b[0m \u001b[38;5;124;03mThe :mod:`tslearn.backend` module provides multiple backends.\u001b[39;00m\n\u001b[0;32m      3\u001b[0m \u001b[38;5;124;03mThe backends provided are NumPy and PyTorch.\u001b[39;00m\n\u001b[0;32m      4\u001b[0m \u001b[38;5;124;03m\"\"\"\u001b[39;00m\n\u001b[1;32m----> 6\u001b[0m \u001b[38;5;28;01mfrom\u001b[39;00m \u001b[38;5;21;01m.\u001b[39;00m\u001b[38;5;21;01mbackend\u001b[39;00m \u001b[38;5;28;01mimport\u001b[39;00m Backend, cast, instantiate_backend, select_backend\n\u001b[0;32m      8\u001b[0m __all__ \u001b[38;5;241m=\u001b[39m [\n\u001b[0;32m      9\u001b[0m     \u001b[38;5;124m\"\u001b[39m\u001b[38;5;124mBackend\u001b[39m\u001b[38;5;124m\"\u001b[39m,\n\u001b[0;32m     10\u001b[0m     \u001b[38;5;124m\"\u001b[39m\u001b[38;5;124mcast\u001b[39m\u001b[38;5;124m\"\u001b[39m,\n\u001b[0;32m     11\u001b[0m     \u001b[38;5;124m\"\u001b[39m\u001b[38;5;124minstantiate_backend\u001b[39m\u001b[38;5;124m\"\u001b[39m,\n\u001b[0;32m     12\u001b[0m     \u001b[38;5;124m\"\u001b[39m\u001b[38;5;124mselect_backend\u001b[39m\u001b[38;5;124m\"\u001b[39m,\n\u001b[0;32m     13\u001b[0m ]\n",
      "File \u001b[1;32mc:\\Users\\PAPASOFT INC\\AppData\\Local\\Programs\\Python\\Python311\\Lib\\site-packages\\tslearn\\backend\\backend.py:6\u001b[0m\n\u001b[0;32m      3\u001b[0m \u001b[38;5;28;01mfrom\u001b[39;00m \u001b[38;5;21;01mtslearn\u001b[39;00m\u001b[38;5;21;01m.\u001b[39;00m\u001b[38;5;21;01mbackend\u001b[39;00m\u001b[38;5;21;01m.\u001b[39;00m\u001b[38;5;21;01mnumpy_backend\u001b[39;00m \u001b[38;5;28;01mimport\u001b[39;00m NumPyBackend\n\u001b[0;32m      5\u001b[0m \u001b[38;5;28;01mtry\u001b[39;00m:\n\u001b[1;32m----> 6\u001b[0m     \u001b[38;5;28;01mimport\u001b[39;00m \u001b[38;5;21;01mtorch\u001b[39;00m\n\u001b[0;32m      8\u001b[0m     \u001b[38;5;28;01mfrom\u001b[39;00m \u001b[38;5;21;01mtslearn\u001b[39;00m\u001b[38;5;21;01m.\u001b[39;00m\u001b[38;5;21;01mbackend\u001b[39;00m\u001b[38;5;21;01m.\u001b[39;00m\u001b[38;5;21;01mpytorch_backend\u001b[39;00m \u001b[38;5;28;01mimport\u001b[39;00m PyTorchBackend\n\u001b[0;32m      9\u001b[0m \u001b[38;5;28;01mexcept\u001b[39;00m \u001b[38;5;167;01mImportError\u001b[39;00m:\n",
      "File \u001b[1;32mc:\\Users\\PAPASOFT INC\\AppData\\Local\\Programs\\Python\\Python311\\Lib\\site-packages\\torch\\__init__.py:1845\u001b[0m\n\u001b[0;32m   1842\u001b[0m     sys\u001b[38;5;241m.\u001b[39mmodules[torch_module_name] \u001b[38;5;241m=\u001b[39m module\n\u001b[0;32m   1844\u001b[0m \u001b[38;5;66;03m# expose return_types\u001b[39;00m\n\u001b[1;32m-> 1845\u001b[0m \u001b[38;5;28;01mfrom\u001b[39;00m \u001b[38;5;21;01m.\u001b[39;00m \u001b[38;5;28;01mimport\u001b[39;00m return_types\n\u001b[0;32m   1846\u001b[0m \u001b[38;5;28;01mfrom\u001b[39;00m \u001b[38;5;21;01m.\u001b[39;00m \u001b[38;5;28;01mimport\u001b[39;00m library\n\u001b[0;32m   1847\u001b[0m \u001b[38;5;28;01mif\u001b[39;00m \u001b[38;5;129;01mnot\u001b[39;00m TYPE_CHECKING:\n",
      "File \u001b[1;32mc:\\Users\\PAPASOFT INC\\AppData\\Local\\Programs\\Python\\Python311\\Lib\\site-packages\\torch\\return_types.py:34\u001b[0m\n\u001b[0;32m     28\u001b[0m \u001b[38;5;66;03m# Today everything in torch.return_types is a structseq, aka a \"namedtuple\"-like\u001b[39;00m\n\u001b[0;32m     29\u001b[0m \u001b[38;5;66;03m# thing defined by the Python C-API. We're going to need to modify this when that\u001b[39;00m\n\u001b[0;32m     30\u001b[0m \u001b[38;5;66;03m# is no longer the case.\u001b[39;00m\n\u001b[0;32m     31\u001b[0m \u001b[38;5;66;03m# NB: I don't know how to check that something is a \"structseq\" so we do a fuzzy\u001b[39;00m\n\u001b[0;32m     32\u001b[0m \u001b[38;5;66;03m# check for tuple\u001b[39;00m\n\u001b[0;32m     33\u001b[0m \u001b[38;5;28;01mif\u001b[39;00m inspect\u001b[38;5;241m.\u001b[39misclass(_attr) \u001b[38;5;129;01mand\u001b[39;00m \u001b[38;5;28missubclass\u001b[39m(_attr, \u001b[38;5;28mtuple\u001b[39m):\n\u001b[1;32m---> 34\u001b[0m     \u001b[43mpytree_register_structseq\u001b[49m\u001b[43m(\u001b[49m\u001b[43m_attr\u001b[49m\u001b[43m)\u001b[49m\n",
      "File \u001b[1;32mc:\\Users\\PAPASOFT INC\\AppData\\Local\\Programs\\Python\\Python311\\Lib\\site-packages\\torch\\return_types.py:16\u001b[0m, in \u001b[0;36mpytree_register_structseq\u001b[1;34m(cls)\u001b[0m\n\u001b[0;32m     13\u001b[0m \u001b[38;5;28;01mdef\u001b[39;00m \u001b[38;5;21mstructseq_unflatten\u001b[39m(values, context):\n\u001b[0;32m     14\u001b[0m     \u001b[38;5;28;01mreturn\u001b[39;00m \u001b[38;5;28mcls\u001b[39m(values)\n\u001b[1;32m---> 16\u001b[0m \u001b[43mtorch\u001b[49m\u001b[38;5;241;43m.\u001b[39;49m\u001b[43mutils\u001b[49m\u001b[38;5;241;43m.\u001b[39;49m\u001b[43m_pytree\u001b[49m\u001b[38;5;241;43m.\u001b[39;49m\u001b[43mregister_pytree_node\u001b[49m\u001b[43m(\u001b[49m\u001b[38;5;28;43mcls\u001b[39;49m\u001b[43m,\u001b[49m\u001b[43m \u001b[49m\u001b[43mstructseq_flatten\u001b[49m\u001b[43m,\u001b[49m\u001b[43m \u001b[49m\u001b[43mstructseq_unflatten\u001b[49m\u001b[43m)\u001b[49m\n",
      "File \u001b[1;32mc:\\Users\\PAPASOFT INC\\AppData\\Local\\Programs\\Python\\Python311\\Lib\\site-packages\\torch\\utils\\_pytree.py:171\u001b[0m, in \u001b[0;36mregister_pytree_node\u001b[1;34m(cls, flatten_fn, unflatten_fn, serialized_type_name, to_dumpable_context, from_dumpable_context)\u001b[0m\n\u001b[0;32m    161\u001b[0m _private_register_pytree_node(\n\u001b[0;32m    162\u001b[0m     \u001b[38;5;28mcls\u001b[39m,\n\u001b[0;32m    163\u001b[0m     flatten_fn,\n\u001b[1;32m   (...)\u001b[0m\n\u001b[0;32m    167\u001b[0m     from_dumpable_context\u001b[38;5;241m=\u001b[39mfrom_dumpable_context,\n\u001b[0;32m    168\u001b[0m )\n\u001b[0;32m    170\u001b[0m \u001b[38;5;28;01mtry\u001b[39;00m:\n\u001b[1;32m--> 171\u001b[0m     \u001b[38;5;28;01mfrom\u001b[39;00m \u001b[38;5;21;01m.\u001b[39;00m \u001b[38;5;28;01mimport\u001b[39;00m _cxx_pytree \u001b[38;5;28;01mas\u001b[39;00m cxx\n\u001b[0;32m    172\u001b[0m \u001b[38;5;28;01mexcept\u001b[39;00m \u001b[38;5;167;01mImportError\u001b[39;00m:\n\u001b[0;32m    173\u001b[0m     \u001b[38;5;28;01mpass\u001b[39;00m\n",
      "File \u001b[1;32m<frozen importlib._bootstrap>:1176\u001b[0m, in \u001b[0;36m_find_and_load\u001b[1;34m(name, import_)\u001b[0m\n",
      "File \u001b[1;32m<frozen importlib._bootstrap>:1147\u001b[0m, in \u001b[0;36m_find_and_load_unlocked\u001b[1;34m(name, import_)\u001b[0m\n",
      "File \u001b[1;32m<frozen importlib._bootstrap>:690\u001b[0m, in \u001b[0;36m_load_unlocked\u001b[1;34m(spec)\u001b[0m\n",
      "File \u001b[1;32m<frozen importlib._bootstrap_external>:936\u001b[0m, in \u001b[0;36mexec_module\u001b[1;34m(self, module)\u001b[0m\n",
      "File \u001b[1;32m<frozen importlib._bootstrap_external>:1032\u001b[0m, in \u001b[0;36mget_code\u001b[1;34m(self, fullname)\u001b[0m\n",
      "File \u001b[1;32m<frozen importlib._bootstrap_external>:1130\u001b[0m, in \u001b[0;36mget_data\u001b[1;34m(self, path)\u001b[0m\n",
      "\u001b[1;31mKeyboardInterrupt\u001b[0m: "
     ]
    }
   ],
   "source": [
    "import numpy as np\n",
    "from sklearn.cluster import KMeans\n",
    "from sklearn.metrics.pairwise import pairwise_kernels\n",
    "from tslearn.clustering import KernelKMeans as TSKernelKMeans\n",
    "from KernelKMeans import KernelKMeans\n",
    "from GlobalKernelKMeans import GlobalKernelKMeans, GlobalKernelKMeansPP \n",
    "from Datasets.Datasets_Functions import *\n",
    "from Rings import Rings\n",
    "from Common_Modules.Evaluation import Evaluator\n",
    "from Common_Modules.Graph import Graph\n",
    "from Common_Modules.Visualization import Visualization\n",
    "from Common_Modules.General_Functions import General_Functions"
   ]
  },
  {
   "cell_type": "markdown",
   "id": "a5718e92",
   "metadata": {},
   "source": [
    "### Global Variables"
   ]
  },
  {
   "cell_type": "code",
   "execution_count": null,
   "id": "de6245c2",
   "metadata": {},
   "outputs": [],
   "source": [
    "seed = 42\n",
    "evaluator = Evaluator()\n",
    "graph_is_enabled = False\n",
    "kMeans_is_enabled = False\n",
    "kernelKMeans_is_enabled = False\n",
    "kernelKMeansPP_is_enabled = False\n",
    "globalKernelKMeans_is_enabled = False\n",
    "globalKernelKMeansPP_is_enabled = True\n",
    "n_candidates = n_init = 100\n",
    "kernel = 'cosine'\n",
    "gamma = 1.0"
   ]
  },
  {
   "cell_type": "markdown",
   "id": "eec895e5",
   "metadata": {},
   "source": [
    "### Visualization"
   ]
  },
  {
   "cell_type": "code",
   "execution_count": null,
   "id": "78f34d42",
   "metadata": {},
   "outputs": [],
   "source": [
    "visualization = Visualization()\n",
    "colors = ['red', 'blue', 'green', 'orange', 'purple', 'yellow', 'black', 'cyan', 'gray', 'lime']"
   ]
  },
  {
   "cell_type": "markdown",
   "id": "d4f37574",
   "metadata": {},
   "source": [
    "### Load Dataset"
   ]
  },
  {
   "cell_type": "markdown",
   "id": "9d329be0",
   "metadata": {},
   "source": [
    "### 2Rings"
   ]
  },
  {
   "cell_type": "code",
   "execution_count": null,
   "id": "85ea1db3",
   "metadata": {},
   "outputs": [],
   "source": [
    "if(False):\n",
    "    # centers_coordinates = [(-1, 2), (2, 2), (2, 5), (2, -1), (5, 2), (6, 6), (-2, 6), (2, 8), (6, -2), (2, -4), (-2, -2)]\n",
    "    centers_coordinates = [(-1, 2), (2, 2)]\n",
    "    rings = Rings(colors)\n",
    "    X, y = rings.make_rings_pairs(centers_coordinates=centers_coordinates, n_samples=100, factor=0.2, noise=0.0)\n",
    "\n",
    "    K = 2 * len(centers_coordinates)\n",
    "    kernel_matrix = pairwise_kernels(X, X, metric='rbf', gamma=1)"
   ]
  },
  {
   "cell_type": "markdown",
   "id": "e363a2bd",
   "metadata": {},
   "source": [
    "### 3Rings"
   ]
  },
  {
   "cell_type": "code",
   "execution_count": null,
   "id": "e0e0b0a9",
   "metadata": {},
   "outputs": [],
   "source": [
    "if (False):\n",
    "    import numpy as np\n",
    "    import matplotlib.pyplot as plt\n",
    "    from matplotlib.colors import ListedColormap\n",
    "\n",
    "    class Rings:\n",
    "        def __init__(self, colors, seed=42):\n",
    "            self.colors = colors\n",
    "            self.seed = seed\n",
    "\n",
    "        def plot(self, X, labels_):\n",
    "            plt.scatter(X[:, 0], X[:, 1], c=labels_, cmap=ListedColormap(self.colors))\n",
    "            plt.show()\n",
    "\n",
    "        def move_rings(self, center_coordinates, X):\n",
    "            X[:, 0] += center_coordinates[0]\n",
    "            X[:, 1] += center_coordinates[1]\n",
    "            return X\n",
    "\n",
    "        def generate_circle(self, n_samples, radius, noise):\n",
    "            angles = np.linspace(0, 2 * np.pi, n_samples, endpoint=False)\n",
    "            X = np.c_[radius * np.cos(angles), radius * np.sin(angles)]\n",
    "            X += noise * np.random.randn(n_samples, 2)\n",
    "            return X\n",
    "\n",
    "        def make_concentric_rings(self, centers_coordinates, n_samples=300, radii=[1, 2, 3], noise=0.05):\n",
    "            pairs = []\n",
    "            label = 0\n",
    "\n",
    "            for center_coordinates in centers_coordinates:\n",
    "                X_list, y_list = [], []\n",
    "                for i, radius in enumerate(radii):\n",
    "                    X = self.generate_circle(n_samples // len(radii), radius, noise)\n",
    "                    y = np.full(X.shape[0], i)  # Assign unique label for each ring\n",
    "                    X_list.append(X)\n",
    "                    y_list.append(y)\n",
    "\n",
    "                # Concatenate all rings\n",
    "                X = np.concatenate(X_list)\n",
    "                y = np.concatenate(y_list)\n",
    "\n",
    "                X = self.move_rings(center_coordinates, X)\n",
    "\n",
    "                pairs.append((X, y))\n",
    "                label += len(radii)\n",
    "\n",
    "            return self.concatenate_pairs(pairs)\n",
    "\n",
    "        def concatenate_pairs(self, pairs):\n",
    "            X = np.concatenate([X for X, _ in pairs])\n",
    "            y = np.concatenate([y for _, y in pairs])\n",
    "            self.plot(X, y)\n",
    "            return X, y\n",
    "\n",
    "    # Example usage:\n",
    "    colors = ['#1f77b4', '#ff7f0e', '#2ca02c']\n",
    "    rings = Rings(colors=colors)\n",
    "\n",
    "    # Define the center for the single set of three concentric rings\n",
    "    centers_coordinates = [(0, 0)]\n",
    "\n",
    "    # Generate and plot the rings\n",
    "    X, y = rings.make_concentric_rings(centers_coordinates=centers_coordinates, n_samples=150, radii=[1, 10, 25], noise=0)\n",
    "\n",
    "    K = 3 * len(centers_coordinates)\n",
    "    kernel_matrix = pairwise_kernels(X, X, metric='sigmoid')\n",
    "    print(X)"
   ]
  },
  {
   "cell_type": "markdown",
   "id": "6dc6e715",
   "metadata": {},
   "source": [
    "### 1 Ring with 2 Gaussians Inside"
   ]
  },
  {
   "cell_type": "code",
   "execution_count": null,
   "id": "99acc8e3",
   "metadata": {},
   "outputs": [],
   "source": [
    "if(False):\n",
    "    import numpy as np\n",
    "    import matplotlib.pyplot as plt\n",
    "    from matplotlib.colors import ListedColormap\n",
    "    from sklearn.metrics.pairwise import pairwise_kernels\n",
    "    import copy\n",
    "    \n",
    "    class Rings:\n",
    "        def __init__(self, colors, seed=42):\n",
    "            self.colors = colors\n",
    "            self.seed = seed\n",
    "            np.random.seed(self.seed)\n",
    "    \n",
    "        def plot(self, X, labels_):\n",
    "            plt.scatter(X[:, 0], X[:, 1], c=labels_, cmap=ListedColormap(self.colors))\n",
    "            plt.axis('off')\n",
    "            plt.show()\n",
    "    \n",
    "        def generate_circle(self, n_samples, radius, noise):\n",
    "            angles = np.linspace(0, 2 * np.pi, n_samples, endpoint=False)\n",
    "            X = np.c_[radius * np.cos(angles), radius * np.sin(angles)]\n",
    "            X += noise * np.random.randn(n_samples, 2)\n",
    "            return X\n",
    "    \n",
    "        def generate_gaussians(self, n_samples, means, cov, labels):\n",
    "            X = np.vstack([np.random.multivariate_normal(mean, cov, n_samples) for mean in means])\n",
    "            y = np.hstack([[label]*n_samples for label in labels])\n",
    "            return X, y\n",
    "    \n",
    "        def make_multiple_rings_with_gaussians(self, centers_coordinates, n_samples=100, radius=10, noise=0.05, gaussian_samples=50):\n",
    "            X_list, y_list = [], []\n",
    "            label_offset = 0\n",
    "            \n",
    "            for center_coordinates in centers_coordinates:\n",
    "                # Generate ring\n",
    "                X_ring = self.generate_circle(n_samples, radius, noise)\n",
    "                y_ring = np.full(X_ring.shape[0], label_offset)  # Label for the ring\n",
    "                X_ring = self.move_rings(center_coordinates, X_ring)\n",
    "                X_list.append(X_ring)\n",
    "                y_list.append(y_ring)\n",
    "                \n",
    "                # Generate 2 Gaussians inside the ring\n",
    "                gaussians_X, gaussians_y = self.generate_gaussians(\n",
    "                    gaussian_samples,\n",
    "                    means=[(center_coordinates[0] - 1, center_coordinates[1]), \n",
    "                           (center_coordinates[0] + 1, center_coordinates[1])],  # Centered near the ring's center\n",
    "                    cov=[[0.1, 0], [0, 0.1]],  # Covariance matrix\n",
    "                    labels=[label_offset + 1, label_offset + 2]  # Unique labels for Gaussians\n",
    "                )\n",
    "    \n",
    "                X_list.append(gaussians_X)\n",
    "                y_list.append(gaussians_y)\n",
    "    \n",
    "                label_offset = label_offset + 3\n",
    "            # Concatenate all parts\n",
    "            X = np.concatenate(X_list)\n",
    "            y = np.concatenate(y_list)\n",
    "    \n",
    "            self.plot(X, y)\n",
    "            return X, y\n",
    "    \n",
    "        def move_rings(self, center_coordinates, X):\n",
    "            X[:, 0] += center_coordinates[0]\n",
    "            X[:, 1] += center_coordinates[1]\n",
    "            return X\n",
    "    \n",
    "    # Usage example\n",
    "    colors = ['purple', 'orange', 'blue', 'red', 'green', 'lime']\n",
    "    \n",
    "    rings = Rings(colors)\n",
    "    centers_coordinates = [(5, 5), (-5, 5)]\n",
    "    X, y = rings.make_multiple_rings_with_gaussians(centers_coordinates, n_samples=100, radius=3, noise=0.0, gaussian_samples=50)\n",
    "    \n",
    "    K = 3 * len(centers_coordinates)\n",
    "    kernel_matrix = pairwise_kernels(X, X, metric='rbf', gamma=0.5)"
   ]
  },
  {
   "cell_type": "markdown",
   "id": "d30f33c9",
   "metadata": {},
   "source": [
    "### 3Rings Paper"
   ]
  },
  {
   "cell_type": "code",
   "execution_count": null,
   "id": "14ed84e0",
   "metadata": {},
   "outputs": [],
   "source": [
    "if (False):\n",
    "    import scipy.io\n",
    "    import numpy as np\n",
    "    X_mat = scipy.io.loadmat('3circles_dataset.mat')\n",
    "    X = np.array(X_mat['Dataset'])\n",
    "    kernel_matrix_mat = scipy.io.loadmat('3circles_kernel_matrix.mat')\n",
    "    kernel_matrix = np.array(kernel_matrix_mat['K'])\n",
    "    y = np.loadtxt('array.txt').astype(int)\n",
    "    K = 3\n",
    "    rings.plot(X,y)\n",
    "    print(y)"
   ]
  },
  {
   "cell_type": "markdown",
   "id": "dd74cf65",
   "metadata": {},
   "source": [
    "### Graphs"
   ]
  },
  {
   "cell_type": "code",
   "execution_count": null,
   "id": "09282f0d",
   "metadata": {},
   "outputs": [],
   "source": [
    "if(graph_is_enabled):\n",
    "    # Number of nodes per community\n",
    "    n_nodes_per_community = 10\n",
    "\n",
    "    # Number of communities\n",
    "    K = n_communities = 10\n",
    "    \n",
    "    # Probability of intra-community edge\n",
    "    p_intra = 1  \n",
    "    \n",
    "    # Probability of inter-community edge\n",
    "    p_inter = 0.01  \n",
    "\n",
    "    graph = Graph(n_communities, n_nodes_per_community, p_intra, p_inter, colors)\n",
    "    graph.create_adj_matrix()\n",
    "    kernel_matrix = graph.adj_matrix = pairwise_kernels(graph.adj_matrix, graph.adj_matrix, metric='linear')\n",
    "    graph.create_kernel_matrix_from_adj_matrix()"
   ]
  },
  {
   "cell_type": "markdown",
   "id": "7b9835fe",
   "metadata": {},
   "source": [
    "### Real Dataset"
   ]
  },
  {
   "cell_type": "code",
   "execution_count": null,
   "id": "7a7cf5f4",
   "metadata": {},
   "outputs": [
    {
     "name": "stdout",
     "output_type": "stream",
     "text": [
      "Data_Shape is: 22\n",
      "Batches Number is: 313\n",
      "Directory 'Results\\waveform_v1\\cosine\\100\\' already exists.\n"
     ]
    },
    {
     "name": "stderr",
     "output_type": "stream",
     "text": [
      "c:\\Users\\PAPASOFT INC\\AppData\\Local\\Programs\\Python\\Python311\\Lib\\site-packages\\scikit_learn-1.3.1-py3.11-win-amd64.egg\\sklearn\\preprocessing\\_label.py:114: DataConversionWarning: A column-vector y was passed when a 1d array was expected. Please change the shape of y to (n_samples, ), for example using ravel().\n",
      "  y = column_or_1d(y, warn=True)\n"
     ]
    }
   ],
   "source": [
    "dataset_name = \"waveform_v1\" # The available datasets are: breast_cancer, dermatology, ecoli, iris, olivetti_faces, pendigits, waveform_v1, wine\n",
    "module_name = \"Datasets.Datasets\"\n",
    "batch_size = 16\n",
    "dataloader, input_dim, X, y = function_get_dataset(dataset_name, module_name, batch_size)\n",
    "print('Data_Shape is:', input_dim)\n",
    "print('Batches Number is:', len(dataloader))\n",
    "K = len(np.unique(y))\n",
    "kernel_matrix = pairwise_kernels(X, X, metric=kernel)\n",
    "data_dir_path = f\"Results\\\\{dataset_name}\\\\{kernel}\\\\{n_init}\\\\\"\n",
    "General_Functions().create_directory(data_dir_path)\n",
    "K = 50"
   ]
  },
  {
   "cell_type": "markdown",
   "id": "f5e3a280",
   "metadata": {},
   "source": [
    "### kMeans"
   ]
  },
  {
   "cell_type": "code",
   "execution_count": null,
   "id": "f54c05ad",
   "metadata": {},
   "outputs": [],
   "source": [
    "if(kMeans_is_enabled):\n",
    "    kmeans = KMeans(n_clusters=K).fit(X)\n",
    "    acc, pur, nmi, ari = evaluator.evaluate_model(y, kmeans.labels_)\n",
    "    evaluator.print_evaluation()\n",
    "    visualization.plot_tsne(X, y, data_dir_path=\"Figures\\\\\"+dataset_name)"
   ]
  },
  {
   "cell_type": "markdown",
   "id": "ca418be2",
   "metadata": {},
   "source": [
    "### Kernel kMeans"
   ]
  },
  {
   "cell_type": "code",
   "execution_count": null,
   "id": "8139e828",
   "metadata": {},
   "outputs": [],
   "source": [
    "if(kernelKMeans_is_enabled):\n",
    "    kernel_kmeans = TSKernelKMeans(n_clusters=K, n_init=10, kernel='precomputed').fit(kernel_matrix)\n",
    "    acc, pur, nmi, ari = evaluator.evaluate_model(y, kernel_kmeans.labels_)\n",
    "    evaluator.print_evaluation()\n",
    "    visualization.plot_tsne(X, y, data_dir_path=\"Figures\\\\\"+dataset_name)"
   ]
  },
  {
   "cell_type": "markdown",
   "id": "12d1a9fc",
   "metadata": {},
   "source": [
    "### Kernel kMeans++"
   ]
  },
  {
   "cell_type": "code",
   "execution_count": null,
   "id": "f56cc1a7",
   "metadata": {},
   "outputs": [],
   "source": [
    "if(kernelKMeansPP_is_enabled):\n",
    "    n_iters_ = {}\n",
    "    execution_times_ = {}\n",
    "    inertias_ = {}\n",
    "    #init = \"random\"\n",
    "    init = \"k-means++\"\n",
    "    #init = \"forgy\"\n",
    "    #General_Functions.append_to_csv(f\"{data_dir_path}KernelKMeans_Dataset_{dataset_name}_Init_{init}_Kernel_{kernel}_K_{K}_Inits_{n_init}_Results.csv\", new_row)\n",
    "    prev_K = K\n",
    "    K = 47\n",
    "    while (K != prev_K + 1):\n",
    "        print(K)\n",
    "        kernelKMeans = KernelKMeans(n_clusters=K, kernel_matrix=kernel_matrix, n_init=n_init, init=init, verbose=0)\n",
    "        kernelKMeans.fit()\n",
    "        if graph_is_enabled:\n",
    "            graph.plot_clusters(kernelKMeans.labels_)\n",
    "        #else:\n",
    "            #evaluation_results = General_Functions().append_to_file(y, kernelKMeans.labels_, kernelKMeans.inertia_, kernelKMeans.execution_times_, f\"{data_dir_path}KernelKMeans_{init}_Results.txt\")\n",
    "            #visualization.plot_tsne(X, y, data_dir_path=data_dir_path + \"KernelKMeans_\" + init)\n",
    "            #General_Functions.create_csv(kernelKMeans.inertia_, kernelKMeans.n_iters_, kernelKMeans.execution_times_, f\"{data_dir_path}KernelKMeans_{init}_Results.csv\")        \n",
    "            # That's the function of grount truth error\n",
    "            #ground_truth_error = kernelKMeans.calculate_ground_truth_error(y)\n",
    "            #print(f\"Ground Truth Error is: {ground_truth_error}\")    \n",
    "        n_iters_[K] = sum(kernelKMeans.n_iters_.values())\n",
    "        execution_times_[K] = sum(kernelKMeans.execution_times_.values())\n",
    "        inertias_[K] = kernelKMeans.inertia_\n",
    "        new_row = { \"K\": K, \"MSE\": inertias_[K], \"ITERATIONS\": n_iters_[K], \"EXECUTION TIME\": execution_times_[K]}\n",
    "        General_Functions.append_to_csv(f\"{data_dir_path}KernelKMeans_Dataset_{dataset_name}_Init_{init}_Kernel_{kernel}_K_{prev_K}_Inits_{n_init}_Results.csv\", new_row)\n",
    "        K += 1\n",
    "    K = prev_K   "
   ]
  },
  {
   "cell_type": "markdown",
   "id": "34983f02",
   "metadata": {},
   "source": [
    "### Global Kernel kMeans"
   ]
  },
  {
   "cell_type": "code",
   "execution_count": null,
   "id": "1bfc8729",
   "metadata": {},
   "outputs": [
    {
     "name": "stdout",
     "output_type": "stream",
     "text": [
      "Solving Kernel 2-means\n",
      "Solved 2-means MSE: 374.123699923039 in 25762.097885370255s\n",
      "Solving Kernel 3-means\n"
     ]
    },
    {
     "ename": "KeyboardInterrupt",
     "evalue": "",
     "output_type": "error",
     "traceback": [
      "\u001b[1;31m---------------------------------------------------------------------------\u001b[0m",
      "\u001b[1;31mKeyboardInterrupt\u001b[0m                         Traceback (most recent call last)",
      "Cell \u001b[1;32mIn[13], line 3\u001b[0m\n\u001b[0;32m      1\u001b[0m \u001b[38;5;28;01mif\u001b[39;00m(globalKernelKMeans_is_enabled):\n\u001b[0;32m      2\u001b[0m     globalKernelKMeans \u001b[38;5;241m=\u001b[39m GlobalKernelKMeans(n_clusters\u001b[38;5;241m=\u001b[39mK, kernel_matrix\u001b[38;5;241m=\u001b[39mkernel_matrix, data_dir_path\u001b[38;5;241m=\u001b[39m\u001b[38;5;124mf\u001b[39m\u001b[38;5;124m\"\u001b[39m\u001b[38;5;132;01m{\u001b[39;00mdata_dir_path\u001b[38;5;132;01m}\u001b[39;00m\u001b[38;5;124mGlobalKernelKMeans_Dataset_\u001b[39m\u001b[38;5;132;01m{\u001b[39;00mdataset_name\u001b[38;5;132;01m}\u001b[39;00m\u001b[38;5;124m_Kernel_\u001b[39m\u001b[38;5;132;01m{\u001b[39;00mkernel\u001b[38;5;132;01m}\u001b[39;00m\u001b[38;5;124m_K_\u001b[39m\u001b[38;5;132;01m{\u001b[39;00mK\u001b[38;5;132;01m}\u001b[39;00m\u001b[38;5;124m_Inits_\u001b[39m\u001b[38;5;132;01m{\u001b[39;00mn_init\u001b[38;5;132;01m}\u001b[39;00m\u001b[38;5;124m_Results.csv\u001b[39m\u001b[38;5;124m\"\u001b[39m, verbose\u001b[38;5;241m=\u001b[39m\u001b[38;5;241m1\u001b[39m)\n\u001b[1;32m----> 3\u001b[0m     \u001b[43mglobalKernelKMeans\u001b[49m\u001b[38;5;241;43m.\u001b[39;49m\u001b[43mfit\u001b[49m\u001b[43m(\u001b[49m\u001b[43m)\u001b[49m\n\u001b[0;32m      5\u001b[0m     \u001b[38;5;28;01mif\u001b[39;00m graph_is_enabled:\n\u001b[0;32m      6\u001b[0m         graph\u001b[38;5;241m.\u001b[39mplot_clusters(globalKernelKMeans\u001b[38;5;241m.\u001b[39mlabels_[K])\n",
      "File \u001b[1;32mc:\\Users\\PAPASOFT INC\\Documents\\GitHub\\global-kernel-k-means-pp\\GlobalKernelKMeans.py:137\u001b[0m, in \u001b[0;36mGlobalKernelKMeans.fit\u001b[1;34m(self, X, y, sample_weight)\u001b[0m\n\u001b[0;32m    134\u001b[0m prev_xi_label \u001b[38;5;241m=\u001b[39m initial_labels_[i]\n\u001b[0;32m    135\u001b[0m initial_labels_[i] \u001b[38;5;241m=\u001b[39m k\u001b[38;5;241m-\u001b[39m\u001b[38;5;241m1\u001b[39m\n\u001b[1;32m--> 137\u001b[0m kernelKMeans \u001b[38;5;241m=\u001b[39m \u001b[43mKernelKMeans\u001b[49m\u001b[43m(\u001b[49m\u001b[43mn_clusters\u001b[49m\u001b[38;5;241;43m=\u001b[39;49m\u001b[43mk\u001b[49m\u001b[43m,\u001b[49m\u001b[43m \u001b[49m\u001b[43mkernel_matrix\u001b[49m\u001b[38;5;241;43m=\u001b[39;49m\u001b[38;5;28;43mself\u001b[39;49m\u001b[38;5;241;43m.\u001b[39;49m\u001b[43mkernel_matrix\u001b[49m\u001b[43m,\u001b[49m\u001b[43m \u001b[49m\u001b[43mn_init\u001b[49m\u001b[38;5;241;43m=\u001b[39;49m\u001b[38;5;241;43m1\u001b[39;49m\u001b[43m,\u001b[49m\u001b[43m \u001b[49m\u001b[43minitial_labels_\u001b[49m\u001b[38;5;241;43m=\u001b[39;49m\u001b[43mnp\u001b[49m\u001b[38;5;241;43m.\u001b[39;49m\u001b[43mcopy\u001b[49m\u001b[43m(\u001b[49m\u001b[43minitial_labels_\u001b[49m\u001b[43m)\u001b[49m\u001b[43m,\u001b[49m\u001b[43m \u001b[49m\u001b[43mverbose\u001b[49m\u001b[38;5;241;43m=\u001b[39;49m\u001b[38;5;241;43m0\u001b[39;49m\u001b[43m)\u001b[49m\u001b[38;5;241;43m.\u001b[39;49m\u001b[43mfit\u001b[49m\u001b[43m(\u001b[49m\u001b[43m)\u001b[49m\n\u001b[0;32m    138\u001b[0m \u001b[38;5;28mself\u001b[39m\u001b[38;5;241m.\u001b[39mn_iter_ \u001b[38;5;241m+\u001b[39m\u001b[38;5;241m=\u001b[39m kernelKMeans\u001b[38;5;241m.\u001b[39mn_iter_\n\u001b[0;32m    140\u001b[0m initial_labels_[i] \u001b[38;5;241m=\u001b[39m prev_xi_label\n",
      "File \u001b[1;32mc:\\Users\\PAPASOFT INC\\Documents\\GitHub\\global-kernel-k-means-pp\\KernelKMeans.py:177\u001b[0m, in \u001b[0;36mKernelKMeans.fit\u001b[1;34m(self)\u001b[0m\n\u001b[0;32m    174\u001b[0m \u001b[38;5;28;01mif\u001b[39;00m(\u001b[38;5;28mself\u001b[39m\u001b[38;5;241m.\u001b[39minitial_labels_ \u001b[38;5;129;01mis\u001b[39;00m \u001b[38;5;28;01mNone\u001b[39;00m):\n\u001b[0;32m    175\u001b[0m     \u001b[38;5;28mself\u001b[39m\u001b[38;5;241m.\u001b[39minitial_labels_ \u001b[38;5;241m=\u001b[39m \u001b[38;5;28mself\u001b[39m\u001b[38;5;241m.\u001b[39minitialization\u001b[38;5;241m.\u001b[39mcalculate_initial_partition(\u001b[38;5;28mself\u001b[39m\u001b[38;5;241m.\u001b[39mn_clusters, \u001b[38;5;28mself\u001b[39m\u001b[38;5;241m.\u001b[39mN, \u001b[38;5;28mself\u001b[39m\u001b[38;5;241m.\u001b[39mkernel_matrix, \u001b[38;5;28mself\u001b[39m\u001b[38;5;241m.\u001b[39minit)\n\u001b[1;32m--> 177\u001b[0m current_labels_, current_inertia_ \u001b[38;5;241m=\u001b[39m \u001b[38;5;28;43mself\u001b[39;49m\u001b[38;5;241;43m.\u001b[39;49m\u001b[43m__kernel_kmeans_functionallity\u001b[49m\u001b[43m(\u001b[49m\u001b[43minitial_labels_\u001b[49m\u001b[43m \u001b[49m\u001b[38;5;241;43m=\u001b[39;49m\u001b[43m \u001b[49m\u001b[43mnp\u001b[49m\u001b[38;5;241;43m.\u001b[39;49m\u001b[43mcopy\u001b[49m\u001b[43m(\u001b[49m\u001b[38;5;28;43mself\u001b[39;49m\u001b[38;5;241;43m.\u001b[39;49m\u001b[43minitial_labels_\u001b[49m\u001b[43m)\u001b[49m\u001b[43m,\u001b[49m\u001b[43m \u001b[49m\u001b[43mkernel_matrix\u001b[49m\u001b[38;5;241;43m=\u001b[39;49m\u001b[38;5;28;43mself\u001b[39;49m\u001b[38;5;241;43m.\u001b[39;49m\u001b[43mkernel_matrix\u001b[49m\u001b[43m)\u001b[49m\n\u001b[0;32m    179\u001b[0m \u001b[38;5;28mself\u001b[39m\u001b[38;5;241m.\u001b[39minitial_labels_ \u001b[38;5;241m=\u001b[39m \u001b[38;5;28;01mNone\u001b[39;00m\n\u001b[0;32m    181\u001b[0m \u001b[38;5;28;01mif\u001b[39;00m(current_inertia_ \u001b[38;5;241m==\u001b[39m \u001b[38;5;28;01mNone\u001b[39;00m \u001b[38;5;129;01mand\u001b[39;00m current_labels_ \u001b[38;5;241m==\u001b[39m \u001b[38;5;28;01mNone\u001b[39;00m):\n",
      "File \u001b[1;32mc:\\Users\\PAPASOFT INC\\Documents\\GitHub\\global-kernel-k-means-pp\\KernelKMeans.py:142\u001b[0m, in \u001b[0;36mKernelKMeans.__kernel_kmeans_functionallity\u001b[1;34m(self, initial_labels_, kernel_matrix)\u001b[0m\n\u001b[0;32m    139\u001b[0m         \u001b[38;5;28;01mreturn\u001b[39;00m \u001b[38;5;28;01mNone\u001b[39;00m, \u001b[38;5;28;01mNone\u001b[39;00m\n\u001b[0;32m    141\u001b[0m     stable_sum \u001b[38;5;241m=\u001b[39m np\u001b[38;5;241m.\u001b[39msum(kernel_matrix[np\u001b[38;5;241m.\u001b[39mix_(cluster_indices, cluster_indices)]) \u001b[38;5;241m/\u001b[39m (n_cluster_samples \u001b[38;5;241m*\u001b[39m\u001b[38;5;241m*\u001b[39m \u001b[38;5;241m2\u001b[39m)\n\u001b[1;32m--> 142\u001b[0m     sample_sums \u001b[38;5;241m=\u001b[39m \u001b[43mnp\u001b[49m\u001b[38;5;241;43m.\u001b[39;49m\u001b[43msum\u001b[49m\u001b[43m(\u001b[49m\u001b[43mkernel_matrix\u001b[49m\u001b[43m[\u001b[49m\u001b[43m:\u001b[49m\u001b[43m,\u001b[49m\u001b[43m \u001b[49m\u001b[43mcluster_indices\u001b[49m\u001b[43m]\u001b[49m\u001b[43m,\u001b[49m\u001b[43m \u001b[49m\u001b[43maxis\u001b[49m\u001b[38;5;241;43m=\u001b[39;49m\u001b[38;5;241;43m1\u001b[39;49m\u001b[43m)\u001b[49m \u001b[38;5;241m/\u001b[39m n_cluster_samples\n\u001b[0;32m    144\u001b[0m     distances[i] \u001b[38;5;241m=\u001b[39m kernel_diag \u001b[38;5;241m-\u001b[39m \u001b[38;5;241m2\u001b[39m \u001b[38;5;241m*\u001b[39m sample_sums \u001b[38;5;241m+\u001b[39m stable_sum\n\u001b[0;32m    146\u001b[0m \u001b[38;5;28mself\u001b[39m\u001b[38;5;241m.\u001b[39mmin_distances \u001b[38;5;241m=\u001b[39m np\u001b[38;5;241m.\u001b[39mmin(distances, axis\u001b[38;5;241m=\u001b[39m\u001b[38;5;241m0\u001b[39m)\n",
      "File \u001b[1;32mc:\\Users\\PAPASOFT INC\\AppData\\Local\\Programs\\Python\\Python311\\Lib\\site-packages\\numpy\\core\\fromnumeric.py:2172\u001b[0m, in \u001b[0;36m_sum_dispatcher\u001b[1;34m(a, axis, dtype, out, keepdims, initial, where)\u001b[0m\n\u001b[0;32m   2102\u001b[0m \u001b[38;5;250m    \u001b[39m\u001b[38;5;124;03m\"\"\"\u001b[39;00m\n\u001b[0;32m   2103\u001b[0m \u001b[38;5;124;03m    Clip (limit) the values in an array.\u001b[39;00m\n\u001b[0;32m   2104\u001b[0m \n\u001b[1;32m   (...)\u001b[0m\n\u001b[0;32m   2167\u001b[0m \n\u001b[0;32m   2168\u001b[0m \u001b[38;5;124;03m    \"\"\"\u001b[39;00m\n\u001b[0;32m   2169\u001b[0m     \u001b[38;5;28;01mreturn\u001b[39;00m _wrapfunc(a, \u001b[38;5;124m'\u001b[39m\u001b[38;5;124mclip\u001b[39m\u001b[38;5;124m'\u001b[39m, a_min, a_max, out\u001b[38;5;241m=\u001b[39mout, \u001b[38;5;241m*\u001b[39m\u001b[38;5;241m*\u001b[39mkwargs)\n\u001b[1;32m-> 2172\u001b[0m \u001b[38;5;28;01mdef\u001b[39;00m \u001b[38;5;21m_sum_dispatcher\u001b[39m(a, axis\u001b[38;5;241m=\u001b[39m\u001b[38;5;28;01mNone\u001b[39;00m, dtype\u001b[38;5;241m=\u001b[39m\u001b[38;5;28;01mNone\u001b[39;00m, out\u001b[38;5;241m=\u001b[39m\u001b[38;5;28;01mNone\u001b[39;00m, keepdims\u001b[38;5;241m=\u001b[39m\u001b[38;5;28;01mNone\u001b[39;00m,\n\u001b[0;32m   2173\u001b[0m                     initial\u001b[38;5;241m=\u001b[39m\u001b[38;5;28;01mNone\u001b[39;00m, where\u001b[38;5;241m=\u001b[39m\u001b[38;5;28;01mNone\u001b[39;00m):\n\u001b[0;32m   2174\u001b[0m     \u001b[38;5;28;01mreturn\u001b[39;00m (a, out)\n\u001b[0;32m   2177\u001b[0m \u001b[38;5;129m@array_function_dispatch\u001b[39m(_sum_dispatcher)\n\u001b[0;32m   2178\u001b[0m \u001b[38;5;28;01mdef\u001b[39;00m \u001b[38;5;21msum\u001b[39m(a, axis\u001b[38;5;241m=\u001b[39m\u001b[38;5;28;01mNone\u001b[39;00m, dtype\u001b[38;5;241m=\u001b[39m\u001b[38;5;28;01mNone\u001b[39;00m, out\u001b[38;5;241m=\u001b[39m\u001b[38;5;28;01mNone\u001b[39;00m, keepdims\u001b[38;5;241m=\u001b[39mnp\u001b[38;5;241m.\u001b[39m_NoValue,\n\u001b[0;32m   2179\u001b[0m         initial\u001b[38;5;241m=\u001b[39mnp\u001b[38;5;241m.\u001b[39m_NoValue, where\u001b[38;5;241m=\u001b[39mnp\u001b[38;5;241m.\u001b[39m_NoValue):\n",
      "\u001b[1;31mKeyboardInterrupt\u001b[0m: "
     ]
    }
   ],
   "source": [
    "if(globalKernelKMeans_is_enabled):\n",
    "    globalKernelKMeans = GlobalKernelKMeans(n_clusters=K, kernel_matrix=kernel_matrix, data_dir_path=f\"{data_dir_path}GlobalKernelKMeans_Dataset_{dataset_name}_Kernel_{kernel}_K_{K}_Inits_{n_init}_Results.csv\", verbose=1)\n",
    "    globalKernelKMeans.fit()\n",
    "    \n",
    "    if graph_is_enabled:\n",
    "        graph.plot_clusters(globalKernelKMeans.labels_[K])\n",
    "    else:\n",
    "        evaluation_results = General_Functions().append_to_file(y, globalKernelKMeans.labels_[K], globalKernelKMeans.inertia_[K], globalKernelKMeans.execution_times_, f\"{data_dir_path}GlobalKernelKMeans_Results.txt\")\n",
    "        #visualization.plot_tsne(X, y, data_dir_path=data_dir_path + \"\\\\GlobalKernelKMeans\")\n",
    "        #General_Functions.create_csv(globalKernelKMeans.inertia_, globalKernelKMeans.n_iters_, globalKernelKMeans.execution_times_, f\"{data_dir_path}GlobalKernelKMeans_Dataset_{dataset_name}_Kernel_{kernel}_K_{K}_Inits_{n_init}_Results.csv\")\n",
    "# 0.265"
   ]
  },
  {
   "cell_type": "markdown",
   "id": "dabdbeaf",
   "metadata": {},
   "source": [
    "### Global Kernel kMeans++"
   ]
  },
  {
   "cell_type": "code",
   "execution_count": null,
   "id": "ecff347c",
   "metadata": {},
   "outputs": [
    {
     "name": "stdout",
     "output_type": "stream",
     "text": [
      "Solving 2-means\n"
     ]
    },
    {
     "ename": "KeyError",
     "evalue": "1",
     "output_type": "error",
     "traceback": [
      "\u001b[1;31m---------------------------------------------------------------------------\u001b[0m",
      "\u001b[1;31mKeyError\u001b[0m                                  Traceback (most recent call last)",
      "Cell \u001b[1;32mIn[14], line 5\u001b[0m\n\u001b[0;32m      3\u001b[0m sampling \u001b[38;5;241m=\u001b[39m \u001b[38;5;124m'\u001b[39m\u001b[38;5;124msequential\u001b[39m\u001b[38;5;124m'\u001b[39m\n\u001b[0;32m      4\u001b[0m globalKernelKMeansPP \u001b[38;5;241m=\u001b[39m GlobalKernelKMeansPP(n_clusters\u001b[38;5;241m=\u001b[39mK, kernel_matrix\u001b[38;5;241m=\u001b[39mkernel_matrix, n_candidates\u001b[38;5;241m=\u001b[39mn_candidates, sampling\u001b[38;5;241m=\u001b[39msampling, data_dir_path\u001b[38;5;241m=\u001b[39m\u001b[38;5;124mf\u001b[39m\u001b[38;5;124m\"\u001b[39m\u001b[38;5;132;01m{\u001b[39;00mdata_dir_path\u001b[38;5;132;01m}\u001b[39;00m\u001b[38;5;124mGlobalKernelKMeans_Dataset_\u001b[39m\u001b[38;5;132;01m{\u001b[39;00mdataset_name\u001b[38;5;132;01m}\u001b[39;00m\u001b[38;5;124m_Sampling_\u001b[39m\u001b[38;5;132;01m{\u001b[39;00msampling\u001b[38;5;132;01m}\u001b[39;00m\u001b[38;5;124m_Kernel_\u001b[39m\u001b[38;5;132;01m{\u001b[39;00mkernel\u001b[38;5;132;01m}\u001b[39;00m\u001b[38;5;124m_K_\u001b[39m\u001b[38;5;132;01m{\u001b[39;00mK\u001b[38;5;132;01m}\u001b[39;00m\u001b[38;5;124m_Inits_\u001b[39m\u001b[38;5;132;01m{\u001b[39;00mn_init\u001b[38;5;132;01m}\u001b[39;00m\u001b[38;5;124m_Results.csv\u001b[39m\u001b[38;5;124m\"\u001b[39m, verbose\u001b[38;5;241m=\u001b[39m\u001b[38;5;241m1\u001b[39m)\n\u001b[1;32m----> 5\u001b[0m \u001b[43mglobalKernelKMeansPP\u001b[49m\u001b[38;5;241;43m.\u001b[39;49m\u001b[43mfit\u001b[49m\u001b[43m(\u001b[49m\u001b[43m)\u001b[49m\n\u001b[0;32m      6\u001b[0m \u001b[38;5;28;01mif\u001b[39;00m graph_is_enabled:\n\u001b[0;32m      7\u001b[0m     graph\u001b[38;5;241m.\u001b[39mplot_clusters(globalKernelKMeansPP\u001b[38;5;241m.\u001b[39mlabels_[K])\n",
      "File \u001b[1;32mc:\\Users\\PAPASOFT INC\\Documents\\GitHub\\global-kernel-k-means-pp\\GlobalKernelKMeans.py:216\u001b[0m, in \u001b[0;36mGlobalKernelKMeansPP.fit\u001b[1;34m(self, X, y, sample_weight)\u001b[0m\n\u001b[0;32m    214\u001b[0m start_time \u001b[38;5;241m=\u001b[39m time\u001b[38;5;241m.\u001b[39mtime()\n\u001b[0;32m    215\u001b[0m \u001b[38;5;28mself\u001b[39m\u001b[38;5;241m.\u001b[39mn_iter_ \u001b[38;5;241m=\u001b[39m \u001b[38;5;241m0\u001b[39m\n\u001b[1;32m--> 216\u001b[0m centroid_candidates \u001b[38;5;241m=\u001b[39m \u001b[38;5;28mself\u001b[39m\u001b[38;5;241m.\u001b[39m_sampling(\u001b[38;5;28;43mself\u001b[39;49m\u001b[38;5;241;43m.\u001b[39;49m\u001b[43mcluster_distance_space_\u001b[49m\u001b[43m[\u001b[49m\u001b[43mk\u001b[49m\u001b[38;5;241;43m-\u001b[39;49m\u001b[38;5;241;43m1\u001b[39;49m\u001b[43m]\u001b[49m)\n\u001b[0;32m    217\u001b[0m \u001b[38;5;28mself\u001b[39m\u001b[38;5;241m.\u001b[39minertia_[k] \u001b[38;5;241m=\u001b[39m \u001b[38;5;28mfloat\u001b[39m(\u001b[38;5;124m'\u001b[39m\u001b[38;5;124minf\u001b[39m\u001b[38;5;124m'\u001b[39m)\n\u001b[0;32m    218\u001b[0m \u001b[38;5;28;01mfor\u001b[39;00m i \u001b[38;5;129;01min\u001b[39;00m centroid_candidates:\n",
      "\u001b[1;31mKeyError\u001b[0m: 1"
     ]
    }
   ],
   "source": [
    "if(True):\n",
    "    #sampling = 'batch'\n",
    "    sampling = 'sequential'\n",
    "    globalKernelKMeansPP = GlobalKernelKMeansPP(n_clusters=K, kernel_matrix=kernel_matrix, n_candidates=n_candidates, sampling=sampling, data_dir_path=f\"{data_dir_path}GlobalKernelKMeans_Dataset_{dataset_name}_Sampling_{sampling}_Kernel_{kernel}_K_{K}_Inits_{n_init}_Results.csv\", verbose=1)\n",
    "    globalKernelKMeansPP.fit()\n",
    "    if graph_is_enabled:\n",
    "        graph.plot_clusters(globalKernelKMeansPP.labels_[K])\n",
    "    else:\n",
    "        acc, pur, nmi, ari = evaluator.evaluate_model(y, globalKernelKMeansPP.labels_[K])\n",
    "        evaluation_results = General_Functions().append_to_file(y, globalKernelKMeansPP.labels_[K], globalKernelKMeansPP.inertia_[K], globalKernelKMeansPP.execution_times_,  f\"{data_dir_path}GlobalKernelKMeans_{sampling}_Results.txt\")\n",
    "        #General_Functions.create_csv(globalKernelKMeansPP.inertia_, globalKernelKMeansPP.n_iters_, globalKernelKMeansPP.execution_times_, f\"{data_dir_path}GlobalKernelKMeans_Dataset_{dataset_name}_Sampling_{sampling}_Kernel_{kernel}_K_{K}_Inits_{n_init}_Results.csv\")\n",
    "        #visualization.plot_tsne(X, y, data_dir_path= f\"{data_dir_path}GlobalKernelKMeans_{sampling}_\")"
   ]
  }
 ],
 "metadata": {
  "kernelspec": {
   "display_name": "Python 3 (ipykernel)",
   "language": "python",
   "name": "python3"
  },
  "language_info": {
   "codemirror_mode": {
    "name": "ipython",
    "version": 3
   },
   "file_extension": ".py",
   "mimetype": "text/x-python",
   "name": "python",
   "nbconvert_exporter": "python",
   "pygments_lexer": "ipython3",
   "version": "3.11.4"
  }
 },
 "nbformat": 4,
 "nbformat_minor": 5
}
