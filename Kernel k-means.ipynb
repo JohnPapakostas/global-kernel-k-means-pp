{
 "cells": [
  {
   "cell_type": "markdown",
   "id": "8157a5de",
   "metadata": {},
   "source": [
    "###  Libraries"
   ]
  },
  {
   "cell_type": "code",
   "execution_count": null,
   "id": "1ec8df66",
   "metadata": {},
   "outputs": [],
   "source": [
    "import numpy as np\n",
    "from sklearn.cluster import KMeans\n",
    "from sklearn.datasets import make_circles, make_moons\n",
    "from sklearn.metrics.pairwise import pairwise_kernels\n",
    "import matplotlib.pyplot as plt\n",
    "\n",
    "from tslearn.clustering import KernelKMeans\n",
    "\n",
    "from KernelKMeansPP import KernelKMeansPP"
   ]
  },
  {
   "cell_type": "markdown",
   "id": "a5718e92",
   "metadata": {},
   "source": [
    "### Global Variables"
   ]
  },
  {
   "cell_type": "code",
   "execution_count": null,
   "id": "de6245c2",
   "metadata": {},
   "outputs": [],
   "source": [
    "seed = 42"
   ]
  },
  {
   "cell_type": "markdown",
   "id": "d4f37574",
   "metadata": {},
   "source": [
    "### Load Dataset"
   ]
  },
  {
   "cell_type": "code",
   "execution_count": null,
   "id": "a18a6833",
   "metadata": {},
   "outputs": [],
   "source": [
    "n_samples = 500\n",
    "\n",
    "X, y = make_circles(n_samples=n_samples, factor=0.2, noise=0.05, random_state=seed)\n",
    "len(np.where(np.array(y) == 1)[0])\n",
    "\n",
    "# Find indices of samples with label 1\n",
    "indices_label_1 = np.where(np.array(y) == 0)[0]\n",
    "\n",
    "# Define the number of samples to remove\n",
    "num_samples_to_remove = 0\n",
    "\n",
    "# Randomly select indices to remove\n",
    "indices_to_remove = np.random.choice(indices_label_1, size=num_samples_to_remove, replace=False)\n",
    "\n",
    "# Remove selected samples\n",
    "X = np.delete(X, indices_to_remove, axis=0)\n",
    "y = np.delete(y, indices_to_remove)\n",
    "\n",
    "# Number of samples after removal\n",
    "print(\"Number of samples after removal:\", len(X))\n",
    "#X, y = make_moons(n_samples=n_samples, noise=0.1, random_state=seed)"
   ]
  },
  {
   "cell_type": "code",
   "execution_count": null,
   "id": "07679e57",
   "metadata": {},
   "outputs": [],
   "source": [
    "plt.scatter(X[:, 0], X[:, 1], c=y)"
   ]
  },
  {
   "cell_type": "code",
   "execution_count": null,
   "id": "b44388a2",
   "metadata": {},
   "outputs": [],
   "source": [
    "K = 2 \n",
    "kernel_matrix = pairwise_kernels(X, X, metric='rbf', gamma=5)"
   ]
  },
  {
   "cell_type": "code",
   "execution_count": null,
   "id": "f54c05ad",
   "metadata": {},
   "outputs": [],
   "source": [
    "kmeans = KMeans(n_clusters=2).fit(X)\n",
    "plt.scatter(X[:, 0], X[:, 1], c=kmeans.labels_)"
   ]
  },
  {
   "cell_type": "code",
   "execution_count": null,
   "id": "8139e828",
   "metadata": {},
   "outputs": [],
   "source": [
    "# Should find a way to init the fucking centers!\n",
    "kernel_kmeans = KernelKMeans(n_clusters=2, n_init=1, kernel='precomputed').fit(kernel_matrix)\n",
    "plt.scatter(X[:, 0], X[:, 1], c=kernel_kmeans.labels_)\n",
    "plt.show()"
   ]
  },
  {
   "cell_type": "code",
   "execution_count": null,
   "id": "f56cc1a7",
   "metadata": {},
   "outputs": [],
   "source": [
    "kernelKMeansPP =  KernelKMeansPP()\n",
    "kernelKMeansPP.kernel_kmeans_pp(X, 2, kernel_matrix, method='KkMeans')"
   ]
  }
 ],
 "metadata": {
  "kernelspec": {
   "display_name": "Python 3 (ipykernel)",
   "language": "python",
   "name": "python3"
  },
  "language_info": {
   "codemirror_mode": {
    "name": "ipython",
    "version": 3
   },
   "file_extension": ".py",
   "mimetype": "text/x-python",
   "name": "python",
   "nbconvert_exporter": "python",
   "pygments_lexer": "ipython3",
   "version": "3.11.4"
  }
 },
 "nbformat": 4,
 "nbformat_minor": 5
}
