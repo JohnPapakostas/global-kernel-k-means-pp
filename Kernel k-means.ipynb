{
 "cells": [
  {
   "cell_type": "markdown",
   "id": "8157a5de",
   "metadata": {},
   "source": [
    "###  Libraries"
   ]
  },
  {
   "cell_type": "code",
   "execution_count": null,
   "id": "1ec8df66",
   "metadata": {},
   "outputs": [],
   "source": [
    "import numpy as np\n",
    "from sklearn.cluster import KMeans\n",
    "from sklearn.datasets import make_circles, make_moons\n",
    "from sklearn.metrics.pairwise import pairwise_kernels\n",
    "import math\n",
    "import matplotlib.pyplot as plt\n",
    "\n",
    "from tslearn.clustering import KernelKMeans\n",
    "from InitialPartition import InitialPartition"
   ]
  },
  {
   "cell_type": "markdown",
   "id": "aad14b30",
   "metadata": {},
   "source": []
  },
  {
   "cell_type": "markdown",
   "id": "a5718e92",
   "metadata": {},
   "source": [
    "### Global Variables"
   ]
  },
  {
   "cell_type": "code",
   "execution_count": null,
   "id": "de6245c2",
   "metadata": {},
   "outputs": [],
   "source": [
    "seed = 42"
   ]
  },
  {
   "cell_type": "markdown",
   "id": "d4f37574",
   "metadata": {},
   "source": [
    "### Load Dataset"
   ]
  },
  {
   "cell_type": "code",
   "execution_count": null,
   "id": "a18a6833",
   "metadata": {},
   "outputs": [],
   "source": [
    "n_samples = 500\n",
    "\n",
    "X, y = make_circles(n_samples=n_samples, factor=0.2, noise=0.05, random_state=seed)\n",
    "len(np.where(np.array(y) == 1)[0])\n",
    "\n",
    "# Find indices of samples with label 1\n",
    "indices_label_1 = np.where(np.array(y) == 0)[0]\n",
    "\n",
    "# Define the number of samples to remove\n",
    "num_samples_to_remove = 0\n",
    "\n",
    "# Randomly select indices to remove\n",
    "indices_to_remove = np.random.choice(indices_label_1, size=num_samples_to_remove, replace=False)\n",
    "\n",
    "# Remove selected samples\n",
    "X = np.delete(X, indices_to_remove, axis=0)\n",
    "y = np.delete(y, indices_to_remove)\n",
    "\n",
    "# Number of samples after removal\n",
    "print(\"Number of samples after removal:\", len(X))\n",
    "#X, y = make_moons(n_samples=n_samples, noise=0.1, random_state=seed)"
   ]
  },
  {
   "cell_type": "code",
   "execution_count": null,
   "id": "07679e57",
   "metadata": {},
   "outputs": [],
   "source": [
    "plt.scatter(X[:, 0], X[:, 1], c=y)"
   ]
  },
  {
   "cell_type": "markdown",
   "id": "883e24f9",
   "metadata": {},
   "source": [
    "### We want a function that given the kernel and number of clusters to return me the initial partition using the kernel k-means++ algorithm"
   ]
  },
  {
   "cell_type": "code",
   "execution_count": null,
   "id": "490b794f",
   "metadata": {},
   "outputs": [],
   "source": [
    "initialPartition = InitialPartition()\n",
    "\n",
    "def find_cluster_indices(array, value):\n",
    "    return np.where(np.array(array) == value)[0]\n",
    "\n",
    "def custom_kernel_kmeans(X, centers_indices, initial_partition, kernel_matrix, max_iter=300, tol=1e-4):\n",
    "    n_samples = X.shape[0]\n",
    "    n_clusters = len(centers_indices)\n",
    "    distances = np.zeros((n_clusters,n_samples))\n",
    "    \n",
    "    for iter in range(max_iter):\n",
    "        \n",
    "        for i in range(n_clusters):\n",
    "            cluster_indices = find_cluster_indices(initial_partition, centers_indices[i])\n",
    "            n_cluster_samples =  len(cluster_indices)\n",
    "            stable_sum = (np.sum(kernel_matrix[k, l] for k in cluster_indices for l in cluster_indices)) / pow(n_cluster_samples, 2)\n",
    "            \n",
    "            for j in range(n_samples):\n",
    "                sample_sum = np.sum(kernel_matrix[j,index] for index in cluster_indices) / n_cluster_samples\n",
    "                distances[i,j] = kernel_matrix[j,j] - (2 * sample_sum) + stable_sum \n",
    "        \n",
    "        min_distances = np.min(distances, axis=0)\n",
    "        total_error = np.sum(min_distances)\n",
    "        print(f\"\\n Total Error is: {total_error}!\")\n",
    "        \n",
    "        next_partition = np.argmin(distances, axis=0)\n",
    "        are_equal = np.array_equal(initial_partition, next_partition)\n",
    "        if(are_equal):\n",
    "            print(f\"\\n Finished in {iter} iterations!\")\n",
    "            return np.unique(next_partition), next_partition, total_error\n",
    "        else:\n",
    "            initial_partition = next_partition\n",
    "            centers_indices = np.unique(next_partition)\n",
    "\n",
    "# 6 are good\n",
    "def kernel_kmeans_pp(X, K, kernel_matrix, n_init=6, method = 'KKmeanspp'):\n",
    "    min_total_error = math.inf\n",
    "\n",
    "    for _ in range(n_init):\n",
    "        centers_indices, partition = initialPartition.calculate_initial_partition(K, X, kernel_matrix, method)\n",
    "        centers_indices, partition, total_error = custom_kernel_kmeans(X, centers_indices, initial_partition = partition, kernel_matrix=kernel_matrix, max_iter=300, tol=1e-4)\n",
    "        print(f\"\\n centers_indices are: {centers_indices}!\")\n",
    "        if(total_error < min_total_error):\n",
    "            min_total_error = total_error\n",
    "            \n",
    "            plt.scatter(X[:, 0], X[:, 1], c = partition)\n",
    "            plt.show()"
   ]
  },
  {
   "cell_type": "code",
   "execution_count": null,
   "id": "b44388a2",
   "metadata": {},
   "outputs": [],
   "source": [
    "K = 2 \n",
    "kernel_matrix = pairwise_kernels(X, X, metric='rbf', gamma=5)"
   ]
  },
  {
   "cell_type": "code",
   "execution_count": null,
   "id": "f54c05ad",
   "metadata": {},
   "outputs": [],
   "source": [
    "kmeans = KMeans(n_clusters=2).fit(X)\n",
    "plt.scatter(X[:, 0], X[:, 1], c=kmeans.labels_)"
   ]
  },
  {
   "cell_type": "code",
   "execution_count": null,
   "id": "8139e828",
   "metadata": {},
   "outputs": [],
   "source": [
    "# Should find a way to init the fucking centers!\n",
    "kernel_kmeans = KernelKMeans(n_clusters=2, n_init=1, kernel='precomputed').fit(kernel_matrix)\n",
    "plt.scatter(X[:, 0], X[:, 1], c=kernel_kmeans.labels_)\n",
    "plt.show()"
   ]
  },
  {
   "cell_type": "code",
   "execution_count": null,
   "id": "f56cc1a7",
   "metadata": {},
   "outputs": [],
   "source": [
    "kernel_kmeans_pp(X, 2, kernel_matrix, n_init=10, method='KKmeans++')"
   ]
  }
 ],
 "metadata": {
  "kernelspec": {
   "display_name": "Python 3 (ipykernel)",
   "language": "python",
   "name": "python3"
  },
  "language_info": {
   "codemirror_mode": {
    "name": "ipython",
    "version": 3
   },
   "file_extension": ".py",
   "mimetype": "text/x-python",
   "name": "python",
   "nbconvert_exporter": "python",
   "pygments_lexer": "ipython3",
   "version": "3.11.4"
  }
 },
 "nbformat": 4,
 "nbformat_minor": 5
}
